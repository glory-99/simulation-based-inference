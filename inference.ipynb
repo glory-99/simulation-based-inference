{
 "cells": [
  {
   "cell_type": "code",
   "execution_count": 2,
   "metadata": {},
   "outputs": [],
   "source": [
    "import torch\n",
    "import torch.nn as nn\n",
    "import numpy as np\n",
    "import numpy.random as rng\n",
    "import matplotlib.pyplot as plt\n",
    "%matplotlib inline"
   ]
  },
  {
   "cell_type": "code",
   "execution_count": 3,
   "metadata": {},
   "outputs": [
    {
     "data": {
      "text/plain": [
       "device(type='cuda', index=0)"
      ]
     },
     "execution_count": 3,
     "metadata": {},
     "output_type": "execute_result"
    }
   ],
   "source": [
    "device = torch.device(\"cuda:0\" if torch.cuda.is_available() else \"cpu\")\n",
    "device"
   ]
  },
  {
   "cell_type": "code",
   "execution_count": 4,
   "metadata": {},
   "outputs": [],
   "source": [
    "X = np.load('X.npy')\n",
    "normalize_c = np.load('normalize_constant.npy')\n",
    "train_losses = np.load('train_losses.npy')\n",
    "val_losses = np.load('val_losses.npy')"
   ]
  },
  {
   "cell_type": "code",
   "execution_count": 5,
   "metadata": {},
   "outputs": [
    {
     "data": {
      "text/plain": [
       "array(567.64196324)"
      ]
     },
     "execution_count": 5,
     "metadata": {},
     "output_type": "execute_result"
    }
   ],
   "source": [
    "normalize_c"
   ]
  },
  {
   "cell_type": "code",
   "execution_count": 7,
   "metadata": {},
   "outputs": [
    {
     "data": {
      "image/png": "[encoded data removed]",
      "text/plain": [
       "<Figure size 432x288 with 1 Axes>"
      ]
     },
     "metadata": {
      "needs_background": "light"
     },
     "output_type": "display_data"
    }
   ],
   "source": [
    "plt.plot(range(train_losses.shape[0]), train_losses)\n",
    "plt.plot(range(train_losses.shape[0]), val_losses)\n",
    "plt.legend(['train loss', 'val loss'], loc=\"upper right\")\n",
    "plt.show()"
   ]
  },
  {
   "cell_type": "code",
   "execution_count": 8,
   "metadata": {},
   "outputs": [],
   "source": [
    "class MLP(nn.Module):\n",
    "    def __init__(self, N, p):\n",
    "        super(MLP, self).__init__()\n",
    "\n",
    "        self.fc1 = nn.Linear(N, 1024)\n",
    "        self.fc2 = nn.Linear(1024, 2048)\n",
    "        self.fc3 = nn.Linear(2048, 2048)\n",
    "        self.fc4 = nn.Linear(2048, 1024)\n",
    "        self.fc5 = nn.Linear(1024, p)\n",
    "        self.relu = nn.ReLU()\n",
    "        self.mseloss = nn.MSELoss()\n",
    "        self.bceloss = nn.BCEWithLogitsLoss()\n",
    "\n",
    "    def forward(self, input):\n",
    "        u = self.relu(self.fc1(input))\n",
    "        u = self.relu(self.fc2(u))\n",
    "        u = self.relu(self.fc3(u))\n",
    "        u = self.relu(self.fc4(u))\n",
    "        output = self.fc5(u)\n",
    "        return output\n",
    "\n",
    "    def get_mseloss(self, data, targ):\n",
    "        output = self.forward(data)\n",
    "        loss = self.mseloss(output, targ)\n",
    "        return loss\n",
    "\n",
    "    def get_bceloss(self, data, targ):\n",
    "        output = self.forward(data)\n",
    "        loss = self.bceloss(output, targ)\n",
    "        return loss"
   ]
  },
  {
   "cell_type": "code",
   "execution_count": 9,
   "metadata": {},
   "outputs": [
    {
     "data": {
      "text/plain": [
       "<All keys matched successfully>"
      ]
     },
     "execution_count": 9,
     "metadata": {},
     "output_type": "execute_result"
    }
   ],
   "source": [
    "md = MLP(1100, 1000)\n",
    "md.load_state_dict(torch.load(\"My_model.pt\"))"
   ]
  },
  {
   "cell_type": "code",
   "execution_count": 31,
   "metadata": {},
   "outputs": [],
   "source": [
    "true_beta = np.zeros((1000,1))\n",
    "true_beta[:20,0]=2"
   ]
  },
  {
   "cell_type": "code",
   "execution_count": 33,
   "metadata": {},
   "outputs": [],
   "source": [
    "Y_obs = X @ true_beta + rng.randn(100, 1)\n",
    "input = np.concatenate((Y_obs, X.T @ Y_obs), axis=0) / normalize_c"
   ]
  },
  {
   "cell_type": "code",
   "execution_count": 23,
   "metadata": {},
   "outputs": [
    {
     "data": {
      "text/plain": [
       "MLP(\n",
       "  (fc1): Linear(in_features=1100, out_features=1024, bias=True)\n",
       "  (fc2): Linear(in_features=1024, out_features=2048, bias=True)\n",
       "  (fc3): Linear(in_features=2048, out_features=2048, bias=True)\n",
       "  (fc4): Linear(in_features=2048, out_features=1024, bias=True)\n",
       "  (fc5): Linear(in_features=1024, out_features=1000, bias=True)\n",
       "  (relu): ReLU()\n",
       "  (mseloss): MSELoss()\n",
       "  (bceloss): BCEWithLogitsLoss()\n",
       ")"
      ]
     },
     "execution_count": 23,
     "metadata": {},
     "output_type": "execute_result"
    }
   ],
   "source": [
    "md.eval()"
   ]
  },
  {
   "cell_type": "code",
   "execution_count": 34,
   "metadata": {},
   "outputs": [
    {
     "data": {
      "text/plain": [
       "tensor([ 2.3497e-01,  3.2006e-01,  2.5131e-01,  2.5065e-01,  2.5891e-01,\n",
       "         2.0150e-01,  8.7933e-02,  3.1552e-01,  1.4118e-01,  2.7010e-01,\n",
       "         4.0263e-01,  2.1071e-01,  2.2476e-01,  2.6363e-01,  2.0602e-01,\n",
       "         2.3139e-01,  1.0463e-02,  1.6265e-01,  1.4837e-01,  9.6440e-02,\n",
       "        -2.4549e-02, -1.0608e-01,  2.7224e-02,  2.0846e-03,  2.7278e-02,\n",
       "        -7.0330e-02,  1.4183e-02,  1.3784e-01, -4.3852e-03, -8.1029e-02,\n",
       "         4.0207e-02,  4.3068e-02, -4.6469e-02,  2.2142e-01,  8.8808e-02,\n",
       "        -4.1039e-02,  2.2250e-02,  7.4135e-02, -5.2712e-02,  2.0278e-02,\n",
       "         9.3340e-02,  1.4753e-01,  1.4586e-02,  2.2460e-01,  8.4621e-02,\n",
       "        -1.3086e-01, -3.0438e-02, -7.3100e-02, -7.4548e-02,  1.0810e-01,\n",
       "         8.8635e-02,  6.1810e-02,  9.6820e-02, -4.8920e-02, -7.9199e-02,\n",
       "        -5.6537e-02, -7.8304e-02, -2.0728e-01,  5.8444e-02, -6.6084e-02,\n",
       "        -3.9849e-02, -3.9598e-02,  9.1954e-02,  5.5210e-02,  8.8892e-03,\n",
       "        -2.0380e-02,  1.0648e-01,  2.3981e-02,  3.5362e-02, -2.5320e-02,\n",
       "        -1.5975e-01,  5.3730e-02, -3.4409e-03,  9.6370e-02, -1.3322e-01,\n",
       "        -5.5368e-02, -8.8376e-02, -3.1578e-02, -1.0157e-01,  1.0953e-01,\n",
       "         1.6525e-01,  7.8567e-02, -4.8866e-02, -3.5570e-03, -2.4003e-02,\n",
       "        -1.2225e-02,  3.0011e-02, -1.5840e-01, -1.7528e-02, -5.8858e-02,\n",
       "         7.5375e-03, -4.1635e-02, -3.3664e-02,  8.5839e-02,  8.7192e-02,\n",
       "        -2.0003e-02, -2.4400e-02, -1.7090e-02, -1.7970e-01,  8.3156e-02,\n",
       "         5.3845e-02, -1.6973e-01,  8.5465e-02,  2.6671e-02,  5.6640e-02,\n",
       "         9.6786e-02, -6.1853e-02, -7.3127e-02, -5.9664e-02,  5.2183e-02,\n",
       "         7.8253e-02, -5.0976e-02, -3.1228e-03, -1.4061e-01,  9.7584e-02,\n",
       "        -8.3085e-02, -6.9978e-02, -2.0309e-02, -1.5101e-02, -1.9264e-01,\n",
       "         4.7904e-02, -6.4589e-02,  6.9521e-02, -3.4092e-02,  6.2818e-02,\n",
       "        -3.8356e-02,  2.5896e-02, -8.7051e-02,  3.7123e-02,  1.7230e-02,\n",
       "        -9.6195e-02,  1.7150e-01,  1.2594e-01,  3.9485e-02,  3.0616e-03,\n",
       "         8.6256e-02, -7.7920e-02,  2.0505e-01,  1.3330e-02,  1.4105e-01,\n",
       "        -6.6642e-02, -1.8504e-02, -2.9843e-02,  4.4937e-02, -4.0432e-02,\n",
       "        -3.4513e-02,  1.7326e-01,  2.5798e-03, -1.9686e-02,  4.7868e-02,\n",
       "         6.9377e-02,  8.8294e-03,  7.7525e-02, -2.4537e-02,  2.6094e-03,\n",
       "         9.1139e-02, -5.3302e-02, -1.9127e-02, -2.5194e-02, -3.9377e-02,\n",
       "         8.4527e-02, -1.0771e-01,  1.0264e-02,  1.1826e-01, -1.2361e-02,\n",
       "         6.5179e-02, -9.6073e-03,  1.2913e-02, -1.6035e-01,  2.1207e-02,\n",
       "         7.1516e-03, -1.1576e-01,  3.1658e-02,  8.7297e-03,  8.9956e-02,\n",
       "         2.2112e-02, -1.9903e-01, -4.3229e-02, -1.0419e-02, -2.3846e-02,\n",
       "         3.9130e-02,  2.7845e-02, -4.6728e-02, -5.9594e-02,  8.0512e-02,\n",
       "        -3.0129e-02, -2.1572e-02,  6.7805e-02, -9.3796e-05,  1.3317e-01,\n",
       "        -1.6533e-02, -1.7149e-02,  4.4077e-02,  2.0777e-02,  1.1630e-01,\n",
       "        -1.1027e-02,  1.0731e-01, -5.4681e-02, -3.4845e-02,  3.1772e-02,\n",
       "         1.3677e-01,  4.9914e-02,  2.2359e-02, -3.7106e-02,  3.5366e-02,\n",
       "        -1.9974e-01, -1.9424e-01,  8.9477e-02,  5.8688e-02,  4.6187e-02,\n",
       "        -9.5151e-02, -2.5252e-03,  2.1568e-02, -5.3652e-02, -8.3269e-02,\n",
       "         9.5611e-02, -2.7341e-02, -1.3331e-01,  4.1652e-02, -1.7342e-02,\n",
       "        -1.2290e-01,  1.1585e-01, -6.9679e-03, -1.2815e-01,  1.2012e-01,\n",
       "         1.0243e-01,  4.4248e-02,  3.0650e-01,  4.8798e-03,  1.6082e-01,\n",
       "        -6.5029e-02, -1.0394e-01, -4.5753e-02, -1.1876e-01,  2.1396e-02,\n",
       "        -2.5022e-02, -1.1984e-01, -1.7318e-01,  1.0270e-01, -2.6414e-02,\n",
       "        -5.2563e-02,  1.5950e-01,  8.6543e-02, -6.9008e-03, -3.6346e-02,\n",
       "        -7.8158e-02, -7.8420e-02, -3.4549e-02,  4.2972e-02,  1.6011e-01,\n",
       "        -8.7804e-02,  5.4722e-02, -1.8178e-02,  1.6024e-01,  1.6612e-01,\n",
       "         1.5497e-01,  4.4690e-02, -2.0486e-01, -1.2121e-02, -1.7260e-02,\n",
       "         9.3960e-02,  2.3971e-02,  1.2670e-01, -1.6342e-02, -2.3004e-01,\n",
       "         4.5457e-03, -8.3016e-03,  1.1695e-01, -2.5267e-03,  4.3539e-02,\n",
       "        -1.4801e-01, -1.0342e-01, -1.6353e-01, -8.3871e-03, -9.9861e-02,\n",
       "         8.4337e-02,  8.6461e-03, -4.2389e-02,  1.1406e-02, -2.0013e-02,\n",
       "         1.2610e-01,  1.5171e-01, -9.7828e-02, -1.3690e-02, -3.0773e-02,\n",
       "        -2.5544e-02, -4.5008e-02,  3.1605e-03,  6.7245e-02,  2.3379e-02,\n",
       "         1.2007e-01, -2.0018e-01,  1.6794e-02,  4.5354e-02, -1.4141e-02,\n",
       "        -2.3628e-02,  8.5947e-02, -1.9518e-02,  3.0736e-02,  1.1120e-01,\n",
       "         1.1095e-02, -1.8223e-01,  8.2453e-02,  3.1034e-02,  9.2742e-02,\n",
       "         9.1520e-02,  1.4715e-01, -9.3807e-03,  1.0352e-01, -5.7773e-02,\n",
       "         6.8208e-04,  8.5812e-02,  5.5107e-02, -7.2274e-02,  6.0328e-04,\n",
       "         1.7948e-02, -7.7997e-03, -7.0537e-02,  8.6955e-02,  2.0159e-01,\n",
       "         3.8031e-02, -4.8272e-02, -4.0787e-02, -3.9336e-02,  7.3760e-02,\n",
       "        -7.7452e-02, -1.4736e-01, -4.6417e-02,  8.8597e-02, -1.3869e-01,\n",
       "         1.5421e-04,  1.1451e-01,  6.3366e-02,  1.4244e-02, -1.1668e-01,\n",
       "        -1.1319e-02,  1.4550e-01, -7.6192e-03,  1.6673e-02,  3.8766e-02,\n",
       "         5.7994e-02, -1.1001e-03,  5.0145e-02,  6.3226e-02, -3.9427e-02,\n",
       "        -3.9066e-02, -5.4346e-02,  6.3709e-02,  1.9084e-01, -5.1488e-02,\n",
       "         1.5317e-01, -9.5939e-02,  7.0633e-02, -5.3124e-02,  3.7722e-02,\n",
       "         4.1215e-02, -5.6046e-02,  5.7502e-02,  8.8056e-02, -1.4595e-01,\n",
       "         1.8403e-01, -9.7965e-02, -1.7911e-02,  5.0404e-02,  2.4350e-02,\n",
       "         4.9434e-02,  3.1193e-02, -9.0381e-02,  2.0338e-01, -3.4755e-02,\n",
       "        -5.0332e-02,  6.2538e-02, -2.2936e-02, -1.8860e-02, -2.9158e-02,\n",
       "        -6.3477e-02,  9.7372e-02, -1.1197e-01, -1.5003e-01, -1.2928e-01,\n",
       "        -2.1178e-01,  7.6461e-02, -1.4873e-01, -5.0833e-02, -1.1853e-01,\n",
       "         1.1943e-01, -1.8746e-01, -7.1489e-02,  3.9739e-02, -4.8353e-02,\n",
       "        -8.9253e-03, -6.0981e-02, -3.2336e-02,  1.4023e-02,  6.3240e-02,\n",
       "        -6.8046e-02, -4.5233e-03, -1.1365e-01, -1.6318e-01, -1.9771e-02,\n",
       "        -9.1630e-02,  4.1226e-02,  9.7242e-02, -8.7550e-02,  3.1449e-03,\n",
       "        -6.0079e-02, -1.8878e-02, -5.0491e-02,  7.1655e-02, -1.3145e-01,\n",
       "         1.4300e-01, -2.3125e-01,  1.2116e-01, -8.3048e-02,  2.9042e-02,\n",
       "        -1.5606e-01, -6.8898e-02,  6.6964e-02,  9.1312e-02,  9.1347e-02,\n",
       "         8.1673e-02,  1.0363e-01,  5.2456e-02, -8.2665e-02, -4.4396e-02,\n",
       "         6.9225e-03, -9.2048e-03,  1.2943e-01,  1.3898e-01, -2.6601e-03,\n",
       "         1.4696e-01,  7.5136e-02,  9.3346e-02,  6.1494e-02, -2.5266e-02,\n",
       "        -1.0661e-01,  5.6840e-02,  7.0955e-02,  1.9688e-01,  1.1061e-01,\n",
       "         1.0914e-01, -1.7009e-02,  3.6731e-02, -1.3374e-01,  4.4632e-02,\n",
       "         4.6633e-01, -5.0307e-02,  7.1544e-02,  3.7852e-02, -6.4976e-02,\n",
       "        -9.7306e-02,  1.9394e-02,  1.2393e-01,  6.7116e-02,  2.1748e-02,\n",
       "        -1.0441e-01, -1.4694e-01,  3.9391e-02,  1.1027e-01,  8.6184e-02,\n",
       "        -5.9941e-02,  1.3949e-01,  1.0713e-01,  1.0454e-01, -7.7859e-02,\n",
       "        -8.8704e-02,  2.5839e-02,  3.1670e-02, -4.7925e-02,  1.6106e-01,\n",
       "        -6.1709e-02,  9.9084e-02,  8.7755e-02,  4.2905e-02,  3.5802e-02,\n",
       "        -8.1973e-02,  5.7321e-02, -5.2235e-02,  9.4609e-02,  3.5122e-02,\n",
       "         1.1121e-01, -1.5117e-01, -1.7656e-01, -9.6180e-02,  8.7461e-03,\n",
       "         3.5705e-02, -1.2748e-01, -4.9918e-02,  7.0270e-02,  7.6578e-02,\n",
       "        -7.0031e-02,  3.8422e-02,  6.7038e-02, -2.8496e-02, -3.5868e-04,\n",
       "         3.6647e-02, -1.2810e-01, -2.7502e-02, -1.1079e-01, -2.5791e-02,\n",
       "        -1.2566e-01,  8.4535e-02,  7.3414e-05, -1.4564e-01, -3.1567e-03,\n",
       "         1.0721e-01, -1.1778e-01, -1.7016e-01, -6.9032e-02, -1.5296e-02,\n",
       "        -1.4010e-02,  8.1623e-02, -1.0635e-01, -6.8954e-03, -7.0697e-02,\n",
       "        -1.3530e-01, -1.1165e-01, -9.0713e-03,  7.2333e-02,  1.6835e-01,\n",
       "        -2.4802e-02,  1.0809e-01,  6.7808e-02, -6.8489e-02,  1.5597e-01,\n",
       "        -9.6496e-02, -5.0620e-01,  1.0744e-03,  6.6241e-02,  1.3258e-02,\n",
       "         8.5105e-02,  8.7857e-02, -7.5243e-02, -4.3255e-04,  3.0663e-02,\n",
       "        -1.1248e-01, -1.8011e-01, -1.0411e-01,  1.3825e-01,  3.9608e-02,\n",
       "         2.8737e-02,  4.3479e-02,  6.2682e-02, -2.2853e-03,  1.5878e-02,\n",
       "         1.7930e-01,  4.1485e-02, -6.4189e-03,  2.2763e-02, -8.6133e-02,\n",
       "        -6.7989e-02,  1.2100e-01,  1.3543e-01,  5.4943e-02, -9.7517e-02,\n",
       "        -2.1150e-02, -6.1994e-02, -4.2613e-03, -6.0258e-02,  8.5050e-02,\n",
       "        -3.9209e-02,  3.2378e-02, -3.2100e-02, -9.7049e-02,  1.5714e-01,\n",
       "        -1.4010e-01,  1.9246e-02,  3.4106e-02,  6.0002e-02,  6.4876e-02,\n",
       "         1.1918e-02, -5.2888e-03,  8.6465e-03, -1.2290e-01,  9.3697e-02,\n",
       "        -6.0490e-02, -7.2813e-02,  1.4652e-01, -1.7591e-02,  4.4178e-02,\n",
       "         4.7255e-02,  3.6010e-03, -5.5593e-02,  7.5868e-03, -6.7589e-02,\n",
       "         1.6237e-01, -9.5179e-02, -1.2780e-02, -2.2290e-02,  1.8946e-01,\n",
       "         8.0958e-02, -6.2297e-02,  1.1148e-01,  7.2792e-02, -8.7748e-02,\n",
       "         3.0415e-02, -1.2432e-01, -2.3926e-02,  1.3377e-01,  1.0280e-01,\n",
       "         6.1639e-02,  9.5386e-02, -5.1342e-02,  8.8237e-02,  2.2727e-02,\n",
       "         4.5546e-02, -8.5388e-02,  3.2414e-02,  1.0887e-01,  1.9778e-02,\n",
       "        -6.8057e-03,  6.5780e-02,  6.3619e-02,  1.4896e-02,  4.4425e-02,\n",
       "         6.2598e-02, -1.1910e-01, -2.6132e-02,  5.4218e-02,  1.2473e-01,\n",
       "         1.7172e-03,  1.1023e-01, -4.2065e-02, -5.8496e-02,  6.3950e-02,\n",
       "         1.1930e-01,  2.0680e-02,  8.4766e-02,  4.5298e-03, -6.7710e-02,\n",
       "         6.8406e-03, -7.8597e-02,  5.9681e-02, -3.4230e-02,  1.6183e-01,\n",
       "         3.5923e-02,  7.4270e-02, -7.1060e-02,  1.2196e-02, -9.6374e-02,\n",
       "        -8.1926e-02,  2.9310e-02, -6.5130e-02, -2.0822e-01,  5.0999e-03,\n",
       "        -5.2491e-02, -1.8433e-03,  3.4029e-02, -3.5618e-02,  7.1163e-03,\n",
       "        -1.0689e-01,  3.9143e-03,  4.8212e-02,  3.3726e-02, -7.7107e-02,\n",
       "        -1.5040e-01,  1.3290e-01, -8.5663e-03,  1.0983e-01,  3.5489e-02,\n",
       "        -1.6718e-03, -4.9664e-02,  1.6353e-02, -1.4044e-02, -4.0875e-02,\n",
       "        -1.2461e-01,  7.1394e-02, -2.0269e-02, -1.1918e-01, -6.4803e-02,\n",
       "        -5.1890e-02, -3.7559e-02, -2.4710e-02, -1.1600e-01,  6.4387e-02,\n",
       "        -5.1712e-02,  6.5672e-02,  1.0989e-01, -1.0603e-01, -1.3255e-01,\n",
       "        -4.5867e-02,  9.4708e-02,  3.8383e-02,  1.0778e-02, -1.4547e-01,\n",
       "         6.2559e-03, -2.4218e-02, -1.2238e-01,  8.7243e-02,  1.0766e-01,\n",
       "        -4.9381e-02,  2.8004e-02, -6.2321e-03, -1.0389e-01, -4.0945e-03,\n",
       "        -3.1750e-02, -6.5120e-02,  2.0941e-02, -1.9246e-01, -1.9225e-02,\n",
       "         8.8055e-02, -5.8645e-02, -5.8231e-02,  1.0529e-01, -5.7707e-02,\n",
       "         1.7541e-01,  2.0002e-02, -3.6047e-02, -1.9294e-03, -1.2123e-01,\n",
       "        -4.2889e-02,  2.2862e-02, -7.8360e-03,  3.1410e-02,  5.3321e-02,\n",
       "        -5.1907e-02, -1.3654e-01, -6.7400e-02, -7.7863e-03, -3.3561e-04,\n",
       "         2.0813e-02,  8.2148e-02,  6.7064e-03,  1.2779e-01, -6.9546e-02,\n",
       "        -7.9418e-02,  1.7393e-02, -1.1433e-01, -3.0874e-02, -2.4943e-01,\n",
       "        -8.6347e-02, -8.4720e-02, -8.0314e-02,  2.4255e-02, -1.4182e-01,\n",
       "         3.4734e-02, -5.9722e-02, -6.8259e-02, -9.1505e-02,  1.1906e-01,\n",
       "         8.8994e-02, -3.0382e-02,  1.0050e-01,  5.3899e-02, -2.9250e-02,\n",
       "         1.0765e-01,  7.9306e-02, -1.7156e-01, -6.1661e-02,  1.1011e-01,\n",
       "         1.1865e-01,  3.2624e-02, -2.2040e-02, -1.2786e-02,  1.5687e-01,\n",
       "         1.4844e-01, -9.7419e-02, -3.1396e-03,  2.0196e-02, -5.3722e-02,\n",
       "        -1.3653e-01, -8.7183e-02, -1.6962e-01, -2.3507e-02,  9.9203e-02,\n",
       "        -8.2390e-02,  5.3294e-03,  3.6171e-02,  5.7128e-02,  9.7801e-02,\n",
       "         1.0602e-03, -5.1604e-03, -9.4307e-02,  6.5192e-02, -1.8875e-02,\n",
       "         2.1831e-02,  1.3212e-01,  1.8621e-01, -1.2006e-02, -5.9275e-02,\n",
       "        -9.4124e-02, -5.4152e-02, -4.5601e-02,  1.0943e-02,  4.2538e-02,\n",
       "         1.4989e-02, -3.9615e-02, -1.1838e-01, -4.5092e-02, -7.8183e-02,\n",
       "        -2.3800e-01, -4.7567e-02, -9.1988e-02,  4.4715e-02,  3.7550e-03,\n",
       "         7.2739e-02,  1.6962e-02,  4.5894e-02, -6.9151e-02, -7.9117e-02,\n",
       "        -6.0494e-02, -2.9011e-02, -8.1910e-02, -4.9614e-02,  6.3327e-02,\n",
       "        -2.0811e-02,  5.5591e-03, -4.9139e-02, -1.9494e-02, -2.7741e-02,\n",
       "         8.5518e-02, -7.0774e-02,  4.4363e-02, -8.5042e-02, -2.4392e-02,\n",
       "        -3.9397e-02, -2.3036e-01, -1.3345e-01, -1.1291e-01, -4.1103e-02,\n",
       "         1.4723e-01, -6.1040e-02, -1.1984e-01, -3.0566e-02, -6.9941e-02,\n",
       "         1.5255e-02, -1.8787e-01, -1.8467e-01, -6.6191e-03, -7.4847e-02,\n",
       "         1.6457e-02, -4.6271e-02, -5.8126e-03, -6.9727e-02, -3.4359e-02,\n",
       "        -1.3664e-01,  4.2163e-02,  6.6787e-02,  1.9614e-01, -1.5722e-01,\n",
       "         1.9584e-01, -1.7960e-01,  1.5272e-01,  1.7444e-01, -1.0647e-01,\n",
       "         5.3127e-02,  1.5707e-02, -5.7669e-02,  4.1582e-02,  2.0833e-01,\n",
       "         6.2259e-02, -3.2119e-02,  2.0671e-02,  1.5562e-02, -7.6537e-02,\n",
       "         1.9690e-01,  5.7116e-02, -3.4548e-02, -6.6642e-02, -3.7465e-02,\n",
       "        -9.0528e-02, -8.6951e-02, -1.0502e-02,  8.8504e-02,  5.4351e-02,\n",
       "         3.3042e-02,  3.6962e-03,  1.2671e-01, -1.3408e-01, -2.1175e-03,\n",
       "        -1.9217e-01,  9.9225e-02, -4.5635e-02,  1.2662e-02,  1.8125e-01,\n",
       "         2.2937e-01,  3.8577e-02, -6.5732e-02,  5.1058e-02, -2.6880e-02,\n",
       "         8.9153e-02, -5.2109e-02, -7.2414e-02,  2.3141e-02,  1.3744e-02,\n",
       "         1.8605e-01, -9.9884e-03,  7.7905e-02, -1.2667e-01,  9.1787e-02,\n",
       "         7.3326e-02,  3.7126e-02,  5.6106e-02,  1.1912e-01,  3.2389e-02,\n",
       "        -3.1242e-02,  2.4493e-02, -5.2457e-02, -1.0521e-01,  8.9935e-03,\n",
       "         7.0360e-04,  1.5454e-01,  1.0940e-01, -1.0087e-01, -2.2073e-01,\n",
       "        -5.5283e-03, -1.4678e-02, -6.4283e-03,  4.4259e-02,  1.2536e-01,\n",
       "        -7.4585e-03, -7.9194e-02,  1.1170e-01,  5.6645e-02, -4.8297e-02,\n",
       "        -1.1536e-01, -3.0008e-02, -8.5807e-02,  1.2611e-01, -1.1146e-01,\n",
       "        -4.5735e-02, -4.9588e-02, -2.7914e-02, -1.6121e-02,  7.8085e-02,\n",
       "        -2.7436e-02, -1.5119e-02,  2.7409e-02,  1.6999e-01, -2.8274e-01,\n",
       "         1.1744e-01, -4.5495e-02,  1.0523e-02, -1.0670e-01, -4.3178e-02,\n",
       "        -5.0574e-02,  2.6660e-02, -8.0757e-04,  5.7685e-02,  3.2895e-02,\n",
       "         5.1645e-03,  5.4005e-03,  1.5479e-03,  7.0694e-03,  7.8814e-02,\n",
       "         6.7119e-02, -5.6011e-02, -2.9585e-02, -1.9130e-02,  2.2287e-02,\n",
       "         5.8918e-02, -1.4487e-01, -1.4548e-01, -3.3279e-02, -7.8616e-02,\n",
       "         9.1000e-02,  7.6932e-02,  4.9682e-02,  2.2892e-01,  1.1338e-01,\n",
       "        -2.8590e-02,  3.9330e-02,  1.8564e-02, -2.5722e-01,  1.3804e-01,\n",
       "        -7.8582e-03,  7.1580e-02, -2.5164e-02,  1.7236e-01, -7.1665e-02,\n",
       "         1.5287e-01,  4.7401e-02,  5.9917e-02,  4.7631e-02,  9.8268e-02,\n",
       "         8.3478e-02, -1.3285e-01, -5.3738e-02, -4.1052e-02, -3.6537e-02,\n",
       "        -2.8110e-02,  5.6703e-02, -8.2979e-02,  5.8031e-03, -3.0862e-02,\n",
       "         1.4226e-01, -4.9616e-02,  4.3276e-03, -4.9713e-02,  2.6135e-02,\n",
       "        -5.6332e-02, -1.0578e-01, -1.8333e-01, -1.3472e-03,  3.0478e-02,\n",
       "        -5.7013e-02,  1.6836e-02, -3.2047e-02, -6.2104e-02, -2.6065e-02],\n",
       "       grad_fn=<AddBackward0>)"
      ]
     },
     "execution_count": 34,
     "metadata": {},
     "output_type": "execute_result"
    }
   ],
   "source": [
    "input = torch.from_numpy(input.reshape(-1)).type(torch.float)\n",
    "md(input)"
   ]
  },
  {
   "cell_type": "code",
   "execution_count": 35,
   "metadata": {},
   "outputs": [
    {
     "data": {
      "image/png": "[encoded data removed]",
      "text/plain": [
       "<Figure size 432x288 with 1 Axes>"
      ]
     },
     "metadata": {
      "needs_background": "light"
     },
     "output_type": "display_data"
    }
   ],
   "source": [
    "output = md(input).detach().numpy()\n",
    "plt.plot(output)\n",
    "plt.show()"
   ]
  }
 ],
 "metadata": {
  "kernelspec": {
   "display_name": "Python 3.7.9 ('pytorch')",
   "language": "python",
   "name": "python3"
  },
  "language_info": {
   "codemirror_mode": {
    "name": "ipython",
    "version": 3
   },
   "file_extension": ".py",
   "mimetype": "text/x-python",
   "name": "python",
   "nbconvert_exporter": "python",
   "pygments_lexer": "ipython3",
   "version": "3.7.9"
  },
  "vscode": {
   "interpreter": {
    "hash": "28f8cf0a8a4d3996c532b07e251eb4af62f7beb2b6ca98348312838517986615"
   }
  }
 },
 "nbformat": 4,
 "nbformat_minor": 2
}
