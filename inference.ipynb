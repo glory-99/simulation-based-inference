{
 "cells": [
  {
   "cell_type": "code",
   "execution_count": 7,
   "metadata": {},
   "outputs": [],
   "source": [
    "import torch\n",
    "import torch.nn as nn\n",
    "import numpy as np\n",
    "import numpy.random as rng\n",
    "import matplotlib.pyplot as plt\n",
    "%matplotlib inline"
   ]
  },
  {
   "cell_type": "code",
   "execution_count": 2,
   "metadata": {},
   "outputs": [
    {
     "data": {
      "text/plain": [
       "device(type='cuda', index=0)"
      ]
     },
     "execution_count": 2,
     "metadata": {},
     "output_type": "execute_result"
    }
   ],
   "source": [
    "device = torch.device(\"cuda:0\" if torch.cuda.is_available() else \"cpu\")\n",
    "device"
   ]
  },
  {
   "cell_type": "code",
   "execution_count": 3,
   "metadata": {},
   "outputs": [],
   "source": [
    "X = np.load('X.npy')\n",
    "normalize_c = np.load('normalize_constant.npy')"
   ]
  },
  {
   "cell_type": "code",
   "execution_count": 4,
   "metadata": {},
   "outputs": [
    {
     "data": {
      "text/plain": [
       "array(630.48137617)"
      ]
     },
     "execution_count": 4,
     "metadata": {},
     "output_type": "execute_result"
    }
   ],
   "source": [
    "normalize_c"
   ]
  },
  {
   "cell_type": "code",
   "execution_count": 8,
   "metadata": {},
   "outputs": [],
   "source": [
    "class MLP(nn.Module):\n",
    "    def __init__(self, N, p):\n",
    "        super(MLP, self).__init__()\n",
    "\n",
    "        self.fc1 = nn.Linear(N, 1024)\n",
    "        self.fc2 = nn.Linear(1024, 2048)\n",
    "        self.fc3 = nn.Linear(2048, 2048)\n",
    "        self.fc4 = nn.Linear(2048, 1024)\n",
    "        self.fc5 = nn.Linear(1024, p)\n",
    "        self.relu = nn.ReLU()\n",
    "        self.mseloss = nn.MSELoss()\n",
    "        self.bceloss = nn.BCEWithLogitsLoss()\n",
    "\n",
    "    def forward(self, input):\n",
    "        u = self.relu(self.fc1(input))\n",
    "        u = self.relu(self.fc2(u))\n",
    "        u = self.relu(self.fc3(u))\n",
    "        u = self.relu(self.fc4(u))\n",
    "        output = self.fc5(u)\n",
    "        return output\n",
    "\n",
    "    def get_mseloss(self, data, targ):\n",
    "        output = self.forward(data)\n",
    "        loss = self.mseloss(output, targ)\n",
    "        return loss\n",
    "\n",
    "    def get_bceloss(self, data, targ):\n",
    "        output = self.forward(data)\n",
    "        loss = self.bceloss(output, targ)\n",
    "        return loss"
   ]
  },
  {
   "cell_type": "code",
   "execution_count": 9,
   "metadata": {},
   "outputs": [
    {
     "data": {
      "text/plain": [
       "<All keys matched successfully>"
      ]
     },
     "execution_count": 9,
     "metadata": {},
     "output_type": "execute_result"
    }
   ],
   "source": [
    "md = MLP(1100, 1000)\n",
    "md.load_state_dict(torch.load(\"My_model.pt\"))"
   ]
  },
  {
   "cell_type": "code",
   "execution_count": 10,
   "metadata": {},
   "outputs": [],
   "source": [
    "true_beta = np.zeros((1000,1))\n",
    "true_beta[:4,0]=2"
   ]
  },
  {
   "cell_type": "code",
   "execution_count": 11,
   "metadata": {},
   "outputs": [],
   "source": [
    "Y_obs = X @ true_beta + rng.randn(100, 1)\n",
    "input = np.concatenate((Y_obs, X.T @ Y_obs), axis=0) / normalize_c"
   ]
  },
  {
   "cell_type": "code",
   "execution_count": 12,
   "metadata": {},
   "outputs": [
    {
     "data": {
      "text/plain": [
       "MLP(\n",
       "  (fc1): Linear(in_features=1100, out_features=1024, bias=True)\n",
       "  (fc2): Linear(in_features=1024, out_features=2048, bias=True)\n",
       "  (fc3): Linear(in_features=2048, out_features=2048, bias=True)\n",
       "  (fc4): Linear(in_features=2048, out_features=1024, bias=True)\n",
       "  (fc5): Linear(in_features=1024, out_features=1000, bias=True)\n",
       "  (relu): ReLU()\n",
       "  (mseloss): MSELoss()\n",
       "  (bceloss): BCEWithLogitsLoss()\n",
       ")"
      ]
     },
     "execution_count": 12,
     "metadata": {},
     "output_type": "execute_result"
    }
   ],
   "source": [
    "md.eval()"
   ]
  },
  {
   "cell_type": "code",
   "execution_count": 13,
   "metadata": {},
   "outputs": [
    {
     "data": {
      "text/plain": [
       "tensor([ 2.0221e-01,  2.3981e-01,  1.4861e+00,  2.0830e-01,  4.8049e-02,\n",
       "        -1.1098e-02, -4.8326e-02,  8.5872e-02, -1.7846e-03, -3.2151e-02,\n",
       "         3.4671e-02,  1.6798e-02, -1.7405e-02,  1.5729e-02, -4.3610e-02,\n",
       "        -3.4839e-02,  4.1039e-02,  1.7261e-03,  4.1479e-02,  2.9619e-02,\n",
       "         1.3458e-02, -3.7680e-02, -3.7255e-02, -1.5830e-02,  5.0001e-03,\n",
       "        -2.4773e-02,  1.4522e-03, -1.1566e-02, -1.2533e-02, -1.9105e-02,\n",
       "         3.4090e-02, -4.8616e-02, -5.8002e-02, -1.8296e-02, -3.1425e-02,\n",
       "         1.3835e-02, -2.7291e-02,  2.2722e-02, -1.2817e-02, -3.5116e-02,\n",
       "         1.0812e-02, -1.8511e-02, -7.1309e-02, -6.2598e-02,  1.8113e-02,\n",
       "        -5.8643e-02, -1.5097e-02, -3.5820e-02, -4.4708e-02,  7.1807e-02,\n",
       "        -1.1878e-02, -5.3693e-02, -6.8594e-03,  1.9231e-02, -3.7487e-02,\n",
       "         2.1301e-02,  2.2325e-02,  1.5014e-03,  4.9786e-04,  1.1245e-02,\n",
       "        -2.4661e-02,  9.4079e-03,  8.2568e-02, -1.0352e-01, -3.7014e-02,\n",
       "        -2.0450e-02,  2.5174e-02, -7.3460e-03,  3.0648e-04,  5.8576e-02,\n",
       "         2.5435e-02,  4.1510e-02, -3.8843e-02, -6.2771e-03, -4.1656e-02,\n",
       "         4.8940e-02,  2.5905e-02, -9.8255e-03, -1.7929e-02,  3.6982e-02,\n",
       "        -5.2431e-03,  4.3746e-02,  2.0512e-02,  3.0970e-03,  4.0707e-02,\n",
       "        -5.3765e-02, -1.3381e-02, -3.8220e-03, -5.1764e-03, -3.4736e-02,\n",
       "        -3.1987e-02, -5.5060e-02,  2.5032e-02, -1.5509e-02,  3.9958e-03,\n",
       "        -6.8913e-02,  4.0242e-02,  3.3692e-03,  2.2376e-02,  6.5517e-02,\n",
       "         6.5400e-03, -2.2360e-02,  7.7688e-03, -3.8367e-02,  2.6272e-03,\n",
       "        -2.7298e-02, -1.4390e-02,  6.9918e-02,  3.3628e-02, -3.0951e-02,\n",
       "         1.5628e-02, -2.1110e-02, -3.1469e-02, -3.1744e-02, -6.2372e-03,\n",
       "        -5.2313e-02, -3.2054e-02, -3.2105e-02, -2.0711e-02,  4.4562e-02,\n",
       "        -4.5118e-02, -6.9970e-04, -5.5914e-02,  6.2894e-02, -1.0950e-03,\n",
       "         4.8363e-02,  1.4277e-02,  3.9997e-02,  5.4738e-02, -9.2889e-02,\n",
       "        -1.6485e-02, -2.8444e-02,  1.5455e-02,  1.1839e-01, -1.6944e-02,\n",
       "         5.5455e-02, -4.3607e-02,  4.3167e-02, -7.6534e-02,  1.1769e-02,\n",
       "        -3.6524e-02,  4.5214e-02, -1.5689e-02, -2.7480e-02,  9.5964e-03,\n",
       "         2.6841e-02, -4.0426e-02,  3.6367e-02,  3.5184e-02,  3.3270e-02,\n",
       "         2.7405e-02, -3.7476e-04,  6.7454e-02, -2.0612e-02, -4.9887e-02,\n",
       "        -4.5448e-03, -1.5580e-02, -2.9501e-02, -2.1050e-02,  1.5111e-02,\n",
       "         2.5133e-02, -5.9562e-02,  8.6085e-02, -8.9719e-02, -3.1622e-02,\n",
       "         7.2384e-02, -7.6208e-03, -4.6595e-02, -4.3278e-03, -2.3650e-02,\n",
       "        -7.0507e-03,  5.8120e-02,  3.3215e-02, -5.2754e-02, -2.5646e-02,\n",
       "        -4.7341e-02,  2.9208e-03,  5.0268e-03,  6.0160e-02,  2.7300e-02,\n",
       "         2.9200e-02,  4.2548e-02,  6.9451e-04, -4.9667e-02, -6.9175e-02,\n",
       "        -6.6313e-04, -4.1899e-02,  1.4214e-02,  5.6777e-02,  5.6389e-03,\n",
       "        -7.4926e-02,  2.1770e-02, -6.7802e-02, -3.2175e-02,  5.9964e-02,\n",
       "         2.0730e-02,  1.3094e-02,  3.1315e-02, -2.2340e-02, -2.1161e-02,\n",
       "        -8.4102e-03, -3.6665e-02,  3.1508e-02,  2.9862e-02, -2.9032e-02,\n",
       "         4.4309e-02,  3.5599e-02, -2.9608e-02,  2.6253e-02,  2.6372e-02,\n",
       "         1.4903e-02, -2.2224e-02, -1.1236e-02, -5.7491e-02,  2.2964e-02,\n",
       "         5.8897e-02,  1.9730e-02, -3.0457e-03,  2.0375e-02, -6.2207e-02,\n",
       "        -6.7050e-02, -9.1072e-02, -3.7901e-02, -1.8852e-02,  2.4025e-02,\n",
       "         1.2481e-02,  1.3428e-02,  1.3415e-02, -2.4875e-03, -1.5068e-02,\n",
       "         3.3078e-03,  6.8300e-03, -9.1578e-02,  6.4063e-03,  3.6378e-02,\n",
       "         5.9693e-02,  1.5727e-02,  3.3235e-02, -2.7233e-04,  5.5698e-02,\n",
       "        -3.2090e-02,  2.3170e-02,  2.4773e-02,  2.3015e-02,  4.9185e-02,\n",
       "        -5.0385e-02,  2.0516e-02, -4.1264e-02, -3.8113e-02, -6.1118e-02,\n",
       "        -5.8139e-02, -3.0757e-02,  1.5506e-02, -5.8305e-02,  7.5764e-02,\n",
       "         4.3439e-03, -1.9171e-02, -9.7966e-02, -9.5609e-02,  3.9169e-03,\n",
       "         1.8188e-02, -5.8740e-02, -8.8680e-03,  7.1769e-02,  1.1860e-02,\n",
       "         5.7060e-03,  5.8079e-02,  1.4772e-02,  7.7426e-04, -5.6608e-02,\n",
       "         1.8311e-02,  7.9132e-02, -2.8220e-02, -1.0221e-02,  1.9733e-02,\n",
       "         4.7197e-02, -9.9357e-03, -9.1107e-02,  3.7161e-02, -7.5376e-02,\n",
       "        -1.1251e-02,  6.5920e-03,  9.0617e-02,  4.0516e-03,  2.3939e-02,\n",
       "        -1.2951e-03,  1.6844e-03, -3.6072e-02,  3.6736e-02, -1.6297e-02,\n",
       "        -4.6682e-02, -3.9314e-02, -1.2900e-02, -8.7302e-03, -1.0000e-02,\n",
       "         4.1957e-02,  1.4888e-02,  4.7224e-02, -5.6884e-03, -4.3677e-02,\n",
       "         3.6620e-02, -1.9305e-02,  3.5078e-02, -2.2561e-02, -2.3866e-02,\n",
       "         7.7609e-03,  1.6237e-03,  3.6525e-02, -4.8727e-03,  7.3159e-03,\n",
       "        -4.7234e-02, -2.3582e-02,  2.2918e-02, -1.0400e-02,  5.6553e-02,\n",
       "         5.8856e-02, -3.4039e-02, -1.4907e-02,  3.1334e-02, -5.7379e-02,\n",
       "         1.4310e-02, -4.1858e-02, -2.1761e-02, -4.4616e-02,  1.9318e-02,\n",
       "         3.9090e-03,  3.6037e-02, -8.1466e-03, -1.3913e-02, -9.5100e-03,\n",
       "        -6.0643e-03, -3.5757e-02,  2.6748e-03, -1.5123e-02, -1.7028e-02,\n",
       "         9.5175e-03,  2.2493e-02,  3.6148e-02,  2.5888e-02, -3.5825e-02,\n",
       "         4.9526e-02,  3.7676e-04, -1.4701e-02,  4.4002e-02, -1.5788e-02,\n",
       "         4.2502e-02,  3.8119e-02,  3.1620e-02, -8.7800e-03, -3.2674e-02,\n",
       "         2.0068e-02, -8.5386e-02, -5.3765e-03, -5.9793e-02,  8.6025e-02,\n",
       "        -1.8604e-02, -5.2658e-05, -2.6762e-02, -6.0240e-03,  5.6693e-02,\n",
       "         2.2159e-02, -7.0337e-04, -9.2712e-03, -7.1060e-02,  2.9559e-02,\n",
       "         4.1188e-03,  3.0607e-02,  3.5854e-02,  1.5085e-02, -2.2613e-02,\n",
       "         1.1215e-02,  4.1561e-02, -3.1606e-02, -7.9191e-02,  1.0911e-02,\n",
       "         3.4029e-02,  9.6041e-03, -3.6194e-02,  3.1039e-02, -1.4005e-02,\n",
       "         4.7042e-02,  1.0133e-02,  2.3228e-02,  4.5057e-02,  2.3470e-02,\n",
       "         8.5181e-03,  1.8744e-02,  2.3645e-02,  4.2739e-02, -8.4400e-02,\n",
       "         1.7776e-02, -1.4041e-02,  1.2038e-02,  4.4202e-03, -1.6091e-02,\n",
       "        -5.2229e-02, -2.0655e-02, -3.5331e-02, -1.9448e-02, -3.8655e-02,\n",
       "         3.7061e-02, -8.0427e-02,  1.4672e-02, -7.2299e-02, -2.3326e-02,\n",
       "        -1.3714e-02, -2.6955e-02,  3.9156e-03,  2.6684e-02,  3.2976e-02,\n",
       "         5.9433e-03, -1.4159e-04,  8.5908e-03,  1.5680e-02, -4.1027e-02,\n",
       "         3.1937e-02, -5.5564e-03, -5.2042e-02,  1.5903e-02, -3.4151e-03,\n",
       "         5.7362e-03,  8.4295e-02,  1.1556e-02, -3.0420e-02, -1.9626e-02,\n",
       "         1.7372e-02, -1.4710e-02,  7.3668e-03,  2.9179e-02,  1.8134e-02,\n",
       "         1.0017e-01, -7.6295e-03, -3.6388e-02, -1.3461e-03,  2.4306e-02,\n",
       "         2.5985e-02,  3.7769e-02, -3.9826e-02, -5.8054e-03, -1.0571e-02,\n",
       "        -3.0092e-03,  4.1909e-03,  4.2730e-03,  4.4552e-02,  4.2114e-02,\n",
       "         1.0025e-02, -1.2595e-01,  4.3783e-02, -4.0367e-02,  3.2588e-02,\n",
       "        -3.4053e-02, -3.6545e-03, -4.0360e-02, -5.0960e-02,  4.3990e-02,\n",
       "        -2.0400e-02,  1.0007e-01,  5.1680e-02,  1.8949e-02,  6.1751e-03,\n",
       "         1.8968e-02,  6.6965e-02, -1.2447e-02,  1.8027e-03,  3.2659e-02,\n",
       "         9.6260e-03, -2.7118e-02,  5.9055e-02,  5.4986e-02,  2.1720e-02,\n",
       "        -9.3603e-03, -1.7641e-02,  6.4507e-03,  3.1162e-02, -4.1078e-02,\n",
       "         6.4158e-02, -1.4235e-02,  8.7052e-03,  5.4247e-02,  4.3219e-02,\n",
       "        -1.8939e-02, -1.2847e-01, -1.8578e-02,  5.2904e-03,  2.6198e-02,\n",
       "        -3.8404e-02, -1.8481e-03, -6.0948e-02,  2.9663e-02, -5.3744e-02,\n",
       "        -5.9963e-02,  2.5675e-02, -2.0460e-03,  5.1721e-02,  1.9361e-02,\n",
       "         1.5963e-02,  1.7848e-02,  5.3805e-02,  6.2088e-02,  6.1405e-02,\n",
       "         3.6194e-02, -2.4169e-02, -5.0282e-02,  3.7900e-02, -3.4247e-02,\n",
       "        -3.9796e-02, -3.4112e-03,  4.1226e-02, -1.6717e-02, -8.3644e-02,\n",
       "        -3.0180e-03,  1.6477e-02, -2.8292e-02,  1.4557e-02, -2.9534e-02,\n",
       "        -3.1202e-02, -3.6888e-02, -2.0677e-02, -1.7115e-02, -6.5438e-03,\n",
       "         2.0365e-02, -1.9964e-02, -2.7755e-02,  3.1776e-03,  3.3679e-02,\n",
       "         2.6304e-02, -2.1983e-02,  7.5744e-02, -5.3959e-02,  2.5191e-03,\n",
       "         2.1904e-02, -1.8522e-02,  3.1450e-02, -3.6816e-02,  4.0798e-02,\n",
       "         7.2704e-02, -4.3870e-02,  3.1017e-02, -8.0442e-02, -2.8834e-02,\n",
       "         3.1901e-02,  2.0731e-02, -4.7745e-02, -3.6610e-02,  1.1680e-02,\n",
       "         3.1014e-02,  2.1107e-02, -4.5281e-02, -1.4957e-02, -1.8062e-02,\n",
       "        -1.8312e-02, -7.2442e-03,  1.7531e-03,  5.3508e-02,  2.5542e-02,\n",
       "         1.4671e-02, -1.2340e-02, -5.6365e-02,  3.3229e-02, -3.9023e-02,\n",
       "        -3.3313e-02,  1.4810e-02, -3.3370e-02,  1.5646e-02, -2.3994e-02,\n",
       "         2.6239e-03, -1.9780e-02, -2.0272e-02, -6.4868e-03,  4.4035e-02,\n",
       "        -4.3904e-02,  3.2768e-02, -4.0163e-02,  5.0068e-02, -4.0995e-02,\n",
       "         9.0227e-03,  4.3513e-02, -4.0095e-03,  5.8554e-02,  1.0006e-02,\n",
       "        -1.0335e-02,  4.7100e-02, -1.7421e-02,  1.7557e-03, -2.6342e-04,\n",
       "         3.2553e-02, -8.6393e-02,  1.9489e-02,  5.9884e-03,  8.5313e-02,\n",
       "        -6.0469e-02,  1.5376e-02,  5.0215e-02,  5.9552e-02, -6.1735e-03,\n",
       "        -2.4567e-02, -1.4506e-02,  8.7570e-02, -1.4713e-02,  8.7679e-02,\n",
       "        -3.3972e-02,  3.9271e-02, -1.5541e-02, -2.4981e-02, -4.4236e-02,\n",
       "         2.5235e-02,  2.8117e-02,  4.6047e-02,  1.3846e-02, -5.0686e-02,\n",
       "        -2.4901e-02,  6.9507e-02, -1.0409e-04,  4.5933e-03,  8.9324e-02,\n",
       "        -8.5591e-02, -5.5165e-02, -3.3947e-02,  2.1672e-02, -1.1364e-02,\n",
       "        -2.6065e-02, -9.5820e-03,  6.0997e-04,  1.7961e-03,  3.2103e-02,\n",
       "        -1.3949e-02, -3.5982e-02, -7.2654e-04, -1.2221e-02,  4.4957e-02,\n",
       "        -3.7300e-02,  4.6457e-03,  1.8688e-02, -4.5488e-02,  1.3708e-02,\n",
       "        -2.7338e-02, -1.3574e-02, -2.2307e-02, -4.2724e-02, -3.0802e-02,\n",
       "        -5.4031e-02,  4.4637e-02,  7.7421e-02, -5.0356e-02,  1.0794e-02,\n",
       "         4.7654e-02,  5.2005e-02, -3.3050e-03,  1.6862e-02, -6.7209e-03,\n",
       "         8.8282e-03,  1.5503e-02,  7.9326e-03, -1.8324e-03, -4.7561e-03,\n",
       "        -6.8905e-02,  3.6050e-02,  5.5481e-03, -5.8312e-03,  3.7356e-02,\n",
       "        -7.0905e-04,  1.3767e-04, -2.7017e-02,  4.8031e-03,  3.1429e-03,\n",
       "        -3.1360e-02, -2.3344e-03, -4.2745e-02,  4.8640e-02, -1.6695e-02,\n",
       "         1.8510e-03, -3.1359e-02, -5.6525e-02,  2.0793e-02, -4.8570e-02,\n",
       "         3.6616e-02, -1.0160e-02,  1.3889e-02, -1.1153e-02,  3.2661e-03,\n",
       "        -3.3068e-03, -2.1670e-02, -2.7797e-02,  1.0613e-02, -4.1521e-02,\n",
       "        -1.1566e-02,  2.7970e-02,  4.2706e-02,  4.3275e-02,  2.1673e-02,\n",
       "        -2.7410e-02, -2.0792e-03,  1.7584e-02,  2.1632e-04, -1.5994e-02,\n",
       "         1.2905e-02, -6.2539e-02, -2.7024e-02, -8.1246e-03, -4.5412e-02,\n",
       "        -1.5782e-05, -8.6178e-03, -3.0528e-02,  1.0865e-02, -1.5237e-02,\n",
       "         4.4758e-02,  1.7092e-04,  1.9709e-02, -6.1173e-02,  8.6432e-02,\n",
       "        -5.0021e-02, -4.3026e-02, -1.0984e-02, -7.0616e-03,  9.4778e-02,\n",
       "        -2.7044e-02, -1.7721e-02,  6.7766e-02, -4.6608e-02, -1.7895e-02,\n",
       "        -6.4867e-05, -5.3659e-02, -4.4520e-02, -4.1591e-02,  2.4265e-02,\n",
       "        -1.4498e-02,  6.8934e-02,  2.4463e-02, -1.4991e-01, -7.2086e-02,\n",
       "        -6.4331e-03,  5.7208e-02, -7.0208e-03,  1.7373e-03,  7.0052e-02,\n",
       "         2.6350e-02, -4.4661e-02,  6.1173e-02, -5.5966e-02,  1.8235e-02,\n",
       "        -9.9532e-03,  3.9393e-02,  1.0068e-02,  5.6688e-02,  5.5542e-02,\n",
       "        -4.9356e-02,  2.8852e-02,  5.7561e-02,  2.4446e-04, -5.1920e-02,\n",
       "         4.9040e-02, -3.8763e-02, -4.7450e-02,  3.1784e-02,  5.1045e-03,\n",
       "         1.4786e-02, -1.8907e-02, -2.2318e-02, -5.6017e-02, -3.2565e-02,\n",
       "         4.0410e-02,  1.7036e-02,  1.8129e-02,  7.2519e-03,  4.5044e-02,\n",
       "        -3.7374e-02, -4.2846e-02,  3.9072e-02, -6.3048e-02, -3.1938e-02,\n",
       "        -1.3147e-02,  4.9565e-02, -3.2793e-02,  2.2257e-02,  1.1136e-02,\n",
       "        -3.1196e-02,  2.3388e-02,  8.4574e-03,  2.3470e-02, -2.5842e-02,\n",
       "         4.9676e-02, -5.4571e-02, -3.1812e-02, -1.9127e-02, -3.4694e-03,\n",
       "        -9.9715e-02,  1.2326e-02, -4.7976e-02, -4.1836e-02,  1.4858e-02,\n",
       "        -2.3221e-02,  3.2897e-02,  4.6660e-03, -1.7949e-02,  7.8988e-03,\n",
       "        -4.2145e-02,  1.8276e-02, -3.7883e-02, -1.9435e-02, -5.6394e-03,\n",
       "         5.2163e-04,  2.6110e-02,  4.6035e-02,  1.5802e-02, -2.6554e-02,\n",
       "        -7.0454e-02,  5.1965e-03, -1.7922e-02, -7.1696e-03, -4.1985e-02,\n",
       "        -1.0293e-02,  1.3760e-02,  6.6739e-02,  5.7152e-02, -2.7963e-02,\n",
       "        -3.3996e-02, -7.2887e-03,  2.6325e-02,  5.6746e-02, -1.8709e-02,\n",
       "         6.4222e-02, -1.0126e-02, -2.3801e-02, -5.2646e-02,  2.6526e-02,\n",
       "        -4.9543e-03,  2.2060e-02, -9.4254e-03, -1.3423e-02,  5.1220e-02,\n",
       "        -2.2325e-02,  2.7411e-02, -2.5298e-02, -1.3613e-02, -2.6153e-02,\n",
       "         3.6832e-02,  1.0963e-02,  4.1305e-02, -1.5998e-02, -3.3322e-03,\n",
       "        -3.4722e-02, -3.3540e-02,  1.4533e-02, -3.4039e-02,  1.6075e-02,\n",
       "         1.3140e-02,  1.4757e-02,  2.8200e-02,  3.9858e-02,  3.1926e-02,\n",
       "         4.1699e-02, -8.5768e-03, -3.2509e-03, -5.8875e-02, -1.6426e-02,\n",
       "         1.1563e-02, -5.6897e-02,  7.1350e-02,  3.3039e-02,  6.4273e-03,\n",
       "        -1.5575e-02,  5.1323e-03, -3.8880e-02, -1.0463e-02, -3.0161e-02,\n",
       "        -2.0352e-02,  1.2135e-02,  3.0002e-02, -1.3970e-02, -3.6373e-02,\n",
       "         1.0820e-01,  6.6242e-03, -7.2323e-02, -1.3736e-02,  5.1793e-02,\n",
       "        -7.8213e-02, -5.6810e-02,  2.5189e-02,  5.0324e-03, -3.8935e-02,\n",
       "        -1.3598e-01, -5.7957e-02,  4.0817e-02,  1.6279e-02,  5.1299e-02,\n",
       "        -4.9156e-03, -4.1558e-03, -4.7571e-02, -5.4657e-02,  1.5393e-02,\n",
       "        -1.5366e-02,  5.5449e-02,  3.6923e-02,  3.0437e-02, -4.9347e-02,\n",
       "         2.5735e-02,  3.2220e-02,  2.9880e-02,  1.1226e-02,  2.6642e-02,\n",
       "        -1.0733e-04,  1.0328e-01, -5.3134e-03,  6.9335e-03,  3.2469e-02,\n",
       "        -7.4010e-02,  5.0017e-03, -9.0605e-03, -4.7531e-02,  4.7215e-02,\n",
       "        -8.5780e-03, -1.2363e-02,  5.2733e-02,  3.1893e-02,  8.4274e-03,\n",
       "         2.5713e-02,  5.6013e-03,  1.4029e-03,  1.3150e-02, -3.4067e-02,\n",
       "         3.4050e-02,  4.6202e-02,  5.2526e-02,  3.2237e-02, -3.6998e-02,\n",
       "        -4.2033e-02,  2.9132e-02,  2.7473e-02, -1.2841e-02, -3.2113e-02,\n",
       "        -2.3554e-02,  1.3022e-02,  6.8813e-03, -1.8349e-02,  1.2642e-02,\n",
       "        -5.3070e-02,  4.1118e-02,  9.6446e-03,  3.4066e-02, -4.6028e-02,\n",
       "        -9.2749e-03,  6.1546e-02, -1.6259e-02,  1.9718e-02,  6.7103e-02,\n",
       "        -2.0955e-03,  7.4312e-03,  1.4429e-02, -6.4501e-02,  3.3004e-02,\n",
       "         4.0160e-03,  3.7811e-03,  7.5823e-03,  4.1381e-02, -1.5217e-02,\n",
       "         5.5583e-02,  3.4374e-02,  4.2618e-02,  3.0660e-02, -5.2316e-02,\n",
       "        -4.6615e-02, -3.4146e-02, -2.7470e-02, -4.8675e-02,  4.8902e-02,\n",
       "         5.6501e-02, -1.7456e-02,  5.2244e-03, -4.8586e-02,  2.6937e-02,\n",
       "         5.4970e-03,  4.4139e-02,  1.6345e-02, -7.8035e-02, -4.5227e-02,\n",
       "         1.0183e-02, -2.1135e-02, -5.2386e-02, -4.9872e-02,  2.7941e-03,\n",
       "        -2.3583e-03, -1.9647e-02,  3.3875e-03,  9.2493e-02,  1.0043e-02,\n",
       "        -1.6241e-02, -6.2390e-02,  3.1359e-02,  4.0021e-02, -1.6135e-02,\n",
       "         3.0549e-02,  2.2525e-02,  8.8935e-03, -3.8006e-02,  2.1924e-02,\n",
       "         2.3268e-02, -4.3970e-02,  3.4005e-02,  1.4611e-02, -2.6102e-02],\n",
       "       grad_fn=<AddBackward0>)"
      ]
     },
     "execution_count": 13,
     "metadata": {},
     "output_type": "execute_result"
    }
   ],
   "source": [
    "input = torch.from_numpy(input.reshape(-1)).type(torch.float)\n",
    "md(input)"
   ]
  },
  {
   "cell_type": "code",
   "execution_count": 14,
   "metadata": {},
   "outputs": [],
   "source": [
    "output = md(input).detach().numpy()"
   ]
  },
  {
   "cell_type": "code",
   "execution_count": 15,
   "metadata": {},
   "outputs": [
    {
     "data": {
      "text/plain": [
       "[<matplotlib.lines.Line2D at 0x1ed3a894e48>]"
      ]
     },
     "execution_count": 15,
     "metadata": {},
     "output_type": "execute_result"
    },
    {
     "data": {
      "image/png": "[encoded data removed]",
      "text/plain": [
       "<Figure size 432x288 with 1 Axes>"
      ]
     },
     "metadata": {
      "needs_background": "light"
     },
     "output_type": "display_data"
    }
   ],
   "source": [
    "plt.plot(output)"
   ]
  }
 ],
 "metadata": {
  "kernelspec": {
   "display_name": "Python 3.7.9 ('pytorch')",
   "language": "python",
   "name": "python3"
  },
  "language_info": {
   "codemirror_mode": {
    "name": "ipython",
    "version": 3
   },
   "file_extension": ".py",
   "mimetype": "text/x-python",
   "name": "python",
   "nbconvert_exporter": "python",
   "pygments_lexer": "ipython3",
   "version": "3.7.9"
  },
  "vscode": {
   "interpreter": {
    "hash": "28f8cf0a8a4d3996c532b07e251eb4af62f7beb2b6ca98348312838517986615"
   }
  }
 },
 "nbformat": 4,
 "nbformat_minor": 2
}
