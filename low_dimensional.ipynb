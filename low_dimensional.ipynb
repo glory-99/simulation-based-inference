{
 "cells": [
  {
   "cell_type": "code",
   "execution_count": 1,
   "metadata": {},
   "outputs": [],
   "source": [
    "'''\n",
    "Load relative modules\n",
    "'''\n",
    "import numpy as np\n",
    "import numpy.random as rng\n",
    "import torch \n",
    "import torch.nn as nn \n",
    "import matplotlib.pyplot as plt\n",
    "import seaborn as sns\n",
    "import pystan\n",
    "import pandas as pd\n",
    "import math\n",
    "device = torch.device(\"cuda:0\" if torch.cuda.is_available() else \"cpu\")"
   ]
  },
  {
   "cell_type": "markdown",
   "metadata": {},
   "source": [
    "# Data generators and model specifications"
   ]
  },
  {
   "cell_type": "markdown",
   "metadata": {},
   "source": [
    "## X\n",
    "In the following experiments, we view X as fixed. \\\n",
    "$\\Sigma=\\begin{bmatrix} 1 & \\rho & \\cdots & \\rho \\\\ \\rho & 1 & \\cdots & \\rho \\\\ \\vdots & \\vdots & \\ddots & \\vdots \\\\ \\rho & \\rho & \\cdots & 1 \\end{bmatrix},$ \\\n",
    "Draw $N$ samples from $MVN(0, \\Sigma)$, and then normalize $X$. \\\n",
    "Let $\\bar{X_i}=0, ||X_i||^2_2=N, i=1,...,p$"
   ]
  },
  {
   "cell_type": "code",
   "execution_count": 2,
   "metadata": {},
   "outputs": [],
   "source": [
    "p = 10 # number of dimension\n",
    "N = 500 # sample size\n",
    "rho = 0 # correlation between features"
   ]
  },
  {
   "cell_type": "code",
   "execution_count": 3,
   "metadata": {},
   "outputs": [],
   "source": [
    "'''Generate X'''\n",
    "rng.seed(0)\n",
    "Sigma = np.ones((p, p)) * rho\n",
    "Sigma = Sigma + np.diag(np.ones(p) * (1-rho))\n",
    "X = rng.multivariate_normal(np.zeros(p), Sigma, N)\n",
    "X = X - np.mean(X, axis=0)\n",
    "X = X * np.sqrt(N / np.sum(X**2, axis=0))"
   ]
  },
  {
   "cell_type": "markdown",
   "metadata": {},
   "source": [
    "## Logistic\n",
    "Prior: $\\beta \\sim MVN(0,I_p),$ \\\n",
    "$y_i|x_i,\\beta \\sim Bernoulli(p_i), \\text{with } \\text{logit}(p_i)=x_i^t \\beta.$"
   ]
  },
  {
   "cell_type": "code",
   "execution_count": 4,
   "metadata": {},
   "outputs": [],
   "source": [
    "class Generator_logistic(object):\n",
    "    def __init__(self, p, N, X):\n",
    "        self.p = p\n",
    "        self.N = N\n",
    "        self.X = X\n",
    "    \n",
    "    def generate_samples(self, n, seed):\n",
    "        rng.seed(seed)\n",
    "        beta = rng.randn(n, p)\n",
    "        prob = np.exp(beta@X.T) / (1 + np.exp(beta@X.T))\n",
    "        Y = rng.binomial(1,prob)\n",
    "        return beta, Y        "
   ]
  },
  {
   "cell_type": "code",
   "execution_count": 5,
   "metadata": {},
   "outputs": [],
   "source": [
    "gen_logistic = Generator_logistic(p, N, X)"
   ]
  },
  {
   "cell_type": "code",
   "execution_count": 6,
   "metadata": {},
   "outputs": [
    {
     "data": {
      "image/png": "[encoded data removed]",
      "text/plain": [
       "<Figure size 432x288 with 1 Axes>"
      ]
     },
     "metadata": {
      "needs_background": "light"
     },
     "output_type": "display_data"
    }
   ],
   "source": [
    "beta0_logistic, Y0_logistic = gen_logistic.generate_samples(1, 0)\n",
    "beta0_logistic = beta0_logistic.reshape(p, 1)\n",
    "Y0_logistic = Y0_logistic.reshape(-1)\n",
    "plt.plot(X@beta0_logistic, Y0_logistic, 'o')\n",
    "plt.show()"
   ]
  },
  {
   "cell_type": "markdown",
   "metadata": {},
   "source": [
    "Generate training and validation set"
   ]
  },
  {
   "cell_type": "code",
   "execution_count": 22,
   "metadata": {},
   "outputs": [],
   "source": [
    "beta_logistic_train, Y_logistic_train = gen_logistic.generate_samples(1000000, 123)\n",
    "beta_logistic_val, Y_logistic_val = gen_logistic.generate_samples(100000, 456)"
   ]
  },
  {
   "cell_type": "code",
   "execution_count": 23,
   "metadata": {},
   "outputs": [],
   "source": [
    "np.save('./data/beta_logistic_train.npy', beta_logistic_train)\n",
    "np.save('./data/beta_logistic_val.npy', beta_logistic_val)\n",
    "np.save('./data/Y_logistic_train.npy', Y_logistic_train)\n",
    "np.save('./data/Y_logistic_val.npy', Y_logistic_val)"
   ]
  },
  {
   "cell_type": "code",
   "execution_count": 7,
   "metadata": {},
   "outputs": [],
   "source": [
    "beta_logistic_train = np.load('./data/beta_logistic_train.npy')\n",
    "beta_logistic_val = np.load('./data/beta_logistic_val.npy')\n",
    "Y_logistic_train = np.load('./data/Y_logistic_train.npy')\n",
    "Y_logistic_val = np.load('./data/Y_logistic_val.npy')"
   ]
  },
  {
   "cell_type": "markdown",
   "metadata": {},
   "source": [
    "Standardization"
   ]
  },
  {
   "cell_type": "code",
   "execution_count": 8,
   "metadata": {},
   "outputs": [],
   "source": [
    "mean_logistic = Y_logistic_train.mean(0)\n",
    "std_logistic = Y_logistic_train.std(0)\n",
    "Y_logistic_train = (Y_logistic_train - mean_logistic) / std_logistic\n",
    "Y_logistic_val = (Y_logistic_val - mean_logistic) / std_logistic"
   ]
  },
  {
   "cell_type": "markdown",
   "metadata": {},
   "source": [
    "## Normal\n",
    "Prior: $\\beta \\sim MVN(0,I_p)$,\\\n",
    "$y_i|x_i,\\beta \\sim N(x_i^t \\beta, 1).$"
   ]
  },
  {
   "cell_type": "code",
   "execution_count": 9,
   "metadata": {},
   "outputs": [],
   "source": [
    "class Generator_normal(object):\n",
    "    def __init__(self, p, N, X):\n",
    "        self.p = p\n",
    "        self.N = N \n",
    "        self.X = X \n",
    "    \n",
    "    def generate_samples(self, n, seed):\n",
    "        rng.seed(seed)\n",
    "        beta = rng.randn(n, p)\n",
    "        Y = beta@X.T + rng.randn(n, N)\n",
    "        return beta, Y"
   ]
  },
  {
   "cell_type": "code",
   "execution_count": 10,
   "metadata": {},
   "outputs": [],
   "source": [
    "gen_normal = Generator_normal(p, N, X)"
   ]
  },
  {
   "cell_type": "code",
   "execution_count": 11,
   "metadata": {},
   "outputs": [
    {
     "data": {
      "image/png": "[encoded data removed]",
      "text/plain": [
       "<Figure size 432x288 with 1 Axes>"
      ]
     },
     "metadata": {
      "needs_background": "light"
     },
     "output_type": "display_data"
    }
   ],
   "source": [
    "beta0_normal, Y0_normal = gen_normal.generate_samples(1, 0)\n",
    "beta0_normal = beta0_normal.reshape(p, 1)\n",
    "Y0_normal = Y0_normal.reshape(-1)\n",
    "plt.plot(Y0_normal, X@beta0_normal, 'o')\n",
    "plt.show()"
   ]
  },
  {
   "cell_type": "markdown",
   "metadata": {},
   "source": [
    "Generate training and validation set"
   ]
  },
  {
   "cell_type": "code",
   "execution_count": 12,
   "metadata": {},
   "outputs": [],
   "source": [
    "beta_normal_train, Y_normal_train = gen_normal.generate_samples(1000000, 123)\n",
    "beta_normal_val, Y_normal_val = gen_normal.generate_samples(10000, 456)"
   ]
  },
  {
   "cell_type": "markdown",
   "metadata": {},
   "source": [
    "Standardization"
   ]
  },
  {
   "cell_type": "code",
   "execution_count": 13,
   "metadata": {},
   "outputs": [],
   "source": [
    "mean_normal = Y_normal_train.mean(0)\n",
    "std_normal = Y_normal_train.std(0)\n",
    "Y_normal_train = (Y_normal_train - mean_normal) / std_normal\n",
    "Y_normal_val = (Y_normal_val - mean_normal) / std_normal"
   ]
  },
  {
   "cell_type": "markdown",
   "metadata": {},
   "source": [
    "# Neural network functions"
   ]
  },
  {
   "cell_type": "markdown",
   "metadata": {},
   "source": [
    "### Two layers MLP\n",
    "* Two hidden layers, with 1024 hidden units each.\n",
    "* Replace MSE loss with quantile loss to do quantile regression.\\\n",
    "Quantile loss:\\\n",
    "$\\rho_{\\tau}(r)=r(\\tau-\\mathbb{I}_{(r<0)})=max(r*\\tau,r*(\\tau-1))$\\\n",
    "where $r=\\theta-\\hat\\theta,$ and $\\tau$ is the quantile."
   ]
  },
  {
   "cell_type": "code",
   "execution_count": 14,
   "metadata": {},
   "outputs": [],
   "source": [
    "class MLP(nn.Module):\n",
    "    def __init__(self, N, p):\n",
    "        super(MLP, self).__init__()\n",
    "        self.fc1 = nn.Linear(N, 1024)\n",
    "        self.fc2 = nn.Linear(1024, 1024)\n",
    "        self.fc3 = nn.Linear(1024, p)\n",
    "        self.relu = nn.ReLU()\n",
    "        self.mseloss = nn.MSELoss()\n",
    "        self.bceloss = nn.BCEWithLogitsLoss()\n",
    "    \n",
    "    def forward(self, input):\n",
    "        u = self.relu(self.fc1(input))\n",
    "        u = self.relu(self.fc2(u))\n",
    "        output = self.fc3(u)\n",
    "        return output\n",
    "\n",
    "    def get_mseloss(self, data, targ):\n",
    "        output = self.forward(data)\n",
    "        loss = self.mseloss(output, targ)\n",
    "        return loss\n",
    "\n",
    "    def get_bceloss(self, data, targ):\n",
    "        output = self.forward(data)\n",
    "        loss = self.bceloss(output, targ)\n",
    "        return loss\n",
    "    \n",
    "    def get_quanloss(self, data, targ, tau):\n",
    "        output = self.forward(data)\n",
    "        errs = targ - output\n",
    "        loss = torch.mean(torch.max((tau-1)*errs, tau*errs))\n",
    "        return loss"
   ]
  },
  {
   "cell_type": "code",
   "execution_count": 15,
   "metadata": {},
   "outputs": [],
   "source": [
    "''' \n",
    " loss_type: 'mse' for posterior mean, 'bce' for predicting whether beta is 0, 'quantile' for posterior quantile.\n",
    "q: Only used when loss_type is 'quantile', q quantile.\n",
    "'''\n",
    "def train_epoch(model, optimizer, train_data, train_labels, batch_size, loss_type, q):\n",
    "    model.train()\n",
    "    n = train_data.shape[0]\n",
    "    train_loss = 0.\n",
    "    for i in range(math.ceil(n/batch_size)):\n",
    "        data = torch.from_numpy(train_data[(i*batch_size):min((i+1)*batch_size, n-1)]).type(torch.float).to(device)\n",
    "        targ = torch.from_numpy(train_labels[(i*batch_size):min((i+1)*batch_size, n-1)]).type(torch.float).to(device)\n",
    "        if loss_type == 'mse':\n",
    "            loss = model.get_mseloss(data, targ)\n",
    "        elif loss_type == 'bce':\n",
    "            loss = model.get_bceloss(data, targ)\n",
    "        elif loss_type == 'quantile':\n",
    "            loss = model.get_quanloss(data, targ, q)\n",
    "        train_loss += loss.item() * data.shape[0]\n",
    "\n",
    "        optimizer.zero_grad()\n",
    "        loss.backward()\n",
    "        optimizer.step()\n",
    "    return train_loss/n \n",
    "\n",
    "def model_test(model, test_data, test_labels, loss_type='mse', q=0.5):\n",
    "    model.eval()\n",
    "    with torch.no_grad():\n",
    "        data = torch.from_numpy(test_data).type(torch.float).to(device)\n",
    "        targ = torch.from_numpy(test_labels).type(torch.float).to(device)\n",
    "        if loss_type == 'mse':\n",
    "            loss = model.get_mseloss(data, targ)\n",
    "        elif loss_type == 'bce':\n",
    "            loss = model.get_bceloss(data, targ)\n",
    "        elif loss_type == 'quantile':\n",
    "            loss = model.get_quanloss(data, targ, q)\n",
    "    return loss.item()\n",
    "\n",
    "def train_model(model, lr, batch_size, epochs, train_data, train_labels, loss_type='mse', q=0.5, val_data=None, val_labels=None):\n",
    "    assert loss_type in ['mse', 'bce', 'quantile']\n",
    "    optimizer = torch.optim.Adam(model.parameters(), lr=lr)\n",
    "    train_losses = []\n",
    "    val_losses = []\n",
    "    for i in range(epochs):\n",
    "        train_loss = train_epoch(model, optimizer, train_data, train_labels, batch_size, loss_type, q)\n",
    "        print('Epoch: {}'.format(i+1))\n",
    "        print('Train loss: {:.5f}'.format(train_loss))\n",
    "        train_losses.append(train_loss)\n",
    "        if isinstance(val_data, np.ndarray):\n",
    "            val_loss = model_test(model, val_data, val_labels, loss_type, q)\n",
    "            print('Val loss: {:.5f}'.format(val_loss))\n",
    "            val_losses.append(val_loss)\n",
    "    return train_losses, val_losses\n",
    "\n",
    "def predict(model, Y):\n",
    "    model.eval()\n",
    "    with torch.no_grad():\n",
    "        data = torch.from_numpy(Y).type(torch.float).to(device)\n",
    "        pred = model(data)\n",
    "    return pred.detach().cpu().numpy()"
   ]
  },
  {
   "cell_type": "markdown",
   "metadata": {},
   "source": [
    "### Simultaneous Quantile Regression (SQR)\n",
    "Solve $\\hat f \\in {arg\\,min}_f \\frac{1}{n} \\sum^n_{i=1}\\mathbb{E}_{\\tau \\sim U[0,1]}[l_{\\tau}(f(x_i,\\tau),y_i)]$, with sampling fresh random quantile levels $\\tau \\sim U[0,1]$ for each training point and mini-batch during training.\n",
    "Advantages:\n",
    "* One model for all quantiles\n",
    "* Greatly alleviate the undesired phenomena of crossing quantiles."
   ]
  },
  {
   "cell_type": "code",
   "execution_count": 16,
   "metadata": {},
   "outputs": [],
   "source": [
    "'''\n",
    "https://github.com/facebookresearch/SingleModelUncertainty\n",
    "'''\n",
    "class QuantileLoss(nn.Module):\n",
    "    def __init__(self):\n",
    "        super(QuantileLoss, self).__init__()\n",
    "\n",
    "    def forward(self, yhat, y, tau):\n",
    "        diff = yhat - y\n",
    "        mask = (diff.ge(0).float() - tau).detach()   # \\tau - I{r<0}, r=y-yhat\n",
    "        return (mask * diff).mean()\n",
    "\n",
    "def augment(x, tau=None):\n",
    "    if tau is None:\n",
    "        tau = torch.zeros(x.size(0), 1).fill_(0.5).to(device)\n",
    "    elif type(tau) == float:\n",
    "        tau = torch.zeros(x.size(0), 1).fill_(tau).to(device)\n",
    "\n",
    "    return torch.cat((x, (tau - 0.5) * 12), 1)"
   ]
  },
  {
   "cell_type": "code",
   "execution_count": 17,
   "metadata": {},
   "outputs": [],
   "source": [
    "def train_epoch_sqr(model, optimizer, train_data, train_labels, batch_size, q):\n",
    "    n = train_data.shape[0]\n",
    "    train_loss = 0.\n",
    "    qloss = QuantileLoss()\n",
    "\n",
    "    for i in range(math.ceil(n/batch_size)):\n",
    "        data = torch.from_numpy(train_data[(i*batch_size):min((i+1)*batch_size, n-1)]).type(torch.float).to(device)\n",
    "        targ = torch.from_numpy(train_labels[(i*batch_size):min((i+1)*batch_size, n-1)]).type(torch.float).to(device)\n",
    "\n",
    "        if q==\"all\":\n",
    "            taus = torch.rand(data.size(0), 1).to(device)\n",
    "        else:\n",
    "            taus = torch.zeros(data.size(0), 1).fill_(q).to(device)\n",
    "\n",
    "        loss = qloss(model(augment(data, taus)), targ, taus)\n",
    "        train_loss += loss.item() * data.shape[0]\n",
    "\n",
    "        optimizer.zero_grad()\n",
    "        loss.backward()\n",
    "        optimizer.step()\n",
    "    return train_loss/n \n",
    "\n",
    "def train_model_sqr(model, lr, batch_size, epochs, train_data, train_labels, q='all'):\n",
    "    model.train()\n",
    "    optimizer = torch.optim.Adam(model.parameters(), lr=lr)\n",
    "    train_losses = []\n",
    "    for i in range(epochs):\n",
    "        train_loss = train_epoch_sqr(model, optimizer, train_data, train_labels, batch_size, q)\n",
    "        print('Epoch: {}'.format(i+1))\n",
    "        print('Train loss: {:.5f}'.format(train_loss))\n",
    "        train_losses.append(train_loss)\n",
    "    return train_losses\n",
    "\n",
    "def predict_sqr(model, Y, q):\n",
    "    model.eval()\n",
    "    with torch.no_grad():\n",
    "        data = torch.from_numpy(Y.reshape(1,-1)).type(torch.float).to(device)\n",
    "        pred = model(augment(data, q))\n",
    "    return pred.cpu().numpy() \n",
    "\n",
    "def model_test_sqr(model, test_data, test_labels, q='all'):\n",
    "    model.eval()\n",
    "    qloss = QuantileLoss()\n",
    "    with torch.no_grad():\n",
    "        data = torch.from_numpy(test_data).type(torch.float).to(device)\n",
    "        targ = torch.from_numpy(test_labels).type(torch.float).to(device)\n",
    "\n",
    "        if q==\"all\":\n",
    "            taus = torch.rand(data.size(0), 1).to(device)\n",
    "        else:\n",
    "            taus = torch.zeros(data.size(0), 1).fill_(q).to(device)\n",
    "\n",
    "        loss = qloss(model(augment(data, taus)), targ, taus)\n",
    "    return loss.item()    "
   ]
  },
  {
   "cell_type": "markdown",
   "metadata": {},
   "source": [
    "# Stan"
   ]
  },
  {
   "cell_type": "markdown",
   "metadata": {},
   "source": [
    "## Normal"
   ]
  },
  {
   "cell_type": "code",
   "execution_count": 18,
   "metadata": {},
   "outputs": [
    {
     "name": "stderr",
     "output_type": "stream",
     "text": [
      "INFO:pystan:COMPILING THE C++ CODE FOR MODEL anon_model_ee6ac1110f8f96784e9bd023529127d7 NOW.\n"
     ]
    }
   ],
   "source": [
    "stan_normal = \"\"\"\n",
    "data{\n",
    "    int<lower=0> N; // number of data items\n",
    "    int<lower=0> K; // number of predictors\n",
    "    matrix[N, K] x; // predictor matrix\n",
    "    vector[N] y; // outcome vector\n",
    "}\n",
    "parameters{\n",
    "    vector[K] beta;\n",
    "}\n",
    "model{\n",
    "    y ~ normal(x * beta, 1);\n",
    "    beta ~ normal(0, 1);\n",
    "}\n",
    "\"\"\"\n",
    "sm_normal = pystan.StanModel(model_code=stan_normal)"
   ]
  },
  {
   "cell_type": "code",
   "execution_count": 19,
   "metadata": {},
   "outputs": [],
   "source": [
    "data_normal = {'N': X.shape[0], 'K': X.shape[1], 'x': X, 'y': Y0_normal}\n",
    "fit_normal = sm_normal.sampling(data=data_normal, iter=1000, chains=4, warmup=500, thin=1, seed=0)"
   ]
  },
  {
   "cell_type": "code",
   "execution_count": 20,
   "metadata": {},
   "outputs": [
    {
     "data": {
      "text/html": [
       "<div>\n",
       "<style scoped>\n",
       "    .dataframe tbody tr th:only-of-type {\n",
       "        vertical-align: middle;\n",
       "    }\n",
       "\n",
       "    .dataframe tbody tr th {\n",
       "        vertical-align: top;\n",
       "    }\n",
       "\n",
       "    .dataframe thead th {\n",
       "        text-align: right;\n",
       "    }\n",
       "</style>\n",
       "<table border=\"1\" class=\"dataframe\">\n",
       "  <thead>\n",
       "    <tr style=\"text-align: right;\">\n",
       "      <th></th>\n",
       "      <th>mean</th>\n",
       "      <th>se_mean</th>\n",
       "      <th>sd</th>\n",
       "      <th>2.5%</th>\n",
       "      <th>25%</th>\n",
       "      <th>50%</th>\n",
       "      <th>75%</th>\n",
       "      <th>97.5%</th>\n",
       "      <th>n_eff</th>\n",
       "      <th>Rhat</th>\n",
       "    </tr>\n",
       "  </thead>\n",
       "  <tbody>\n",
       "    <tr>\n",
       "      <th>beta[1]</th>\n",
       "      <td>1.774981</td>\n",
       "      <td>0.000710</td>\n",
       "      <td>0.045171</td>\n",
       "      <td>1.684725</td>\n",
       "      <td>1.745476</td>\n",
       "      <td>1.775533</td>\n",
       "      <td>1.804559</td>\n",
       "      <td>1.861987</td>\n",
       "      <td>4044.096285</td>\n",
       "      <td>0.998858</td>\n",
       "    </tr>\n",
       "    <tr>\n",
       "      <th>beta[2]</th>\n",
       "      <td>0.412039</td>\n",
       "      <td>0.000700</td>\n",
       "      <td>0.044032</td>\n",
       "      <td>0.325604</td>\n",
       "      <td>0.382727</td>\n",
       "      <td>0.412111</td>\n",
       "      <td>0.441064</td>\n",
       "      <td>0.500004</td>\n",
       "      <td>3958.881167</td>\n",
       "      <td>0.998811</td>\n",
       "    </tr>\n",
       "    <tr>\n",
       "      <th>beta[3]</th>\n",
       "      <td>0.934169</td>\n",
       "      <td>0.000806</td>\n",
       "      <td>0.043919</td>\n",
       "      <td>0.847935</td>\n",
       "      <td>0.905856</td>\n",
       "      <td>0.933056</td>\n",
       "      <td>0.963270</td>\n",
       "      <td>1.022710</td>\n",
       "      <td>2970.371964</td>\n",
       "      <td>0.999575</td>\n",
       "    </tr>\n",
       "    <tr>\n",
       "      <th>beta[4]</th>\n",
       "      <td>2.257327</td>\n",
       "      <td>0.000755</td>\n",
       "      <td>0.045319</td>\n",
       "      <td>2.164998</td>\n",
       "      <td>2.228258</td>\n",
       "      <td>2.257389</td>\n",
       "      <td>2.287809</td>\n",
       "      <td>2.346365</td>\n",
       "      <td>3603.761581</td>\n",
       "      <td>0.998650</td>\n",
       "    </tr>\n",
       "    <tr>\n",
       "      <th>beta[5]</th>\n",
       "      <td>1.834606</td>\n",
       "      <td>0.000727</td>\n",
       "      <td>0.043531</td>\n",
       "      <td>1.752946</td>\n",
       "      <td>1.804258</td>\n",
       "      <td>1.834343</td>\n",
       "      <td>1.863431</td>\n",
       "      <td>1.920149</td>\n",
       "      <td>3582.175586</td>\n",
       "      <td>0.999714</td>\n",
       "    </tr>\n",
       "    <tr>\n",
       "      <th>beta[6]</th>\n",
       "      <td>-1.000081</td>\n",
       "      <td>0.000760</td>\n",
       "      <td>0.045475</td>\n",
       "      <td>-1.091082</td>\n",
       "      <td>-1.031070</td>\n",
       "      <td>-1.000420</td>\n",
       "      <td>-0.968277</td>\n",
       "      <td>-0.910733</td>\n",
       "      <td>3584.523029</td>\n",
       "      <td>0.999124</td>\n",
       "    </tr>\n",
       "    <tr>\n",
       "      <th>beta[7]</th>\n",
       "      <td>0.934271</td>\n",
       "      <td>0.000694</td>\n",
       "      <td>0.044605</td>\n",
       "      <td>0.848617</td>\n",
       "      <td>0.903816</td>\n",
       "      <td>0.934807</td>\n",
       "      <td>0.966477</td>\n",
       "      <td>1.016537</td>\n",
       "      <td>4126.983506</td>\n",
       "      <td>0.999506</td>\n",
       "    </tr>\n",
       "    <tr>\n",
       "      <th>beta[8]</th>\n",
       "      <td>-0.131797</td>\n",
       "      <td>0.000712</td>\n",
       "      <td>0.045656</td>\n",
       "      <td>-0.220845</td>\n",
       "      <td>-0.163150</td>\n",
       "      <td>-0.132328</td>\n",
       "      <td>-0.100176</td>\n",
       "      <td>-0.041660</td>\n",
       "      <td>4113.745219</td>\n",
       "      <td>0.998383</td>\n",
       "    </tr>\n",
       "    <tr>\n",
       "      <th>beta[9]</th>\n",
       "      <td>-0.038236</td>\n",
       "      <td>0.000718</td>\n",
       "      <td>0.045324</td>\n",
       "      <td>-0.127469</td>\n",
       "      <td>-0.068877</td>\n",
       "      <td>-0.037960</td>\n",
       "      <td>-0.007376</td>\n",
       "      <td>0.050132</td>\n",
       "      <td>3983.356772</td>\n",
       "      <td>0.998712</td>\n",
       "    </tr>\n",
       "    <tr>\n",
       "      <th>beta[10]</th>\n",
       "      <td>0.452640</td>\n",
       "      <td>0.000705</td>\n",
       "      <td>0.043375</td>\n",
       "      <td>0.371201</td>\n",
       "      <td>0.423426</td>\n",
       "      <td>0.451547</td>\n",
       "      <td>0.480722</td>\n",
       "      <td>0.542239</td>\n",
       "      <td>3789.687360</td>\n",
       "      <td>0.998483</td>\n",
       "    </tr>\n",
       "    <tr>\n",
       "      <th>lp__</th>\n",
       "      <td>-256.256884</td>\n",
       "      <td>0.074470</td>\n",
       "      <td>2.202416</td>\n",
       "      <td>-261.631402</td>\n",
       "      <td>-257.539358</td>\n",
       "      <td>-255.876526</td>\n",
       "      <td>-254.659810</td>\n",
       "      <td>-253.002987</td>\n",
       "      <td>874.645330</td>\n",
       "      <td>1.000505</td>\n",
       "    </tr>\n",
       "  </tbody>\n",
       "</table>\n",
       "</div>"
      ],
      "text/plain": [
       "                mean   se_mean        sd        2.5%         25%         50%  \\\n",
       "beta[1]     1.774981  0.000710  0.045171    1.684725    1.745476    1.775533   \n",
       "beta[2]     0.412039  0.000700  0.044032    0.325604    0.382727    0.412111   \n",
       "beta[3]     0.934169  0.000806  0.043919    0.847935    0.905856    0.933056   \n",
       "beta[4]     2.257327  0.000755  0.045319    2.164998    2.228258    2.257389   \n",
       "beta[5]     1.834606  0.000727  0.043531    1.752946    1.804258    1.834343   \n",
       "beta[6]    -1.000081  0.000760  0.045475   -1.091082   -1.031070   -1.000420   \n",
       "beta[7]     0.934271  0.000694  0.044605    0.848617    0.903816    0.934807   \n",
       "beta[8]    -0.131797  0.000712  0.045656   -0.220845   -0.163150   -0.132328   \n",
       "beta[9]    -0.038236  0.000718  0.045324   -0.127469   -0.068877   -0.037960   \n",
       "beta[10]    0.452640  0.000705  0.043375    0.371201    0.423426    0.451547   \n",
       "lp__     -256.256884  0.074470  2.202416 -261.631402 -257.539358 -255.876526   \n",
       "\n",
       "                 75%       97.5%        n_eff      Rhat  \n",
       "beta[1]     1.804559    1.861987  4044.096285  0.998858  \n",
       "beta[2]     0.441064    0.500004  3958.881167  0.998811  \n",
       "beta[3]     0.963270    1.022710  2970.371964  0.999575  \n",
       "beta[4]     2.287809    2.346365  3603.761581  0.998650  \n",
       "beta[5]     1.863431    1.920149  3582.175586  0.999714  \n",
       "beta[6]    -0.968277   -0.910733  3584.523029  0.999124  \n",
       "beta[7]     0.966477    1.016537  4126.983506  0.999506  \n",
       "beta[8]    -0.100176   -0.041660  4113.745219  0.998383  \n",
       "beta[9]    -0.007376    0.050132  3983.356772  0.998712  \n",
       "beta[10]    0.480722    0.542239  3789.687360  0.998483  \n",
       "lp__     -254.659810 -253.002987   874.645330  1.000505  "
      ]
     },
     "execution_count": 20,
     "metadata": {},
     "output_type": "execute_result"
    }
   ],
   "source": [
    "summary_normal = fit_normal.summary()\n",
    "df_normal = pd.DataFrame(summary_normal['summary'], \n",
    "                  columns=summary_normal['summary_colnames'], \n",
    "                  index=summary_normal['summary_rownames'])\n",
    "df_normal"
   ]
  },
  {
   "cell_type": "code",
   "execution_count": 21,
   "metadata": {},
   "outputs": [],
   "source": [
    "stan_mean_normal = df_normal['mean'][:p].to_numpy()\n",
    "stan_median_normal = df_normal['50%'][:p].to_numpy()\n",
    "stan_q025_normal = df_normal['2.5%'][:p].to_numpy()\n",
    "stan_q975_normal = df_normal['97.5%'][:p].to_numpy()"
   ]
  },
  {
   "cell_type": "code",
   "execution_count": 22,
   "metadata": {},
   "outputs": [
    {
     "data": {
      "image/png": "[encoded data removed]",
      "text/plain": [
       "<Figure size 432x288 with 1 Axes>"
      ]
     },
     "metadata": {
      "needs_background": "light"
     },
     "output_type": "display_data"
    }
   ],
   "source": [
    "plt.plot(range(10), stan_mean_normal)\n",
    "plt.plot(range(10), beta0_normal)\n",
    "plt.legend(['Stan mean', 'True beta'], loc='upper right')\n",
    "plt.show()"
   ]
  },
  {
   "cell_type": "markdown",
   "metadata": {},
   "source": [
    "## Logistic"
   ]
  },
  {
   "cell_type": "code",
   "execution_count": 23,
   "metadata": {},
   "outputs": [
    {
     "name": "stderr",
     "output_type": "stream",
     "text": [
      "INFO:pystan:COMPILING THE C++ CODE FOR MODEL anon_model_6b8a583f21c91a4cf71b24b70a1fbffd NOW.\n"
     ]
    }
   ],
   "source": [
    "stan_logistic = \"\"\"\n",
    "data{\n",
    "    int<lower=0> N; // number of data items\n",
    "    int<lower=0> K; // number of predictors\n",
    "    matrix[N, K] x; // predictor matrix\n",
    "    int<lower=0, upper=1> y [N]; // outcome vector\n",
    "}\n",
    "parameters{\n",
    "    vector[K] beta;\n",
    "}\n",
    "model{\n",
    "    y ~ bernoulli_logit(x * beta);\n",
    "    beta ~ normal(0, 1);\n",
    "}\n",
    "\"\"\"\n",
    "sm_logistic = pystan.StanModel(model_code=stan_logistic)"
   ]
  },
  {
   "cell_type": "code",
   "execution_count": 24,
   "metadata": {},
   "outputs": [],
   "source": [
    "data_logistic = {'N': X.shape[0], 'K': X.shape[1], 'x': X, 'y': Y0_logistic}\n",
    "fit_logistic = sm_logistic.sampling(data=data_logistic, iter=4000, chains=4, warmup=500, thin=1, seed=1)"
   ]
  },
  {
   "cell_type": "code",
   "execution_count": 25,
   "metadata": {},
   "outputs": [
    {
     "data": {
      "text/html": [
       "<div>\n",
       "<style scoped>\n",
       "    .dataframe tbody tr th:only-of-type {\n",
       "        vertical-align: middle;\n",
       "    }\n",
       "\n",
       "    .dataframe tbody tr th {\n",
       "        vertical-align: top;\n",
       "    }\n",
       "\n",
       "    .dataframe thead th {\n",
       "        text-align: right;\n",
       "    }\n",
       "</style>\n",
       "<table border=\"1\" class=\"dataframe\">\n",
       "  <thead>\n",
       "    <tr style=\"text-align: right;\">\n",
       "      <th></th>\n",
       "      <th>mean</th>\n",
       "      <th>se_mean</th>\n",
       "      <th>sd</th>\n",
       "      <th>2.5%</th>\n",
       "      <th>25%</th>\n",
       "      <th>50%</th>\n",
       "      <th>75%</th>\n",
       "      <th>97.5%</th>\n",
       "      <th>n_eff</th>\n",
       "      <th>Rhat</th>\n",
       "    </tr>\n",
       "  </thead>\n",
       "  <tbody>\n",
       "    <tr>\n",
       "      <th>beta[1]</th>\n",
       "      <td>1.893170</td>\n",
       "      <td>0.001959</td>\n",
       "      <td>0.204994</td>\n",
       "      <td>1.509158</td>\n",
       "      <td>1.752297</td>\n",
       "      <td>1.886742</td>\n",
       "      <td>2.028042</td>\n",
       "      <td>2.303989</td>\n",
       "      <td>10945.485064</td>\n",
       "      <td>0.999947</td>\n",
       "    </tr>\n",
       "    <tr>\n",
       "      <th>beta[2]</th>\n",
       "      <td>0.556592</td>\n",
       "      <td>0.001072</td>\n",
       "      <td>0.147133</td>\n",
       "      <td>0.269770</td>\n",
       "      <td>0.457772</td>\n",
       "      <td>0.555897</td>\n",
       "      <td>0.655104</td>\n",
       "      <td>0.846385</td>\n",
       "      <td>18837.818478</td>\n",
       "      <td>0.999968</td>\n",
       "    </tr>\n",
       "    <tr>\n",
       "      <th>beta[3]</th>\n",
       "      <td>0.999956</td>\n",
       "      <td>0.001440</td>\n",
       "      <td>0.164048</td>\n",
       "      <td>0.688239</td>\n",
       "      <td>0.887386</td>\n",
       "      <td>0.997280</td>\n",
       "      <td>1.107598</td>\n",
       "      <td>1.327095</td>\n",
       "      <td>12979.661876</td>\n",
       "      <td>1.000004</td>\n",
       "    </tr>\n",
       "    <tr>\n",
       "      <th>beta[4]</th>\n",
       "      <td>1.693387</td>\n",
       "      <td>0.001780</td>\n",
       "      <td>0.192329</td>\n",
       "      <td>1.331169</td>\n",
       "      <td>1.562311</td>\n",
       "      <td>1.687811</td>\n",
       "      <td>1.819562</td>\n",
       "      <td>2.079303</td>\n",
       "      <td>11674.995386</td>\n",
       "      <td>0.999950</td>\n",
       "    </tr>\n",
       "    <tr>\n",
       "      <th>beta[5]</th>\n",
       "      <td>1.781911</td>\n",
       "      <td>0.001907</td>\n",
       "      <td>0.198408</td>\n",
       "      <td>1.404864</td>\n",
       "      <td>1.645146</td>\n",
       "      <td>1.778869</td>\n",
       "      <td>1.913951</td>\n",
       "      <td>2.179701</td>\n",
       "      <td>10827.148819</td>\n",
       "      <td>0.999955</td>\n",
       "    </tr>\n",
       "    <tr>\n",
       "      <th>beta[6]</th>\n",
       "      <td>-1.051097</td>\n",
       "      <td>0.001447</td>\n",
       "      <td>0.163414</td>\n",
       "      <td>-1.381716</td>\n",
       "      <td>-1.158946</td>\n",
       "      <td>-1.047611</td>\n",
       "      <td>-0.940442</td>\n",
       "      <td>-0.740283</td>\n",
       "      <td>12755.941308</td>\n",
       "      <td>1.000121</td>\n",
       "    </tr>\n",
       "    <tr>\n",
       "      <th>beta[7]</th>\n",
       "      <td>1.022101</td>\n",
       "      <td>0.001347</td>\n",
       "      <td>0.161504</td>\n",
       "      <td>0.719257</td>\n",
       "      <td>0.910842</td>\n",
       "      <td>1.017873</td>\n",
       "      <td>1.130660</td>\n",
       "      <td>1.350192</td>\n",
       "      <td>14369.802852</td>\n",
       "      <td>1.000045</td>\n",
       "    </tr>\n",
       "    <tr>\n",
       "      <th>beta[8]</th>\n",
       "      <td>-0.289562</td>\n",
       "      <td>0.000949</td>\n",
       "      <td>0.142381</td>\n",
       "      <td>-0.571010</td>\n",
       "      <td>-0.385429</td>\n",
       "      <td>-0.288062</td>\n",
       "      <td>-0.191710</td>\n",
       "      <td>-0.016429</td>\n",
       "      <td>22525.214656</td>\n",
       "      <td>1.000190</td>\n",
       "    </tr>\n",
       "    <tr>\n",
       "      <th>beta[9]</th>\n",
       "      <td>-0.353163</td>\n",
       "      <td>0.000927</td>\n",
       "      <td>0.141170</td>\n",
       "      <td>-0.636717</td>\n",
       "      <td>-0.447355</td>\n",
       "      <td>-0.351719</td>\n",
       "      <td>-0.257371</td>\n",
       "      <td>-0.077642</td>\n",
       "      <td>23190.997802</td>\n",
       "      <td>0.999964</td>\n",
       "    </tr>\n",
       "    <tr>\n",
       "      <th>beta[10]</th>\n",
       "      <td>0.674750</td>\n",
       "      <td>0.001168</td>\n",
       "      <td>0.156455</td>\n",
       "      <td>0.371055</td>\n",
       "      <td>0.570069</td>\n",
       "      <td>0.672323</td>\n",
       "      <td>0.777806</td>\n",
       "      <td>0.990508</td>\n",
       "      <td>17957.514333</td>\n",
       "      <td>0.999797</td>\n",
       "    </tr>\n",
       "    <tr>\n",
       "      <th>lp__</th>\n",
       "      <td>-158.318848</td>\n",
       "      <td>0.028935</td>\n",
       "      <td>2.248000</td>\n",
       "      <td>-163.582823</td>\n",
       "      <td>-159.592400</td>\n",
       "      <td>-158.000168</td>\n",
       "      <td>-156.673700</td>\n",
       "      <td>-154.906319</td>\n",
       "      <td>6035.778828</td>\n",
       "      <td>1.000323</td>\n",
       "    </tr>\n",
       "  </tbody>\n",
       "</table>\n",
       "</div>"
      ],
      "text/plain": [
       "                mean   se_mean        sd        2.5%         25%         50%  \\\n",
       "beta[1]     1.893170  0.001959  0.204994    1.509158    1.752297    1.886742   \n",
       "beta[2]     0.556592  0.001072  0.147133    0.269770    0.457772    0.555897   \n",
       "beta[3]     0.999956  0.001440  0.164048    0.688239    0.887386    0.997280   \n",
       "beta[4]     1.693387  0.001780  0.192329    1.331169    1.562311    1.687811   \n",
       "beta[5]     1.781911  0.001907  0.198408    1.404864    1.645146    1.778869   \n",
       "beta[6]    -1.051097  0.001447  0.163414   -1.381716   -1.158946   -1.047611   \n",
       "beta[7]     1.022101  0.001347  0.161504    0.719257    0.910842    1.017873   \n",
       "beta[8]    -0.289562  0.000949  0.142381   -0.571010   -0.385429   -0.288062   \n",
       "beta[9]    -0.353163  0.000927  0.141170   -0.636717   -0.447355   -0.351719   \n",
       "beta[10]    0.674750  0.001168  0.156455    0.371055    0.570069    0.672323   \n",
       "lp__     -158.318848  0.028935  2.248000 -163.582823 -159.592400 -158.000168   \n",
       "\n",
       "                 75%       97.5%         n_eff      Rhat  \n",
       "beta[1]     2.028042    2.303989  10945.485064  0.999947  \n",
       "beta[2]     0.655104    0.846385  18837.818478  0.999968  \n",
       "beta[3]     1.107598    1.327095  12979.661876  1.000004  \n",
       "beta[4]     1.819562    2.079303  11674.995386  0.999950  \n",
       "beta[5]     1.913951    2.179701  10827.148819  0.999955  \n",
       "beta[6]    -0.940442   -0.740283  12755.941308  1.000121  \n",
       "beta[7]     1.130660    1.350192  14369.802852  1.000045  \n",
       "beta[8]    -0.191710   -0.016429  22525.214656  1.000190  \n",
       "beta[9]    -0.257371   -0.077642  23190.997802  0.999964  \n",
       "beta[10]    0.777806    0.990508  17957.514333  0.999797  \n",
       "lp__     -156.673700 -154.906319   6035.778828  1.000323  "
      ]
     },
     "execution_count": 25,
     "metadata": {},
     "output_type": "execute_result"
    }
   ],
   "source": [
    "summary_logistic = fit_logistic.summary()\n",
    "df_logistic = pd.DataFrame(summary_logistic['summary'], \n",
    "                  columns=summary_logistic['summary_colnames'], \n",
    "                  index=summary_logistic['summary_rownames'])\n",
    "df_logistic"
   ]
  },
  {
   "cell_type": "code",
   "execution_count": 26,
   "metadata": {},
   "outputs": [],
   "source": [
    "stan_mean_logistic = df_logistic['mean'][:p].to_numpy()\n",
    "stan_median_logistic = df_logistic['50%'][:p].to_numpy()\n",
    "stan_q025_logistic = df_logistic['2.5%'][:p].to_numpy()\n",
    "stan_q975_logistic = df_logistic['97.5%'][:p].to_numpy()"
   ]
  },
  {
   "cell_type": "code",
   "execution_count": 27,
   "metadata": {},
   "outputs": [
    {
     "data": {
      "image/png": "[encoded data removed]",
      "text/plain": [
       "<Figure size 432x288 with 1 Axes>"
      ]
     },
     "metadata": {
      "needs_background": "light"
     },
     "output_type": "display_data"
    }
   ],
   "source": [
    "plt.plot(range(10), stan_mean_logistic)\n",
    "plt.plot(range(10), beta0_logistic)\n",
    "plt.legend(['Stan mean', 'True beta'], loc='upper right')\n",
    "plt.show()"
   ]
  },
  {
   "cell_type": "markdown",
   "metadata": {},
   "source": [
    "# Neural Networks\n",
    "I have tested different learning rates $\\lambda$ and batch_size and found that setting $\\lambda=0.001$, batchsize=256 is working. Although we can use early stopping, I just fixed the epochs to 20. Actually, the loss on validation set changed little after the first epoch."
   ]
  },
  {
   "cell_type": "markdown",
   "metadata": {},
   "source": [
    "## Normal"
   ]
  },
  {
   "cell_type": "code",
   "execution_count": 28,
   "metadata": {},
   "outputs": [
    {
     "name": "stdout",
     "output_type": "stream",
     "text": [
      "Epoch: 1\n",
      "Train loss: 0.00441\n",
      "Val loss: 0.00399\n",
      "Epoch: 2\n",
      "Train loss: 0.00302\n",
      "Val loss: 0.00301\n",
      "Epoch: 3\n",
      "Train loss: 0.00266\n",
      "Val loss: 0.00255\n",
      "Epoch: 4\n",
      "Train loss: 0.00252\n",
      "Val loss: 0.00245\n",
      "Epoch: 5\n",
      "Train loss: 0.00245\n",
      "Val loss: 0.00243\n",
      "Epoch: 6\n",
      "Train loss: 0.00241\n",
      "Val loss: 0.00239\n",
      "Epoch: 7\n",
      "Train loss: 0.00238\n",
      "Val loss: 0.00232\n",
      "Epoch: 8\n",
      "Train loss: 0.00236\n",
      "Val loss: 0.00226\n",
      "Epoch: 9\n",
      "Train loss: 0.00234\n",
      "Val loss: 0.00225\n",
      "Epoch: 10\n",
      "Train loss: 0.00233\n",
      "Val loss: 0.00226\n",
      "Epoch: 11\n",
      "Train loss: 0.00231\n",
      "Val loss: 0.00228\n",
      "Epoch: 12\n",
      "Train loss: 0.00230\n",
      "Val loss: 0.00227\n",
      "Epoch: 13\n",
      "Train loss: 0.00229\n",
      "Val loss: 0.00226\n",
      "Epoch: 14\n",
      "Train loss: 0.00228\n",
      "Val loss: 0.00225\n",
      "Epoch: 15\n",
      "Train loss: 0.00228\n",
      "Val loss: 0.00224\n",
      "Epoch: 16\n",
      "Train loss: 0.00227\n",
      "Val loss: 0.00224\n",
      "Epoch: 17\n",
      "Train loss: 0.00226\n",
      "Val loss: 0.00223\n",
      "Epoch: 18\n",
      "Train loss: 0.00226\n",
      "Val loss: 0.00223\n",
      "Epoch: 19\n",
      "Train loss: 0.00226\n",
      "Val loss: 0.00223\n",
      "Epoch: 20\n",
      "Train loss: 0.00225\n",
      "Val loss: 0.00222\n"
     ]
    }
   ],
   "source": [
    "torch.manual_seed(0)\n",
    "md_mean_normal = MLP(N, p).to(device)\n",
    "train_losses, val_losses = train_model(md_mean_normal, 0.001, 256, 20, Y_normal_train, beta_normal_train, val_data=Y_normal_val, val_labels=beta_normal_val)"
   ]
  },
  {
   "cell_type": "code",
   "execution_count": 29,
   "metadata": {},
   "outputs": [
    {
     "data": {
      "image/png": "[encoded data removed]",
      "text/plain": [
       "<Figure size 432x288 with 1 Axes>"
      ]
     },
     "metadata": {
      "needs_background": "light"
     },
     "output_type": "display_data"
    }
   ],
   "source": [
    "pred_mean_normal = predict(md_mean_normal, (Y0_normal-mean_normal)/std_normal)\n",
    "plt.plot(range(10), pred_mean_normal)\n",
    "plt.plot(range(10), beta0_normal)\n",
    "plt.legend(['Pred mean', 'True beta'], loc='upper right')\n",
    "plt.show()"
   ]
  },
  {
   "cell_type": "code",
   "execution_count": 30,
   "metadata": {},
   "outputs": [
    {
     "data": {
      "image/png": "[encoded data removed]",
      "text/plain": [
       "<Figure size 432x288 with 1 Axes>"
      ]
     },
     "metadata": {
      "needs_background": "light"
     },
     "output_type": "display_data"
    }
   ],
   "source": [
    "plt.plot(range(10), pred_mean_normal)\n",
    "plt.plot(range(10), stan_mean_normal)\n",
    "plt.legend(['Pred mean', 'Stan mean'], loc='upper right')\n",
    "plt.show()"
   ]
  },
  {
   "cell_type": "code",
   "execution_count": 31,
   "metadata": {},
   "outputs": [
    {
     "name": "stdout",
     "output_type": "stream",
     "text": [
      "Epoch: 1\n",
      "Train loss: 0.00594\n",
      "Val loss: 0.00465\n",
      "Epoch: 2\n",
      "Train loss: 0.00428\n",
      "Val loss: 0.00379\n",
      "Epoch: 3\n",
      "Train loss: 0.00377\n",
      "Val loss: 0.00425\n",
      "Epoch: 4\n",
      "Train loss: 0.00354\n",
      "Val loss: 0.00341\n",
      "Epoch: 5\n",
      "Train loss: 0.00342\n",
      "Val loss: 0.00345\n",
      "Epoch: 6\n",
      "Train loss: 0.00335\n",
      "Val loss: 0.00365\n",
      "Epoch: 7\n",
      "Train loss: 0.00330\n",
      "Val loss: 0.00351\n",
      "Epoch: 8\n",
      "Train loss: 0.00327\n",
      "Val loss: 0.00326\n",
      "Epoch: 9\n",
      "Train loss: 0.00323\n",
      "Val loss: 0.00361\n",
      "Epoch: 10\n",
      "Train loss: 0.00321\n",
      "Val loss: 0.00322\n",
      "Epoch: 11\n",
      "Train loss: 0.00319\n",
      "Val loss: 0.00330\n",
      "Epoch: 12\n",
      "Train loss: 0.00317\n",
      "Val loss: 0.00327\n",
      "Epoch: 13\n",
      "Train loss: 0.00315\n",
      "Val loss: 0.00308\n",
      "Epoch: 14\n",
      "Train loss: 0.00315\n",
      "Val loss: 0.00323\n",
      "Epoch: 15\n",
      "Train loss: 0.00314\n",
      "Val loss: 0.00314\n",
      "Epoch: 16\n",
      "Train loss: 0.00312\n",
      "Val loss: 0.00313\n",
      "Epoch: 17\n",
      "Train loss: 0.00311\n",
      "Val loss: 0.00313\n",
      "Epoch: 18\n",
      "Train loss: 0.00310\n",
      "Val loss: 0.00340\n",
      "Epoch: 19\n",
      "Train loss: 0.00309\n",
      "Val loss: 0.00313\n",
      "Epoch: 20\n",
      "Train loss: 0.00309\n",
      "Val loss: 0.00319\n"
     ]
    }
   ],
   "source": [
    "torch.manual_seed(0)\n",
    "md_q025_normal = MLP(N, p).to(device)\n",
    "train_losses, val_losses = train_model(md_q025_normal, 0.001, 256, 20, Y_normal_train, beta_normal_train, \n",
    "                                       loss_type='quantile', q=0.025, val_data=Y_normal_val, val_labels=beta_normal_val)"
   ]
  },
  {
   "cell_type": "code",
   "execution_count": 32,
   "metadata": {},
   "outputs": [
    {
     "data": {
      "image/png": "[encoded data removed]",
      "text/plain": [
       "<Figure size 432x288 with 1 Axes>"
      ]
     },
     "metadata": {
      "needs_background": "light"
     },
     "output_type": "display_data"
    }
   ],
   "source": [
    "pred_q025_normal = predict(md_q025_normal, (Y0_normal-mean_normal)/std_normal)\n",
    "plt.plot(range(10), pred_q025_normal)\n",
    "plt.plot(range(10), stan_q025_normal)\n",
    "plt.legend(['Pred 0.025 quantile', 'Stan 0.025 quantile'], loc='upper right')\n",
    "plt.show()"
   ]
  },
  {
   "cell_type": "code",
   "execution_count": 33,
   "metadata": {},
   "outputs": [
    {
     "name": "stdout",
     "output_type": "stream",
     "text": [
      "Epoch: 1\n",
      "Train loss: 0.00594\n",
      "Val loss: 0.00492\n",
      "Epoch: 2\n",
      "Train loss: 0.00423\n",
      "Val loss: 0.00432\n",
      "Epoch: 3\n",
      "Train loss: 0.00374\n",
      "Val loss: 0.00360\n",
      "Epoch: 4\n",
      "Train loss: 0.00353\n",
      "Val loss: 0.00348\n",
      "Epoch: 5\n",
      "Train loss: 0.00342\n",
      "Val loss: 0.00333\n",
      "Epoch: 6\n",
      "Train loss: 0.00336\n",
      "Val loss: 0.00348\n",
      "Epoch: 7\n",
      "Train loss: 0.00331\n",
      "Val loss: 0.00316\n",
      "Epoch: 8\n",
      "Train loss: 0.00328\n",
      "Val loss: 0.00313\n",
      "Epoch: 9\n",
      "Train loss: 0.00324\n",
      "Val loss: 0.00321\n",
      "Epoch: 10\n",
      "Train loss: 0.00321\n",
      "Val loss: 0.00345\n",
      "Epoch: 11\n",
      "Train loss: 0.00320\n",
      "Val loss: 0.00335\n",
      "Epoch: 12\n",
      "Train loss: 0.00320\n",
      "Val loss: 0.00319\n",
      "Epoch: 13\n",
      "Train loss: 0.00317\n",
      "Val loss: 0.00325\n",
      "Epoch: 14\n",
      "Train loss: 0.00315\n",
      "Val loss: 0.00314\n",
      "Epoch: 15\n",
      "Train loss: 0.00312\n",
      "Val loss: 0.00317\n",
      "Epoch: 16\n",
      "Train loss: 0.00310\n",
      "Val loss: 0.00315\n",
      "Epoch: 17\n",
      "Train loss: 0.00309\n",
      "Val loss: 0.00299\n",
      "Epoch: 18\n",
      "Train loss: 0.00308\n",
      "Val loss: 0.00300\n",
      "Epoch: 19\n",
      "Train loss: 0.00308\n",
      "Val loss: 0.00297\n",
      "Epoch: 20\n",
      "Train loss: 0.00307\n",
      "Val loss: 0.00300\n"
     ]
    }
   ],
   "source": [
    "torch.manual_seed(0)\n",
    "md_q975_normal = MLP(N, p).to(device)\n",
    "train_losses, val_losses = train_model(md_q975_normal, 0.001, 256, 20, Y_normal_train, beta_normal_train, \n",
    "                                       loss_type='quantile', q=0.975, val_data=Y_normal_val, val_labels=beta_normal_val)"
   ]
  },
  {
   "cell_type": "code",
   "execution_count": 34,
   "metadata": {},
   "outputs": [
    {
     "data": {
      "image/png": "[encoded data removed]",
      "text/plain": [
       "<Figure size 432x288 with 1 Axes>"
      ]
     },
     "metadata": {
      "needs_background": "light"
     },
     "output_type": "display_data"
    }
   ],
   "source": [
    "pred_q975_normal = predict(md_q975_normal, (Y0_normal-mean_normal)/std_normal)\n",
    "plt.plot(range(10), pred_q975_normal)\n",
    "plt.plot(range(10), stan_q975_normal)\n",
    "plt.legend(['Pred 0.975 quantile', 'Stan 0.975 quantile'], loc='upper right')\n",
    "plt.show()"
   ]
  },
  {
   "cell_type": "code",
   "execution_count": 35,
   "metadata": {},
   "outputs": [
    {
     "name": "stdout",
     "output_type": "stream",
     "text": [
      "Epoch: 1\n",
      "Train loss: 0.01977\n",
      "Epoch: 2\n",
      "Train loss: 0.01644\n",
      "Epoch: 3\n",
      "Train loss: 0.01529\n",
      "Epoch: 4\n",
      "Train loss: 0.01482\n",
      "Epoch: 5\n",
      "Train loss: 0.01454\n",
      "Epoch: 6\n",
      "Train loss: 0.01437\n",
      "Epoch: 7\n",
      "Train loss: 0.01424\n",
      "Epoch: 8\n",
      "Train loss: 0.01412\n",
      "Epoch: 9\n",
      "Train loss: 0.01403\n",
      "Epoch: 10\n",
      "Train loss: 0.01399\n",
      "Epoch: 11\n",
      "Train loss: 0.01393\n",
      "Epoch: 12\n",
      "Train loss: 0.01391\n",
      "Epoch: 13\n",
      "Train loss: 0.01390\n",
      "Epoch: 14\n",
      "Train loss: 0.01387\n",
      "Epoch: 15\n",
      "Train loss: 0.01386\n",
      "Epoch: 16\n",
      "Train loss: 0.01385\n",
      "Epoch: 17\n",
      "Train loss: 0.01383\n",
      "Epoch: 18\n",
      "Train loss: 0.01381\n",
      "Epoch: 19\n",
      "Train loss: 0.01377\n",
      "Epoch: 20\n",
      "Train loss: 0.01378\n"
     ]
    },
    {
     "data": {
      "text/plain": [
       "0.014010703191161156"
      ]
     },
     "execution_count": 35,
     "metadata": {},
     "output_type": "execute_result"
    }
   ],
   "source": [
    "torch.manual_seed(0)\n",
    "md_sqr_normal = MLP(N+1, p).to(device)\n",
    "train_model_sqr(md_sqr_normal, 0.001, 256, 20, Y_normal_train, beta_normal_train)\n",
    "model_test_sqr(md_sqr_normal, Y_normal_val, beta_normal_val)"
   ]
  },
  {
   "cell_type": "code",
   "execution_count": 36,
   "metadata": {},
   "outputs": [],
   "source": [
    "pred_q025_sqr_normal = predict_sqr(md_sqr_normal, (Y0_normal-mean_normal)/std_normal, 0.025)\n",
    "pred_q975_sqr_normal = predict_sqr(md_sqr_normal, (Y0_normal-mean_normal)/std_normal, 0.975)"
   ]
  },
  {
   "cell_type": "code",
   "execution_count": 37,
   "metadata": {},
   "outputs": [
    {
     "data": {
      "image/png": "[encoded data removed]",
      "text/plain": [
       "<Figure size 669.6x540 with 1 Axes>"
      ]
     },
     "metadata": {
      "needs_background": "light"
     },
     "output_type": "display_data"
    }
   ],
   "source": [
    "plt.figure(figsize=(9.3,7.5))\n",
    "plt.plot(np.arange(p)+1-0.2, stan_mean_normal, '.r', ms=10)\n",
    "plt.vlines(np.arange(p)+1-0.2, stan_q025_normal, stan_q975_normal, lw=5)\n",
    "plt.plot(np.arange(p)+1, pred_mean_normal.reshape(-1), '.g', ms=10)\n",
    "plt.vlines(np.arange(p)+1, pred_q025_normal.reshape(-1), pred_q975_normal.reshape(-1),color='#ff7f0e', lw=5)\n",
    "plt.vlines(np.arange(p)+1+0.2, pred_q025_sqr_normal.reshape(-1), pred_q975_sqr_normal.reshape(-1), color='y', lw=5)\n",
    "plt.legend(['Stan mean', 'Separate NN mean', 'Stan CI', 'Separate NN CI', 'SQR CI'], loc='lower left', ncol=1, fontsize=18)\n",
    "plt.show()"
   ]
  },
  {
   "cell_type": "markdown",
   "metadata": {},
   "source": [
    "## Logistic"
   ]
  },
  {
   "cell_type": "code",
   "execution_count": 41,
   "metadata": {},
   "outputs": [
    {
     "name": "stdout",
     "output_type": "stream",
     "text": [
      "Epoch: 1\n",
      "Train loss: 0.03978\n",
      "Val loss: 0.03438\n",
      "Epoch: 2\n",
      "Train loss: 0.03228\n",
      "Val loss: 0.03291\n",
      "Epoch: 3\n",
      "Train loss: 0.03066\n",
      "Val loss: 0.03257\n",
      "Epoch: 4\n",
      "Train loss: 0.02974\n",
      "Val loss: 0.03270\n",
      "Epoch: 5\n",
      "Train loss: 0.02911\n",
      "Val loss: 0.03263\n",
      "Epoch: 6\n",
      "Train loss: 0.02864\n",
      "Val loss: 0.03269\n",
      "Epoch: 7\n",
      "Train loss: 0.02824\n",
      "Val loss: 0.03295\n",
      "Epoch: 8\n",
      "Train loss: 0.02790\n",
      "Val loss: 0.03291\n",
      "Epoch: 9\n",
      "Train loss: 0.02762\n",
      "Val loss: 0.03281\n",
      "Epoch: 10\n",
      "Train loss: 0.02738\n",
      "Val loss: 0.03270\n",
      "Epoch: 11\n",
      "Train loss: 0.02714\n",
      "Val loss: 0.03277\n",
      "Epoch: 12\n",
      "Train loss: 0.02694\n",
      "Val loss: 0.03317\n",
      "Epoch: 13\n",
      "Train loss: 0.02677\n",
      "Val loss: 0.03291\n",
      "Epoch: 14\n",
      "Train loss: 0.02661\n",
      "Val loss: 0.03292\n",
      "Epoch: 15\n",
      "Train loss: 0.02645\n",
      "Val loss: 0.03273\n",
      "Epoch: 16\n",
      "Train loss: 0.02630\n",
      "Val loss: 0.03277\n",
      "Epoch: 17\n",
      "Train loss: 0.02616\n",
      "Val loss: 0.03281\n",
      "Epoch: 18\n",
      "Train loss: 0.02604\n",
      "Val loss: 0.03297\n",
      "Epoch: 19\n",
      "Train loss: 0.02592\n",
      "Val loss: 0.03283\n",
      "Epoch: 20\n",
      "Train loss: 0.02580\n",
      "Val loss: 0.03286\n"
     ]
    }
   ],
   "source": [
    "torch.manual_seed(1)\n",
    "md_mean_logistic = MLP(N, p).to(device)\n",
    "train_losses, val_losses = train_model(md_mean_logistic, 0.001, 256, 20, Y_logistic_train, beta_logistic_train, val_data=Y_logistic_val, val_labels=beta_logistic_val)"
   ]
  },
  {
   "cell_type": "code",
   "execution_count": 42,
   "metadata": {},
   "outputs": [
    {
     "data": {
      "image/png": "[encoded data removed]",
      "text/plain": [
       "<Figure size 432x288 with 1 Axes>"
      ]
     },
     "metadata": {
      "needs_background": "light"
     },
     "output_type": "display_data"
    }
   ],
   "source": [
    "pred_mean_logistic = predict(md_mean_logistic, (Y0_logistic-mean_logistic)/std_logistic)\n",
    "plt.plot(range(10), pred_mean_logistic)\n",
    "plt.plot(range(10), beta0_logistic)\n",
    "plt.legend(['Pred mean', 'True beta'], loc='upper right')\n",
    "plt.show()"
   ]
  },
  {
   "cell_type": "code",
   "execution_count": 43,
   "metadata": {},
   "outputs": [
    {
     "data": {
      "image/png": "[encoded data removed]",
      "text/plain": [
       "<Figure size 432x288 with 1 Axes>"
      ]
     },
     "metadata": {
      "needs_background": "light"
     },
     "output_type": "display_data"
    }
   ],
   "source": [
    "plt.plot(range(10), pred_mean_logistic)\n",
    "plt.plot(range(10), stan_mean_logistic)\n",
    "plt.legend(['Pred mean', 'Stan mean'], loc='upper right')\n",
    "plt.show()"
   ]
  },
  {
   "cell_type": "code",
   "execution_count": 44,
   "metadata": {},
   "outputs": [
    {
     "name": "stdout",
     "output_type": "stream",
     "text": [
      "Epoch: 1\n",
      "Train loss: 0.01406\n",
      "Val loss: 0.01240\n",
      "Epoch: 2\n",
      "Train loss: 0.01203\n",
      "Val loss: 0.01193\n",
      "Epoch: 3\n",
      "Train loss: 0.01149\n",
      "Val loss: 0.01157\n",
      "Epoch: 4\n",
      "Train loss: 0.01120\n",
      "Val loss: 0.01157\n",
      "Epoch: 5\n",
      "Train loss: 0.01101\n",
      "Val loss: 0.01147\n",
      "Epoch: 6\n",
      "Train loss: 0.01089\n",
      "Val loss: 0.01143\n",
      "Epoch: 7\n",
      "Train loss: 0.01076\n",
      "Val loss: 0.01125\n",
      "Epoch: 8\n",
      "Train loss: 0.01066\n",
      "Val loss: 0.01149\n",
      "Epoch: 9\n",
      "Train loss: 0.01057\n",
      "Val loss: 0.01180\n",
      "Epoch: 10\n",
      "Train loss: 0.01050\n",
      "Val loss: 0.01143\n",
      "Epoch: 11\n",
      "Train loss: 0.01043\n",
      "Val loss: 0.01121\n",
      "Epoch: 12\n",
      "Train loss: 0.01036\n",
      "Val loss: 0.01154\n",
      "Epoch: 13\n",
      "Train loss: 0.01030\n",
      "Val loss: 0.01145\n",
      "Epoch: 14\n",
      "Train loss: 0.01023\n",
      "Val loss: 0.01109\n",
      "Epoch: 15\n",
      "Train loss: 0.01020\n",
      "Val loss: 0.01144\n",
      "Epoch: 16\n",
      "Train loss: 0.01015\n",
      "Val loss: 0.01163\n",
      "Epoch: 17\n",
      "Train loss: 0.01010\n",
      "Val loss: 0.01182\n",
      "Epoch: 18\n",
      "Train loss: 0.01006\n",
      "Val loss: 0.01138\n",
      "Epoch: 19\n",
      "Train loss: 0.01002\n",
      "Val loss: 0.01168\n",
      "Epoch: 20\n",
      "Train loss: 0.00999\n",
      "Val loss: 0.01166\n"
     ]
    }
   ],
   "source": [
    "torch.manual_seed(0)\n",
    "md_q025_logistic = MLP(N, p).to(device)\n",
    "train_losses, val_losses = train_model(md_q025_logistic, 0.001, 256, 20, Y_logistic_train, beta_logistic_train, \n",
    "                                       loss_type='quantile', q=0.025, val_data=Y_logistic_val, val_labels=beta_logistic_val)"
   ]
  },
  {
   "cell_type": "code",
   "execution_count": 45,
   "metadata": {},
   "outputs": [
    {
     "data": {
      "image/png": "[encoded data removed]",
      "text/plain": [
       "<Figure size 432x288 with 1 Axes>"
      ]
     },
     "metadata": {
      "needs_background": "light"
     },
     "output_type": "display_data"
    }
   ],
   "source": [
    "pred_q025_logistic = predict(md_q025_logistic, (Y0_logistic-mean_logistic)/std_logistic)\n",
    "plt.plot(range(10), pred_q025_logistic)\n",
    "plt.plot(range(10), stan_q025_logistic)\n",
    "plt.legend(['Pred 0.025 quantile', 'Stan 0.025 quantile'], loc='upper right')\n",
    "plt.show()"
   ]
  },
  {
   "cell_type": "code",
   "execution_count": 46,
   "metadata": {},
   "outputs": [
    {
     "name": "stdout",
     "output_type": "stream",
     "text": [
      "Epoch: 1\n",
      "Train loss: 0.01406\n",
      "Val loss: 0.01306\n",
      "Epoch: 2\n",
      "Train loss: 0.01208\n",
      "Val loss: 0.01206\n",
      "Epoch: 3\n",
      "Train loss: 0.01156\n",
      "Val loss: 0.01190\n",
      "Epoch: 4\n",
      "Train loss: 0.01126\n",
      "Val loss: 0.01149\n",
      "Epoch: 5\n",
      "Train loss: 0.01109\n",
      "Val loss: 0.01144\n",
      "Epoch: 6\n",
      "Train loss: 0.01093\n",
      "Val loss: 0.01141\n",
      "Epoch: 7\n",
      "Train loss: 0.01082\n",
      "Val loss: 0.01149\n",
      "Epoch: 8\n",
      "Train loss: 0.01072\n",
      "Val loss: 0.01143\n",
      "Epoch: 9\n",
      "Train loss: 0.01063\n",
      "Val loss: 0.01160\n",
      "Epoch: 10\n",
      "Train loss: 0.01056\n",
      "Val loss: 0.01129\n",
      "Epoch: 11\n",
      "Train loss: 0.01049\n",
      "Val loss: 0.01134\n",
      "Epoch: 12\n",
      "Train loss: 0.01042\n",
      "Val loss: 0.01121\n",
      "Epoch: 13\n",
      "Train loss: 0.01036\n",
      "Val loss: 0.01129\n",
      "Epoch: 14\n",
      "Train loss: 0.01030\n",
      "Val loss: 0.01130\n",
      "Epoch: 15\n",
      "Train loss: 0.01025\n",
      "Val loss: 0.01121\n",
      "Epoch: 16\n",
      "Train loss: 0.01019\n",
      "Val loss: 0.01128\n",
      "Epoch: 17\n",
      "Train loss: 0.01016\n",
      "Val loss: 0.01136\n",
      "Epoch: 18\n",
      "Train loss: 0.01010\n",
      "Val loss: 0.01172\n",
      "Epoch: 19\n",
      "Train loss: 0.01006\n",
      "Val loss: 0.01123\n",
      "Epoch: 20\n",
      "Train loss: 0.01002\n",
      "Val loss: 0.01137\n"
     ]
    }
   ],
   "source": [
    "torch.manual_seed(0)\n",
    "md_q975_logistic = MLP(N, p).to(device)\n",
    "train_losses, val_losses = train_model(md_q975_logistic, 0.001, 256, 20, Y_logistic_train, beta_logistic_train, \n",
    "                                       loss_type='quantile', q=0.975, val_data=Y_logistic_val, val_labels=beta_logistic_val)"
   ]
  },
  {
   "cell_type": "code",
   "execution_count": 47,
   "metadata": {},
   "outputs": [
    {
     "data": {
      "image/png": "[encoded data removed]",
      "text/plain": [
       "<Figure size 432x288 with 1 Axes>"
      ]
     },
     "metadata": {
      "needs_background": "light"
     },
     "output_type": "display_data"
    }
   ],
   "source": [
    "pred_q975_logistic = predict(md_q975_logistic, (Y0_logistic-mean_logistic)/std_logistic)\n",
    "plt.plot(range(10), pred_q975_logistic)\n",
    "plt.plot(range(10), stan_q975_logistic)\n",
    "plt.legend(['Pred 0.975 quantile', 'Stan 0.975 quantile'], loc='upper right')\n",
    "plt.show()"
   ]
  },
  {
   "cell_type": "code",
   "execution_count": 48,
   "metadata": {},
   "outputs": [
    {
     "name": "stdout",
     "output_type": "stream",
     "text": [
      "Epoch: 1\n",
      "Train loss: 0.05750\n",
      "Epoch: 2\n",
      "Train loss: 0.05185\n",
      "Epoch: 3\n",
      "Train loss: 0.05050\n",
      "Epoch: 4\n",
      "Train loss: 0.04983\n",
      "Epoch: 5\n",
      "Train loss: 0.04933\n",
      "Epoch: 6\n",
      "Train loss: 0.04895\n",
      "Epoch: 7\n",
      "Train loss: 0.04854\n",
      "Epoch: 8\n",
      "Train loss: 0.04831\n",
      "Epoch: 9\n",
      "Train loss: 0.04811\n",
      "Epoch: 10\n",
      "Train loss: 0.04790\n",
      "Epoch: 11\n",
      "Train loss: 0.04763\n",
      "Epoch: 12\n",
      "Train loss: 0.04748\n",
      "Epoch: 13\n",
      "Train loss: 0.04732\n",
      "Epoch: 14\n",
      "Train loss: 0.04717\n",
      "Epoch: 15\n",
      "Train loss: 0.04706\n",
      "Epoch: 16\n",
      "Train loss: 0.04694\n",
      "Epoch: 17\n",
      "Train loss: 0.04678\n",
      "Epoch: 18\n",
      "Train loss: 0.04668\n",
      "Epoch: 19\n",
      "Train loss: 0.04651\n",
      "Epoch: 20\n",
      "Train loss: 0.04645\n"
     ]
    },
    {
     "data": {
      "text/plain": [
       "0.049479663372039795"
      ]
     },
     "execution_count": 48,
     "metadata": {},
     "output_type": "execute_result"
    }
   ],
   "source": [
    "torch.manual_seed(0)\n",
    "md_sqr_logistic = MLP(N+1, p).to(device)\n",
    "train_model_sqr(md_sqr_logistic, 0.001, 256, 20, Y_logistic_train, beta_logistic_train)\n",
    "model_test_sqr(md_sqr_logistic, Y_logistic_val, beta_logistic_val)"
   ]
  },
  {
   "cell_type": "code",
   "execution_count": 49,
   "metadata": {},
   "outputs": [],
   "source": [
    "pred_q025_sqr_logistic = predict_sqr(md_sqr_logistic, (Y0_logistic-mean_logistic)/std_logistic, 0.025)\n",
    "pred_q975_sqr_logistic = predict_sqr(md_sqr_logistic, (Y0_logistic-mean_logistic)/std_logistic, 0.975)"
   ]
  },
  {
   "cell_type": "code",
   "execution_count": 50,
   "metadata": {},
   "outputs": [
    {
     "data": {
      "image/png": "[encoded data removed]",
      "text/plain": [
       "<Figure size 669.6x540 with 1 Axes>"
      ]
     },
     "metadata": {
      "needs_background": "light"
     },
     "output_type": "display_data"
    }
   ],
   "source": [
    "plt.figure(figsize=(9.3,7.5))\n",
    "plt.plot(np.arange(p)+1-0.2, stan_mean_logistic, '.r', ms=10)\n",
    "plt.vlines(np.arange(p)+1-0.2, stan_q025_logistic, stan_q975_logistic, lw=5)\n",
    "plt.plot(np.arange(p)+1, pred_mean_logistic.reshape(-1), '.g', ms=10)\n",
    "plt.vlines(np.arange(p)+1, pred_q025_logistic.reshape(-1), pred_q975_logistic.reshape(-1),color='#ff7f0e', lw=5)\n",
    "plt.vlines(np.arange(p)+1+0.2, pred_q025_sqr_logistic.reshape(-1), pred_q975_sqr_logistic.reshape(-1), color='y', lw=5)\n",
    "plt.legend(['Stan mean', 'Separate NN mean', 'Stan CI', 'Separate NN CI', 'SQR CI'], loc='lower left', ncol=1, fontsize=18)\n",
    "plt.show()"
   ]
  },
  {
   "cell_type": "markdown",
   "metadata": {},
   "source": [
    "## Summary\n",
    "The results of neural networks seem to be comparable with the results of Stan. The confidence intervals obtained by SQR seem to be slightly better than that obtained by separate neural networks. The posterior mean obtained by neural network is not at the middle of the confidence interval."
   ]
  },
  {
   "cell_type": "markdown",
   "metadata": {},
   "source": [
    "# Sequential Neural Postrior estimation (SNPE)"
   ]
  },
  {
   "cell_type": "code",
   "execution_count": 51,
   "metadata": {},
   "outputs": [],
   "source": [
    "from torch.distributions.multivariate_normal import MultivariateNormal\n",
    "from sbi.inference.base import infer\n",
    "from sbi import analysis as analysis\n",
    "from sbi.inference import SNPE, prepare_for_sbi, simulate_for_sbi"
   ]
  },
  {
   "cell_type": "markdown",
   "metadata": {},
   "source": [
    "## Logistic"
   ]
  },
  {
   "cell_type": "markdown",
   "metadata": {},
   "source": [
    "### Single-round inference\n",
    "Amortized inference: we can evaluate the posterior for different observation to the inference procedure."
   ]
  },
  {
   "cell_type": "code",
   "execution_count": 88,
   "metadata": {},
   "outputs": [],
   "source": [
    "prior = MultivariateNormal(torch.zeros(p), torch.eye(p))\n",
    "def simulator(beta):\n",
    "    X_tensor = torch.from_numpy(X).type(torch.float)\n",
    "    prob = torch.exp(X_tensor@beta) / (1 + torch.exp(X_tensor@beta))\n",
    "    return torch.bernoulli(prob)"
   ]
  },
  {
   "cell_type": "code",
   "execution_count": 102,
   "metadata": {},
   "outputs": [
    {
     "data": {
      "application/vnd.jupyter.widget-view+json": {
       "model_id": "8143ad76d41a46e2928e456b19ce75e2",
       "version_major": 2,
       "version_minor": 0
      },
      "text/plain": [
       "Running 50000 simulations.:   0%|          | 0/50000 [00:00<?, ?it/s]"
      ]
     },
     "metadata": {},
     "output_type": "display_data"
    },
    {
     "name": "stdout",
     "output_type": "stream",
     "text": [
      " Neural network successfully converged after 28 epochs."
     ]
    }
   ],
   "source": [
    "torch.manual_seed(0)\n",
    "posterior = infer(simulator, prior, method=\"SNPE\", num_simulations=50000) # the value of num_simulations may not be optimal"
   ]
  },
  {
   "cell_type": "code",
   "execution_count": 103,
   "metadata": {},
   "outputs": [
    {
     "data": {
      "application/vnd.jupyter.widget-view+json": {
       "model_id": "6c72756290134f159d59e1798123848e",
       "version_major": 2,
       "version_minor": 0
      },
      "text/plain": [
       "Drawing 10000 posterior samples:   0%|          | 0/10000 [00:00<?, ?it/s]"
      ]
     },
     "metadata": {},
     "output_type": "display_data"
    }
   ],
   "source": [
    "torch.manual_seed(0)\n",
    "pos_samples = posterior.sample((10000,), x=Y0_logistic).numpy()\n",
    "snpe_mean = np.mean(pos_samples, 0)\n",
    "snpe_q025 = np.quantile(pos_samples, 0.025, 0)\n",
    "snpe_q975 = np.quantile(pos_samples, 0.975, 0)"
   ]
  },
  {
   "cell_type": "code",
   "execution_count": 106,
   "metadata": {},
   "outputs": [
    {
     "data": {
      "image/png": "[encoded data removed]",
      "text/plain": [
       "<Figure size 432x288 with 1 Axes>"
      ]
     },
     "metadata": {
      "needs_background": "light"
     },
     "output_type": "display_data"
    }
   ],
   "source": [
    "plt.plot(np.arange(p)+1, stan_mean_logistic, '.r')\n",
    "plt.vlines(np.arange(p)+1, stan_q025_logistic, stan_q975_logistic)\n",
    "plt.plot(np.arange(p)+1+0.2, pred_mean_logistic.reshape(-1), '.g')\n",
    "plt.vlines(np.arange(p)+1+0.2, pred_q025_logistic.reshape(-1), pred_q975_logistic.reshape(-1),color='#ff7f0e')\n",
    "plt.plot(np.arange(p)+1-0.2, snpe_mean, '.')\n",
    "plt.vlines(np.arange(p)+1-0.2, snpe_q025, snpe_q975, color='y')\n",
    "plt.legend(['Stan mean', 'NN mean', 'SNPE mean', 'Stan CI', 'NN CI', 'SNPE CI'], loc='lower left')\n",
    "plt.ylim(-3,3)\n",
    "plt.show()"
   ]
  },
  {
   "cell_type": "markdown",
   "metadata": {},
   "source": [
    "### Multi-round inference\n",
    "In each new round of inference, it uses the posterior got in last round as proposal. Posterior no longer being amortized."
   ]
  },
  {
   "cell_type": "code",
   "execution_count": 110,
   "metadata": {},
   "outputs": [
    {
     "data": {
      "application/vnd.jupyter.widget-view+json": {
       "model_id": "2dc556ada1864c70ba473813700300e5",
       "version_major": 2,
       "version_minor": 0
      },
      "text/plain": [
       "Running 10000 simulations.:   0%|          | 0/10000 [00:00<?, ?it/s]"
      ]
     },
     "metadata": {},
     "output_type": "display_data"
    },
    {
     "name": "stdout",
     "output_type": "stream",
     "text": [
      " Neural network successfully converged after 24 epochs."
     ]
    },
    {
     "data": {
      "application/vnd.jupyter.widget-view+json": {
       "model_id": "a11c23e2d7e64171bd5a1b46ac96374c",
       "version_major": 2,
       "version_minor": 0
      },
      "text/plain": [
       "Drawing 10000 posterior samples:   0%|          | 0/10000 [00:00<?, ?it/s]"
      ]
     },
     "metadata": {},
     "output_type": "display_data"
    },
    {
     "data": {
      "application/vnd.jupyter.widget-view+json": {
       "model_id": "e7a6daec3d9f4d2aa9cc5d2966112b29",
       "version_major": 2,
       "version_minor": 0
      },
      "text/plain": [
       "Running 10000 simulations.:   0%|          | 0/10000 [00:00<?, ?it/s]"
      ]
     },
     "metadata": {},
     "output_type": "display_data"
    },
    {
     "name": "stdout",
     "output_type": "stream",
     "text": [
      "Using SNPE-C with atomic loss\n",
      " Neural network successfully converged after 72 epochs."
     ]
    }
   ],
   "source": [
    "torch.manual_seed(0)\n",
    "x_o = Y0_logistic\n",
    "num_rounds = 2\n",
    "posteriors = []\n",
    "simulator, prior = prepare_for_sbi(simulator, prior)\n",
    "proposal = prior\n",
    "inference = SNPE(prior=prior)\n",
    "for _ in range(num_rounds):\n",
    "    beta_sbi, x_sbi = simulate_for_sbi(simulator, proposal, num_simulations=10000)\n",
    "    density_estimator = inference.append_simulations(beta_sbi, x_sbi, proposal=proposal).train()\n",
    "    posterior = inference.build_posterior(density_estimator)\n",
    "    posteriors.append(posterior)\n",
    "    proposal = posterior.set_default_x(x_o)"
   ]
  },
  {
   "cell_type": "code",
   "execution_count": 111,
   "metadata": {},
   "outputs": [
    {
     "data": {
      "application/vnd.jupyter.widget-view+json": {
       "model_id": "e3e4fa6ffdf04a18969e3a39cb2c635e",
       "version_major": 2,
       "version_minor": 0
      },
      "text/plain": [
       "Drawing 10000 posterior samples:   0%|          | 0/10000 [00:00<?, ?it/s]"
      ]
     },
     "metadata": {},
     "output_type": "display_data"
    }
   ],
   "source": [
    "torch.manual_seed(0)\n",
    "pos_samples_2rounds = posterior.sample((10000,), x=Y0_logistic).numpy()\n",
    "snpe_mean_2rounds = np.mean(pos_samples_2rounds, 0)\n",
    "snpe_q025_2rounds = np.quantile(pos_samples_2rounds, 0.025, 0)\n",
    "snpe_q975_2rounds = np.quantile(pos_samples_2rounds, 0.975, 0)"
   ]
  },
  {
   "cell_type": "code",
   "execution_count": 114,
   "metadata": {},
   "outputs": [
    {
     "data": {
      "image/png": "[encoded data removed]",
      "text/plain": [
       "<Figure size 432x288 with 1 Axes>"
      ]
     },
     "metadata": {
      "needs_background": "light"
     },
     "output_type": "display_data"
    }
   ],
   "source": [
    "plt.plot(np.arange(p)+1, stan_mean_logistic, '.r')\n",
    "plt.vlines(np.arange(p)+1, stan_q025_logistic, stan_q975_logistic)\n",
    "plt.plot(np.arange(p)+1+0.2, pred_mean_logistic.reshape(-1), '.g')\n",
    "plt.vlines(np.arange(p)+1+0.2, pred_q025_logistic.reshape(-1), pred_q975_logistic.reshape(-1),color='#ff7f0e')\n",
    "plt.plot(np.arange(p)+1-0.2, snpe_mean_2rounds, '.')\n",
    "plt.vlines(np.arange(p)+1-0.2, snpe_q025_2rounds, snpe_q975_2rounds, color='y')\n",
    "plt.legend(['Stan mean', 'NN mean', 'SNPE mean', 'Stan CI', 'NN CI', 'SNPE CI'], loc='lower left')\n",
    "plt.ylim(-2.5,2.5)\n",
    "plt.show()"
   ]
  },
  {
   "cell_type": "markdown",
   "metadata": {},
   "source": [
    "## Summary\n",
    "The results of SNPE seem to be a little worse than that of our method. Under this situation, the cost of simulation is low, so it is more efficient to use single-round inference."
   ]
  }
 ],
 "metadata": {
  "kernelspec": {
   "display_name": "Python 3.7.9 ('pytorch')",
   "language": "python",
   "name": "python3"
  },
  "language_info": {
   "codemirror_mode": {
    "name": "ipython",
    "version": 3
   },
   "file_extension": ".py",
   "mimetype": "text/x-python",
   "name": "python",
   "nbconvert_exporter": "python",
   "pygments_lexer": "ipython3",
   "version": "3.7.9"
  },
  "orig_nbformat": 4,
  "vscode": {
   "interpreter": {
    "hash": "28f8cf0a8a4d3996c532b07e251eb4af62f7beb2b6ca98348312838517986615"
   }
  }
 },
 "nbformat": 4,
 "nbformat_minor": 2
}
