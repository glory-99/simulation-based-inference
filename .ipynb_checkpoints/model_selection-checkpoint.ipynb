{
 "cells": [
  {
   "cell_type": "code",
   "execution_count": 1,
   "metadata": {},
   "outputs": [],
   "source": [
    "import numpy as np\n",
    "import numpy.random as rng\n",
    "import torch\n",
    "import torch.nn as nn\n",
    "import matplotlib.pyplot as plt\n",
    "import math\n",
    "device = torch.device(\"cuda:0\" if torch.cuda.is_available() else \"cpu\")"
   ]
  },
  {
   "cell_type": "markdown",
   "metadata": {},
   "source": [
    "Generate X"
   ]
  },
  {
   "cell_type": "code",
   "execution_count": 2,
   "metadata": {},
   "outputs": [],
   "source": [
    "p = 200\n",
    "N = 50\n",
    "rho = 0"
   ]
  },
  {
   "cell_type": "code",
   "execution_count": 81,
   "metadata": {},
   "outputs": [],
   "source": [
    "Sigma = np.ones((p, p)) * rho\n",
    "Sigma = Sigma + np.diag(np.ones(p) * (1-rho))\n",
    "X = rng.multivariate_normal(np.zeros(p), Sigma, N)\n",
    "X = X - np.mean(X, axis=0)\n",
    "X = X * np.sqrt(N / np.sum(X**2, axis=0))"
   ]
  },
  {
   "cell_type": "code",
   "execution_count": null,
   "metadata": {},
   "outputs": [],
   "source": [
    "np.save('./data/X_rho09_N50_p200', X)"
   ]
  },
  {
   "cell_type": "code",
   "execution_count": 3,
   "metadata": {},
   "outputs": [],
   "source": [
    "X = np.load('./data/X_rho0_N50_p200.npy')"
   ]
  },
  {
   "cell_type": "code",
   "execution_count": 4,
   "metadata": {},
   "outputs": [
    {
     "data": {
      "text/plain": [
       "array([[ 1.        , -0.22317435,  0.07571759, ..., -0.15341889,\n",
       "         0.00907804, -0.13277991],\n",
       "       [-0.22317435,  1.        ,  0.14187555, ...,  0.2386463 ,\n",
       "         0.00484868,  0.26406071],\n",
       "       [ 0.07571759,  0.14187555,  1.        , ..., -0.02874032,\n",
       "         0.10405781,  0.18162737],\n",
       "       ...,\n",
       "       [-0.15341889,  0.2386463 , -0.02874032, ...,  1.        ,\n",
       "        -0.17354178, -0.14627226],\n",
       "       [ 0.00907804,  0.00484868,  0.10405781, ..., -0.17354178,\n",
       "         1.        ,  0.0655425 ],\n",
       "       [-0.13277991,  0.26406071,  0.18162737, ..., -0.14627226,\n",
       "         0.0655425 ,  1.        ]])"
      ]
     },
     "execution_count": 4,
     "metadata": {},
     "output_type": "execute_result"
    }
   ],
   "source": [
    "X.T @ X / 50"
   ]
  },
  {
   "cell_type": "code",
   "execution_count": 5,
   "metadata": {},
   "outputs": [
    {
     "data": {
      "image/png": "[encoded data removed]",
      "text/plain": [
       "<Figure size 432x288 with 1 Axes>"
      ]
     },
     "metadata": {
      "needs_background": "light"
     },
     "output_type": "display_data"
    }
   ],
   "source": [
    "plt.plot(X[:,0])\n",
    "plt.show()"
   ]
  },
  {
   "cell_type": "code",
   "execution_count": 6,
   "metadata": {},
   "outputs": [],
   "source": [
    "class Generator(object):\n",
    "    def __init__(self, p, theta, beta_range, N, X, cat_XtY=False) -> None:\n",
    "        self.p = p\n",
    "        self.theta = theta\n",
    "        self.beta_range = beta_range\n",
    "        self.N = N\n",
    "        self.X = X\n",
    "        self.cat_XtY = cat_XtY\n",
    "        self.normalize_c = 1.\n",
    "\n",
    "    def generate_samples(self, n):\n",
    "        scale = self.beta_range[1] - self.beta_range[0]\n",
    "        # every beta has the same theta\n",
    "        theta = np.ones((n, self.p)) * self.theta\n",
    "        gamma = rng.binomial(1, theta)\n",
    "        beta = np.zeros((n, self.p))\n",
    "        beta[gamma == 1] = rng.rand(\n",
    "            np.sum(gamma == 1)) * scale + self.beta_range[0]\n",
    "        beta[gamma == 0] = 0.\n",
    "        Y = beta@self.X.T + rng.randn(n, self.N)\n",
    "        if self.cat_XtY:\n",
    "            Y = np.concatenate((Y, Y @ self.X), axis=1)\n",
    "        return gamma, beta, Y/self.normalize_c\n",
    "\n",
    "\n",
    "class MLP(nn.Module):\n",
    "    def __init__(self, N, p, t=0):\n",
    "        super(MLP, self).__init__()\n",
    "\n",
    "        self.fc1 = nn.Linear(N, 1024)\n",
    "        self.fc2 = nn.Linear(1024, 2048)\n",
    "        self.fc3 = nn.Linear(2048, 2048)\n",
    "        self.fc4 = nn.Linear(2048, 1024)\n",
    "        self.fc5 = nn.Linear(1024, p)\n",
    "        self.relu = nn.ReLU()\n",
    "        self.mseloss = nn.MSELoss()\n",
    "        self.bceloss = nn.BCEWithLogitsLoss()\n",
    "        self.hshrink = nn.Hardshrink(t)\n",
    "        self.sshrink = nn.Softshrink(t)\n",
    "        self.tshrink = nn.Tanhshrink()\n",
    "\n",
    "    def forward(self, input):\n",
    "        u = self.relu(self.fc1(input))\n",
    "        u = self.relu(self.fc2(u))\n",
    "        u = self.relu(self.fc3(u))\n",
    "        u = self.relu(self.fc4(u))\n",
    "        output = self.fc5(u)\n",
    "        return output\n",
    "\n",
    "    def get_mseloss(self, data, targ):\n",
    "        output = self.forward(data)\n",
    "        loss = self.mseloss(output, targ)\n",
    "        return loss\n",
    "\n",
    "    def get_bceloss(self, data, targ):\n",
    "        output = self.forward(data)\n",
    "        loss = self.bceloss(output, targ)\n",
    "        return loss\n",
    "\n",
    "\n",
    "def train_epoch_with_generator(model, optimizer, generator, batch_size, iteration, bceloss=False, subset=0):\n",
    "    train_loss = 0.\n",
    "    for i in range(iteration):\n",
    "        gamma, beta, Y = generator.generate_samples(batch_size)\n",
    "        gamma = torch.from_numpy(gamma).type(torch.float).to(device)\n",
    "        beta = torch.from_numpy(beta).type(torch.float).to(device)\n",
    "        Y = torch.from_numpy(Y).type(torch.float).to(device)\n",
    "        if subset != 0:\n",
    "            beta = beta[:, :subset]\n",
    "            gamma = gamma[:, :subset]\n",
    "        if bceloss:\n",
    "            loss = model.get_bceloss(Y, gamma)\n",
    "        else:\n",
    "            loss = model.get_mseloss(Y, beta)\n",
    "        train_loss += loss.item()\n",
    "\n",
    "        optimizer.zero_grad()\n",
    "        loss.backward()\n",
    "        optimizer.step()\n",
    "    return train_loss/(i+1)\n",
    "\n",
    "\n",
    "def model_test(model, test_data, test_label, bceloss=False):\n",
    "    model.eval()\n",
    "    with torch.no_grad():\n",
    "        data = torch.from_numpy(test_data).type(torch.float).to(device)\n",
    "        targ = torch.from_numpy(test_label).type(torch.float).to(device)\n",
    "        if bceloss:\n",
    "            loss = model.get_bceloss(data, targ)\n",
    "        else:\n",
    "            loss = model.get_mseloss(data, targ)\n",
    "    return loss.item()\n",
    "\n",
    "\n",
    "def train_model_with_generator(model, generator, lr, batch_size, epochs, iter_per_epoch, bceloss=False, subset=0, val_data=None, val_label=None):\n",
    "    optimizer = torch.optim.Adam(model.parameters(), lr=lr)\n",
    "    train_losses = []\n",
    "    val_losses = []\n",
    "    for i in range(epochs):\n",
    "        model.train()\n",
    "        train_loss = train_epoch_with_generator(\n",
    "            model, optimizer, generator, batch_size, iter_per_epoch, bceloss, subset)\n",
    "        print('Epoch: {}, Loss: {:.5f}'.format(i+1, train_loss))\n",
    "        train_losses.append(train_loss)\n",
    "        if isinstance(val_data, np.ndarray):\n",
    "            val_loss = model_test(model, val_data, val_label, bceloss)\n",
    "            print('Val loss: {:.5f}'.format(val_loss))\n",
    "            val_losses.append(val_loss)\n",
    "    return train_losses, val_losses"
   ]
  },
  {
   "cell_type": "code",
   "execution_count": 20,
   "metadata": {},
   "outputs": [],
   "source": [
    "def train_epoch(model, optimizer, train_data, train_labels, batch_size, bceloss=False, subset=0):\n",
    "    n = train_data.shape[0]\n",
    "    total_loss = 0.\n",
    "    for i in range(math.ceil(n/batch_size)):\n",
    "        data = torch.from_numpy(train_data[(i*batch_size):min((i+1)*batch_size, n-1)]).type(torch.float).to(device)\n",
    "        targ = torch.from_numpy(train_labels[(i*batch_size):min((i+1)*batch_size, n-1)]).type(torch.float).to(device)\n",
    "        if subset != 0:\n",
    "            targ = targ[:, :subset]\n",
    "        if bceloss:\n",
    "            loss = model.get_bceloss(data, targ)\n",
    "        else:\n",
    "            loss = model.get_mseloss(data, targ)\n",
    "        total_loss += loss.item() * data.shape[0]\n",
    "        \n",
    "        optimizer.zero_grad()\n",
    "        loss.backward()\n",
    "        optimizer.step()\n",
    "    return total_loss/n\n",
    "\n",
    "def train_model(model, lr, batch_size, epochs, train_data, train_labels, bceloss=False, subset=0, val_data=None, val_labels=None):\n",
    "    optimizer = torch.optim.Adam(model.parameters(), lr=lr)\n",
    "    train_losses = []\n",
    "    val_losses = []\n",
    "    for i in range(epochs):\n",
    "        model.train()\n",
    "        train_loss = train_epoch(model, optimizer, train_data, train_labels, batch_size, bceloss, subset)\n",
    "        train_losses.append(train_loss)\n",
    "        print('Epoch: {}'.format(i+1))\n",
    "        print('Train loss: {:.5f}'.format(train_loss))\n",
    "        if isinstance(val_data, np.ndarray):\n",
    "            val_loss = model_test(model, val_data, val_labels, bceloss)\n",
    "            print('Val loss: {:.5f}'.format(val_loss))\n",
    "            val_losses.append(val_loss)\n",
    "    return train_losses, val_losses"
   ]
  },
  {
   "cell_type": "code",
   "execution_count": 8,
   "metadata": {},
   "outputs": [],
   "source": [
    "theta = 0.05\n",
    "beta_range = (-3, 3)\n",
    "generator = Generator(p, theta, beta_range, N, X, cat_XtY=True)"
   ]
  },
  {
   "cell_type": "code",
   "execution_count": 12,
   "metadata": {},
   "outputs": [],
   "source": [
    "gamma_val, beta_val, Y_val = generator.generate_samples(10000)"
   ]
  },
  {
   "cell_type": "code",
   "execution_count": 43,
   "metadata": {},
   "outputs": [],
   "source": [
    "np.save('./data/gamma_val_rho06', gamma_val)\n",
    "np.save('./data/beta_val_rho06', beta_val)\n",
    "np.save('./data/Y_val_rho06',Y_val)\n",
    "np.save('./data/normalize_constant_rho06', np.array([900.]))"
   ]
  },
  {
   "cell_type": "code",
   "execution_count": 9,
   "metadata": {},
   "outputs": [],
   "source": [
    "gamma_val = np.load('./data/gamma_val_rho0.npy')\n",
    "beta_val = np.load('./data/beta_val_rho0.npy')\n",
    "Y_val = np.load('./data/Y_val_rho0.npy')\n",
    "normalize_c = np.load('./data/normalize_constant_rho0.npy')"
   ]
  },
  {
   "cell_type": "code",
   "execution_count": 23,
   "metadata": {},
   "outputs": [
    {
     "data": {
      "text/plain": [
       "325.401304131824"
      ]
     },
     "execution_count": 23,
     "metadata": {},
     "output_type": "execute_result"
    }
   ],
   "source": [
    "np.max(np.abs(Y_val))"
   ]
  },
  {
   "cell_type": "code",
   "execution_count": 39,
   "metadata": {},
   "outputs": [
    {
     "data": {
      "text/plain": [
       "[<matplotlib.lines.Line2D at 0x2c6211a4e08>]"
      ]
     },
     "execution_count": 39,
     "metadata": {},
     "output_type": "execute_result"
    },
    {
     "data": {
      "image/png": "[encoded data removed]",
      "text/plain": [
       "<Figure size 432x288 with 1 Axes>"
      ]
     },
     "metadata": {
      "needs_background": "light"
     },
     "output_type": "display_data"
    }
   ],
   "source": [
    "plt.plot(Y_val[2,:50])"
   ]
  },
  {
   "cell_type": "code",
   "execution_count": 10,
   "metadata": {},
   "outputs": [
    {
     "data": {
      "text/plain": [
       "array([350.])"
      ]
     },
     "execution_count": 10,
     "metadata": {},
     "output_type": "execute_result"
    }
   ],
   "source": [
    "generator.normalize_c = normalize_c\n",
    "generator.normalize_c"
   ]
  },
  {
   "cell_type": "code",
   "execution_count": 11,
   "metadata": {},
   "outputs": [],
   "source": [
    "model = MLP(N+p, p).to(device)"
   ]
  },
  {
   "cell_type": "code",
   "execution_count": 12,
   "metadata": {},
   "outputs": [
    {
     "data": {
      "text/plain": [
       "array([350.])"
      ]
     },
     "execution_count": 12,
     "metadata": {},
     "output_type": "execute_result"
    }
   ],
   "source": [
    "normalize_c"
   ]
  },
  {
   "cell_type": "code",
   "execution_count": 13,
   "metadata": {},
   "outputs": [],
   "source": [
    "gamma_train, beta_train, Y_train = generator.generate_samples(2000000)"
   ]
  },
  {
   "cell_type": "code",
   "execution_count": 21,
   "metadata": {},
   "outputs": [
    {
     "name": "stdout",
     "output_type": "stream",
     "text": [
      "Epoch: 1\n",
      "Train loss: 0.06492\n"
     ]
    },
    {
     "ename": "TypeError",
     "evalue": "isinstance() arg 2 must be a type or tuple of types",
     "output_type": "error",
     "traceback": [
      "\u001b[0;31m---------------------------------------------------------------------------\u001b[0m",
      "\u001b[0;31mTypeError\u001b[0m                                 Traceback (most recent call last)",
      "\u001b[0;32m<ipython-input-21-a612fddf7c59>\u001b[0m in \u001b[0;36m<module>\u001b[0;34m\u001b[0m\n\u001b[0;32m----> 1\u001b[0;31m \u001b[0mtrain_losses\u001b[0m\u001b[0;34m,\u001b[0m \u001b[0mval_losses\u001b[0m \u001b[0;34m=\u001b[0m \u001b[0mtrain_model\u001b[0m\u001b[0;34m(\u001b[0m\u001b[0mmodel\u001b[0m\u001b[0;34m,\u001b[0m \u001b[0;36m0.001\u001b[0m\u001b[0;34m,\u001b[0m \u001b[0;36m256\u001b[0m\u001b[0;34m,\u001b[0m \u001b[0;36m100\u001b[0m\u001b[0;34m,\u001b[0m \u001b[0mY_train\u001b[0m\u001b[0;34m,\u001b[0m \u001b[0mbeta_train\u001b[0m\u001b[0;34m,\u001b[0m \u001b[0mval_data\u001b[0m\u001b[0;34m=\u001b[0m\u001b[0mY_val\u001b[0m\u001b[0;34m/\u001b[0m\u001b[0mnormalize_c\u001b[0m\u001b[0;34m,\u001b[0m \u001b[0mval_labels\u001b[0m\u001b[0;34m=\u001b[0m\u001b[0mbeta_val\u001b[0m\u001b[0;34m)\u001b[0m\u001b[0;34m\u001b[0m\u001b[0;34m\u001b[0m\u001b[0m\n\u001b[0m",
      "\u001b[0;32m<ipython-input-20-9097dd9197d5>\u001b[0m in \u001b[0;36mtrain_model\u001b[0;34m(model, lr, batch_size, epochs, train_data, train_labels, bceloss, subset, val_data, val_labels)\u001b[0m\n\u001b[1;32m     28\u001b[0m         \u001b[0mprint\u001b[0m\u001b[0;34m(\u001b[0m\u001b[0;34m'Epoch: {}'\u001b[0m\u001b[0;34m.\u001b[0m\u001b[0mformat\u001b[0m\u001b[0;34m(\u001b[0m\u001b[0mi\u001b[0m\u001b[0;34m+\u001b[0m\u001b[0;36m1\u001b[0m\u001b[0;34m)\u001b[0m\u001b[0;34m)\u001b[0m\u001b[0;34m\u001b[0m\u001b[0;34m\u001b[0m\u001b[0m\n\u001b[1;32m     29\u001b[0m         \u001b[0mprint\u001b[0m\u001b[0;34m(\u001b[0m\u001b[0;34m'Train loss: {:.5f}'\u001b[0m\u001b[0;34m.\u001b[0m\u001b[0mformat\u001b[0m\u001b[0;34m(\u001b[0m\u001b[0mtrain_loss\u001b[0m\u001b[0;34m)\u001b[0m\u001b[0;34m)\u001b[0m\u001b[0;34m\u001b[0m\u001b[0;34m\u001b[0m\u001b[0m\n\u001b[0;32m---> 30\u001b[0;31m         \u001b[0;32mif\u001b[0m \u001b[0misinstance\u001b[0m\u001b[0;34m(\u001b[0m\u001b[0mval_data\u001b[0m\u001b[0;34m,\u001b[0m \u001b[0mnp\u001b[0m\u001b[0;34m.\u001b[0m\u001b[0marray\u001b[0m\u001b[0;34m)\u001b[0m\u001b[0;34m:\u001b[0m\u001b[0;34m\u001b[0m\u001b[0;34m\u001b[0m\u001b[0m\n\u001b[0m\u001b[1;32m     31\u001b[0m             \u001b[0mval_loss\u001b[0m \u001b[0;34m=\u001b[0m \u001b[0mmodel_test\u001b[0m\u001b[0;34m(\u001b[0m\u001b[0mmodel\u001b[0m\u001b[0;34m,\u001b[0m \u001b[0mval_data\u001b[0m\u001b[0;34m,\u001b[0m \u001b[0mval_labels\u001b[0m\u001b[0;34m,\u001b[0m \u001b[0mbceloss\u001b[0m\u001b[0;34m)\u001b[0m\u001b[0;34m\u001b[0m\u001b[0;34m\u001b[0m\u001b[0m\n\u001b[1;32m     32\u001b[0m             \u001b[0mprint\u001b[0m\u001b[0;34m(\u001b[0m\u001b[0;34m'Val loss: {:.5f}'\u001b[0m\u001b[0;34m.\u001b[0m\u001b[0mformat\u001b[0m\u001b[0;34m(\u001b[0m\u001b[0mval_loss\u001b[0m\u001b[0;34m)\u001b[0m\u001b[0;34m)\u001b[0m\u001b[0;34m\u001b[0m\u001b[0;34m\u001b[0m\u001b[0m\n",
      "\u001b[0;31mTypeError\u001b[0m: isinstance() arg 2 must be a type or tuple of types"
     ]
    }
   ],
   "source": [
    "train_losses, val_losses = train_model(model, 0.001, 256, 100, Y_train, beta_train, val_data=Y_val/normalize_c, val_labels=beta_val)"
   ]
  },
  {
   "cell_type": "code",
   "execution_count": 16,
   "metadata": {},
   "outputs": [
    {
     "name": "stdout",
     "output_type": "stream",
     "text": [
      "Epoch: 1, Loss: 0.08020\n",
      "Val loss: 0.07558\n",
      "Epoch: 2, Loss: 0.07072\n",
      "Val loss: 0.06701\n",
      "Epoch: 3, Loss: 0.06401\n",
      "Val loss: 0.06173\n",
      "Epoch: 4, Loss: 0.06073\n",
      "Val loss: 0.05895\n",
      "Epoch: 5, Loss: 0.05897\n",
      "Val loss: 0.05860\n",
      "Epoch: 6, Loss: 0.05790\n",
      "Val loss: 0.05720\n",
      "Epoch: 7, Loss: 0.05697\n",
      "Val loss: 0.05668\n",
      "Epoch: 8, Loss: 0.05647\n",
      "Val loss: 0.05618\n",
      "Epoch: 9, Loss: 0.05597\n",
      "Val loss: 0.05583\n",
      "Epoch: 10, Loss: 0.05555\n",
      "Val loss: 0.05519\n",
      "Epoch: 11, Loss: 0.05533\n",
      "Val loss: 0.05458\n",
      "Epoch: 12, Loss: 0.05504\n",
      "Val loss: 0.05454\n",
      "Epoch: 13, Loss: 0.05475\n",
      "Val loss: 0.05403\n",
      "Epoch: 14, Loss: 0.05462\n",
      "Val loss: 0.05461\n",
      "Epoch: 15, Loss: 0.05436\n",
      "Val loss: 0.05444\n",
      "Epoch: 16, Loss: 0.05423\n",
      "Val loss: 0.05392\n",
      "Epoch: 17, Loss: 0.05407\n",
      "Val loss: 0.05435\n",
      "Epoch: 18, Loss: 0.05396\n",
      "Val loss: 0.05362\n",
      "Epoch: 19, Loss: 0.05380\n",
      "Val loss: 0.05338\n",
      "Epoch: 20, Loss: 0.05368\n",
      "Val loss: 0.05321\n",
      "Epoch: 21, Loss: 0.05370\n",
      "Val loss: 0.05393\n",
      "Epoch: 22, Loss: 0.05357\n",
      "Val loss: 0.05321\n",
      "Epoch: 23, Loss: 0.05344\n",
      "Val loss: 0.05275\n",
      "Epoch: 24, Loss: 0.05340\n",
      "Val loss: 0.05304\n",
      "Epoch: 25, Loss: 0.05321\n",
      "Val loss: 0.05321\n"
     ]
    }
   ],
   "source": [
    "train_losses, val_losses = train_model_with_generator(model, generator, 0.001, 256, 25, 3000, val_data=Y_val/normalize_c, val_label=beta_val)"
   ]
  },
  {
   "cell_type": "code",
   "execution_count": 35,
   "metadata": {},
   "outputs": [
    {
     "name": "stdout",
     "output_type": "stream",
     "text": [
      "tensor([ 1.6414e-05, -1.5134e-07, -2.5611e-07,  7.2513e-06,  3.3304e-06,\n",
      "        -2.0981e-05,  3.3751e-06, -4.8429e-08, -8.8476e-09,  9.0338e-08,\n",
      "         4.9546e-07, -1.0161e-06, -6.5658e-07, -1.1567e-06, -3.4217e-06,\n",
      "         8.1491e-10,  1.2573e-08, -1.6224e-06, -1.0291e-06,  6.4336e-06,\n",
      "         5.0385e-06,  6.8713e-06, -3.0454e-07,  1.0822e-05,  4.4815e-06,\n",
      "         3.2317e-06, -2.1253e-06,  1.1632e-06,  1.6481e-05, -6.1467e-06,\n",
      "         4.3679e-06, -2.7847e-07, -1.0516e-05,  5.3551e-08, -4.4424e-07,\n",
      "        -2.7400e-06, -1.4622e-06,  1.6764e-07, -6.3423e-07, -1.3039e-08,\n",
      "        -1.0589e-06,  2.5947e-06, -6.1262e-06, -6.3702e-07,  1.0012e-07,\n",
      "        -1.7211e-06, -7.2867e-06, -4.1071e-06,  1.8347e-06, -8.5775e-07,\n",
      "        -2.4941e-06,  9.1419e-06,  2.3935e-07, -2.1867e-06, -1.6298e-07,\n",
      "         1.8533e-07,  3.1665e-08, -5.8208e-11, -5.8208e-10, -7.2643e-08,\n",
      "        -3.0864e-06,  1.8012e-06,  5.4482e-08, -2.4959e-07, -3.2969e-07,\n",
      "        -6.0536e-09, -1.8394e-08, -4.0215e-06,  1.2424e-06,  1.8161e-08,\n",
      "        -2.9802e-08, -5.4482e-08, -8.7358e-07, -1.0964e-05,  3.1218e-06,\n",
      "        -1.7062e-06, -6.1467e-08,  9.7286e-06,  9.4995e-08,  2.9104e-11,\n",
      "         1.4435e-07,  9.4529e-08,  2.9802e-08, -6.0853e-06, -2.2314e-06,\n",
      "         4.2189e-07,  3.4738e-07, -2.2873e-06, -5.2340e-07, -6.4149e-06,\n",
      "         4.6566e-08, -1.5367e-08, -2.2817e-08,  1.1612e-05,  2.9989e-07,\n",
      "        -8.7880e-06, -4.6790e-06,  1.0412e-06, -1.4156e-06,  3.9581e-09,\n",
      "        -1.2433e-07,  2.9895e-07,  1.9791e-09,  2.8387e-06,  7.6648e-07,\n",
      "        -6.6571e-06,  7.4096e-06, -9.3579e-06,  1.1280e-05,  2.0117e-07,\n",
      "         5.6401e-06, -2.8331e-06,  1.1679e-06, -2.1327e-07,  1.9427e-06,\n",
      "        -1.1213e-06, -1.6280e-06,  3.7551e-06, -1.9632e-06, -1.2806e-08,\n",
      "        -1.0012e-07,  6.5938e-07,  4.2375e-08, -3.7774e-06,  1.8533e-06,\n",
      "        -9.1065e-06,  1.6693e-05,  1.1642e-10,  9.6299e-07, -2.3879e-06,\n",
      "        -3.6787e-08,  0.0000e+00,  2.5760e-06, -7.9516e-06,  2.6543e-08,\n",
      "        -7.2643e-08,  2.9542e-06,  2.4177e-06,  1.7462e-10, -1.2582e-06,\n",
      "         1.1856e-06, -3.4925e-10,  1.1651e-06, -1.4435e-08,  4.4424e-06,\n",
      "        -1.3271e-08,  1.8906e-06,  1.3482e-05,  1.6168e-06, -2.0880e-06,\n",
      "         4.0848e-06, -6.3982e-07, -1.5739e-06,  0.0000e+00,  3.8370e-06,\n",
      "        -8.1491e-08, -6.8769e-06, -6.2548e-06, -1.1735e-06, -3.3509e-06,\n",
      "         8.8848e-07,  8.1491e-10,  4.6492e-06,  5.2117e-06,  1.3737e-08,\n",
      "        -9.9577e-06,  4.9546e-07,  2.3358e-06,  8.3819e-09, -6.8191e-06,\n",
      "        -7.7896e-06, -3.9786e-06, -7.4096e-06,  6.9756e-06, -1.3523e-06,\n",
      "         2.3749e-07,  9.9912e-06,  3.4925e-09,  1.1483e-06, -7.4040e-08,\n",
      "        -1.6987e-06,  5.5935e-06, -1.2629e-05, -8.2869e-06, -4.6566e-09,\n",
      "        -7.2196e-06, -2.0206e-05,  9.5926e-08,  1.3970e-07, -4.2301e-06,\n",
      "         1.1090e-05, -4.3120e-07, -6.2399e-08, -1.3551e-07, -6.1560e-07,\n",
      "        -1.0058e-06, -2.6375e-06, -8.6632e-06,  6.4224e-06,  1.2759e-07],\n",
      "       device='cuda:0')\n"
     ]
    }
   ],
   "source": [
    "model.eval()\n",
    "with torch.no_grad():\n",
    "    print(model(torch.from_numpy(Y_val[0]/normalize_c).type(torch.float).to(device)))"
   ]
  },
  {
   "cell_type": "code",
   "execution_count": 42,
   "metadata": {},
   "outputs": [
    {
     "data": {
      "image/png": "[encoded data removed]",
      "text/plain": [
       "<Figure size 432x288 with 1 Axes>"
      ]
     },
     "metadata": {
      "needs_background": "light"
     },
     "output_type": "display_data"
    }
   ],
   "source": [
    "plt.plot(range(len(train_losses)), train_losses)\n",
    "plt.plot(range(len(train_losses)), val_losses)\n",
    "plt.legend(['train loss', 'val loss'], loc=\"upper right\")\n",
    "plt.show()"
   ]
  },
  {
   "cell_type": "code",
   "execution_count": 14,
   "metadata": {},
   "outputs": [
    {
     "data": {
      "text/plain": [
       "tensor([-2.1356e-03, -1.9509e-03,  8.6315e-04,  2.7134e-03,  2.2696e-03,\n",
       "         2.0534e-03, -2.3864e-03,  9.1116e-04,  1.1884e-03, -3.6927e-04,\n",
       "         5.3413e-03, -7.7877e-04,  1.1247e-03, -3.5897e-03, -1.9135e-03,\n",
       "        -3.6004e-04,  3.4093e-03,  1.5913e-03, -3.0593e-03,  5.5612e-04,\n",
       "        -2.7383e-04, -7.2972e-05,  2.9570e-03,  3.0879e-04, -3.7354e-03,\n",
       "         5.8934e-03,  1.3556e-03,  2.4641e-03,  9.9242e-04,  6.6320e-03,\n",
       "         2.9021e-03,  6.1032e-04, -5.4758e-04, -2.7579e-04, -3.7908e-03,\n",
       "         1.2188e-03,  3.2247e-03, -4.5735e-03, -1.6367e-03,  2.9071e-03,\n",
       "        -2.4446e-03,  5.0206e-03,  1.1308e-03,  3.4796e-03, -2.9448e-03,\n",
       "        -1.6018e-03,  6.0706e-04,  3.9783e-03,  7.6741e-04, -3.4235e-03,\n",
       "        -9.4673e-04, -3.1079e-04,  8.4942e-04, -7.1194e-04,  2.0698e-03,\n",
       "         4.5115e-03,  1.4267e-03,  3.8891e-03,  2.0673e-04, -6.6604e-04,\n",
       "         2.5294e-03,  4.9518e-04,  4.0886e-04,  2.7636e-03,  8.8944e-03,\n",
       "        -4.3159e-03,  8.4544e-04,  2.0263e-04,  9.0553e-04, -8.2306e-04,\n",
       "        -4.3979e-03,  2.1714e-03, -4.2195e-03,  5.0138e-03, -2.0554e-03,\n",
       "         1.9769e-03, -5.8907e-03,  1.0062e-03,  8.5708e-04, -9.9509e-04,\n",
       "        -5.4967e-04, -8.6964e-04, -2.3952e-03, -4.0718e-03,  3.6089e-03,\n",
       "        -8.5130e-04, -1.0805e-04,  1.2802e-03, -1.1724e-03, -2.6078e-03,\n",
       "        -8.9005e-04,  1.1115e-03, -3.1902e-03, -3.2395e-03,  3.4895e-04,\n",
       "         1.0387e-03,  2.3174e-03, -3.3655e-03, -4.8725e-03,  1.6574e-03,\n",
       "         1.7362e-03,  4.2861e-03,  2.8612e-04,  6.4021e-03, -1.9512e-03,\n",
       "         2.8231e-03,  8.7689e-05, -2.1569e-03,  2.5525e-04, -3.5040e-04,\n",
       "        -1.5050e-03,  1.1850e-03, -3.0273e-03,  2.9517e-04,  2.8126e-03,\n",
       "        -2.5113e-03, -1.4568e-03, -4.8834e-03,  1.7090e-03,  3.6674e-03,\n",
       "         4.3080e-03, -2.1924e-03, -2.2601e-03,  5.0018e-03,  9.9266e-04,\n",
       "        -1.3905e-04, -4.0635e-03,  8.5208e-04, -8.7394e-04, -3.4615e-03,\n",
       "         3.6613e-03, -3.7532e-04, -5.5567e-03,  6.2828e-04, -2.6656e-03,\n",
       "         7.1688e-04,  3.4699e-03, -2.9272e-03, -2.9455e-03, -3.7675e-03,\n",
       "         5.3744e-04,  3.0232e-03,  2.3270e-03, -3.2078e-03,  1.8100e-03,\n",
       "        -2.0073e-03, -3.3869e-03, -3.1404e-03, -1.5254e-03,  2.3217e-03,\n",
       "        -2.1904e-03,  3.5246e-03,  2.7938e-03, -2.5334e-04,  1.5786e-03,\n",
       "        -2.0606e-03,  4.3211e-04, -3.0308e-03,  1.5679e-04, -2.0646e-03,\n",
       "        -1.5648e-03, -4.1712e-03, -2.9784e-03,  2.6773e-03, -1.8137e-03,\n",
       "         3.1903e-03,  2.5087e-03,  4.2643e-04, -1.5278e-03, -2.7613e-03,\n",
       "         6.1020e-04, -4.8880e-03, -1.9798e-03,  6.8733e-04,  5.1448e-04,\n",
       "        -5.3271e-03, -2.9646e-03,  1.6546e-03,  1.7819e-04,  2.2494e-03,\n",
       "         3.0794e-03,  2.3449e-03,  6.7563e-04,  2.9584e-03,  3.6600e-03,\n",
       "         1.0247e-03, -1.5630e-03,  3.2037e-03, -9.4009e-04,  2.4210e-03,\n",
       "         5.2523e-03, -1.6451e-03,  1.4546e-03, -3.3366e-03, -2.1783e-03,\n",
       "        -3.3377e-04,  1.4646e-03,  2.2381e-05,  2.8754e-03,  2.6852e-03,\n",
       "        -5.0072e-03,  2.6212e-03, -3.1060e-03, -2.8182e-03,  7.2628e-06,\n",
       "         6.9442e-04, -5.2217e-03,  9.3895e-04, -7.4258e-04, -2.0750e-03,\n",
       "         1.1639e-03, -1.1917e-03,  1.5339e-03,  1.1261e-03, -4.4987e-03,\n",
       "         2.5642e-03,  3.9629e-03,  1.4077e-04, -1.5093e-03, -2.6117e-03,\n",
       "         2.3988e-03, -1.2871e-03,  3.2775e-03, -2.9650e-03, -2.6919e-03,\n",
       "        -8.3198e-04, -7.9265e-04,  2.4311e-03, -2.4767e-03,  6.0861e-03,\n",
       "        -4.7194e-03,  5.4651e-03, -1.8778e-03, -1.9158e-03, -4.6059e-03,\n",
       "         4.6403e-03, -3.1670e-03,  2.1705e-03,  3.1966e-03,  1.7570e-03,\n",
       "         9.1911e-04, -6.0257e-04,  1.7642e-03,  5.1360e-03, -1.2551e-03,\n",
       "         3.0293e-03, -7.7726e-04,  2.5899e-03,  4.3619e-03, -1.7858e-03,\n",
       "         1.9225e-03, -2.7776e-03, -8.8171e-03, -3.3963e-03,  2.2416e-03,\n",
       "        -6.3390e-03, -2.4234e-03, -1.4382e-03,  1.1087e-04,  5.1736e-03,\n",
       "         9.8822e-04,  1.0921e-03,  2.3001e-03, -1.1162e-03, -9.3286e-04,\n",
       "         1.1318e-03,  2.9810e-03,  6.0253e-03,  2.9933e-03,  1.8638e-03,\n",
       "         2.0940e-03,  1.3174e-03, -2.5939e-03, -4.5491e-04,  1.5334e-03,\n",
       "        -3.7150e-03, -2.2621e-03,  3.5540e-04, -1.1228e-03,  7.4684e-03,\n",
       "        -3.5657e-03, -4.0902e-03, -1.2025e-03, -5.7003e-03, -6.3413e-03,\n",
       "        -1.5189e-03,  1.7606e-03, -1.0349e-04, -1.1783e-04, -3.2494e-03,\n",
       "        -2.3575e-03, -6.1274e-03, -3.3141e-03,  2.4243e-03, -5.8652e-04,\n",
       "        -1.7827e-03,  8.5761e-04,  1.5480e-03, -1.7715e-03, -7.3431e-04,\n",
       "        -3.8572e-03,  5.7851e-04,  2.0451e-03, -1.0132e-03, -3.1107e-04,\n",
       "        -1.9583e-03,  3.9079e-03,  2.4112e-04, -1.8026e-03, -1.7983e-03,\n",
       "        -1.5809e-03, -3.7470e-04,  4.4013e-04, -1.5039e-03, -1.4821e-03,\n",
       "        -1.8674e-03,  8.3819e-04, -1.7017e-03,  4.5079e-04,  2.1703e-03,\n",
       "        -7.2409e-04, -3.9666e-03, -1.9432e-03,  2.8281e-04, -2.9710e-03,\n",
       "         1.2605e-05,  2.6657e-04, -3.6356e-03, -2.3076e-03,  1.9525e-03,\n",
       "        -1.2223e-03,  1.5852e-03, -1.9276e-03, -2.1254e-03,  1.9860e-03,\n",
       "         1.3821e-03, -6.9299e-03,  3.3580e-03, -3.2102e-03,  8.6399e-04,\n",
       "         3.1734e-03,  3.2134e-03,  4.3748e-03, -1.4454e-03,  8.2407e-04,\n",
       "        -2.4950e-03,  5.9278e-04, -4.5273e-03,  1.1824e-03, -3.1481e-03,\n",
       "         3.8048e-03, -1.2616e-03, -3.4638e-03, -3.7988e-03,  2.5184e-03,\n",
       "         1.2182e-03, -3.2143e-03,  3.4883e-03, -1.2479e-03, -4.0362e-03,\n",
       "         1.9737e-03,  2.4329e-03,  5.3035e-04, -1.5768e-03,  1.7005e-03,\n",
       "        -6.9160e-04,  1.3235e-03, -4.5525e-03, -2.1090e-03,  3.6784e-04,\n",
       "         1.6843e-03,  3.5589e-03,  8.0618e-04, -1.7898e-04,  7.9861e-04,\n",
       "        -2.3899e-03, -1.4853e-03, -2.5798e-03, -1.4719e-03, -2.3086e-03,\n",
       "        -1.0805e-03,  4.4904e-03,  1.8649e-03, -1.1405e-03, -3.2658e-03,\n",
       "         3.3956e-03, -7.8850e-04,  3.3052e-04,  5.4855e-03, -5.8331e-04,\n",
       "         1.0602e-03,  1.4954e-03, -3.4400e-03, -5.0988e-04,  3.5069e-04,\n",
       "         1.2677e-03,  8.8810e-04, -2.2352e-03, -5.8822e-03,  2.4941e-03,\n",
       "         9.8367e-04,  3.5284e-04, -1.7989e-03,  7.2711e-04,  1.7841e-03,\n",
       "         5.0200e-04, -2.1583e-03, -2.5354e-03, -1.4448e-03,  1.9491e-03,\n",
       "        -2.2127e-03,  1.0635e-04,  4.2415e-04, -2.0518e-03,  1.2016e-03,\n",
       "         1.8842e-03, -1.3202e-03, -1.3056e-03, -6.1874e-03, -4.7511e-03,\n",
       "         1.8939e-03, -2.4494e-03,  1.4125e-03, -2.3495e-03, -4.1693e-04,\n",
       "        -3.1162e-03,  1.4628e-04, -4.7526e-05,  3.5838e-03,  1.1608e-03,\n",
       "         3.3500e-03,  3.0826e-03,  9.9764e-04, -3.3027e-03,  1.4378e-03,\n",
       "         1.1078e-03, -1.7611e-03,  4.6176e-05,  4.2122e-03, -3.7990e-03,\n",
       "         7.8404e-03,  1.4227e-03,  2.3425e-03, -3.6559e-04,  2.2354e-03,\n",
       "         1.4891e-03,  3.6207e-03,  1.6519e-03, -1.0700e-03, -1.0599e-03,\n",
       "         2.0525e-03, -1.2463e-03, -4.4669e-05, -8.4825e-04,  3.6061e-03,\n",
       "        -4.2480e-03,  5.1181e-04,  3.6182e-03, -2.0332e-03,  3.2791e-03,\n",
       "        -5.1336e-03,  1.6102e-03, -5.6299e-03, -3.9083e-04,  1.2621e-03,\n",
       "         2.8614e-03, -2.9845e-03,  4.7509e-03, -1.3263e-03, -9.6312e-04,\n",
       "         4.4159e-03, -1.3220e-04, -1.2547e-03, -6.2675e-04,  3.5452e-03,\n",
       "        -3.1362e-03, -2.3325e-03,  8.7315e-05, -1.4155e-03,  1.5259e-03,\n",
       "        -6.5059e-03,  1.2295e-03,  1.2496e-03,  1.7595e-03, -6.6993e-05,\n",
       "        -1.3565e-03,  4.8316e-03,  1.7336e-04, -8.1686e-04, -2.5849e-03,\n",
       "        -1.7132e-03, -2.3868e-03, -1.6546e-03, -4.1888e-03, -2.7689e-03,\n",
       "        -3.6749e-03,  1.2789e-03,  6.9824e-04,  9.6726e-04,  6.3053e-04,\n",
       "         6.5831e-04, -1.1893e-03, -1.3689e-03,  1.2424e-03, -1.8702e-03,\n",
       "        -3.9528e-04,  1.8155e-04,  4.7878e-03, -2.2374e-03,  3.9821e-03,\n",
       "         6.1093e-04,  2.1479e-03,  1.4940e-03,  1.3801e-03, -1.2555e-03,\n",
       "        -9.0247e-04, -2.4075e-03,  2.2935e-03, -6.4040e-04, -3.0804e-04,\n",
       "        -4.4796e-04, -2.8173e-03,  9.5277e-04,  1.8170e-03,  8.6271e-04,\n",
       "         1.2662e-03, -2.5382e-03,  2.9999e-03, -7.1680e-05,  1.4518e-03,\n",
       "        -2.3262e-03, -2.2382e-03,  2.6998e-03,  2.1833e-03,  1.2024e-03,\n",
       "        -3.7402e-03, -3.4140e-04,  7.4247e-04, -1.6072e-04, -2.7651e-03,\n",
       "         1.0963e-03, -1.1441e-03, -6.0619e-03, -4.9416e-04, -3.8691e-03,\n",
       "        -3.9244e-04, -2.7012e-03, -2.4240e-03,  1.0044e-04,  1.3057e-03,\n",
       "        -3.7474e-03, -1.1758e-04, -1.0997e-03, -2.6262e-03, -2.5374e-03,\n",
       "        -2.5116e-03,  5.1717e-04,  2.3571e-03,  4.6592e-03, -2.9206e-03,\n",
       "         7.2652e-04, -4.8719e-05,  4.1968e-03, -2.0455e-03, -2.3742e-03,\n",
       "        -3.0258e-03,  2.4583e-03, -1.2988e-03,  1.7967e-03, -1.0998e-03,\n",
       "         2.1954e-03,  9.1731e-04,  3.2227e-04, -5.3961e-03, -3.0872e-03,\n",
       "         2.3138e-03,  1.4327e-03,  3.4210e-03, -5.5194e-03, -1.7817e-03,\n",
       "         8.5158e-04,  1.1900e-03, -4.6515e-04, -2.7057e-03, -5.9711e-03,\n",
       "        -1.3067e-03,  1.9068e-03, -3.1396e-03, -3.2586e-04,  3.2484e-03,\n",
       "         4.9262e-04,  4.1539e-04,  9.5800e-04,  2.9897e-03,  1.9523e-03,\n",
       "        -1.2841e-03,  1.1213e-03,  3.6798e-03, -5.6413e-04,  4.3831e-04,\n",
       "         1.9856e-03,  2.6928e-03, -2.0829e-03, -3.7844e-03, -3.8870e-03,\n",
       "         3.5939e-04, -1.8891e-03, -2.5561e-03, -1.2389e-03, -2.7378e-03,\n",
       "        -1.7357e-03,  2.4030e-03,  1.2986e-03,  1.1062e-03,  4.2006e-03,\n",
       "         1.9453e-03, -3.4394e-03, -4.6498e-03, -1.3561e-03,  8.2355e-04,\n",
       "        -3.6973e-03,  3.3524e-03,  4.9162e-04, -3.8049e-03,  3.2309e-03,\n",
       "         5.7932e-04, -6.5445e-04, -8.4626e-04, -4.3210e-03,  5.4157e-03,\n",
       "        -3.9918e-03,  2.5504e-03,  2.3679e-03,  3.3309e-03, -6.6566e-03,\n",
       "         8.7560e-04, -6.0135e-03,  6.6324e-04,  2.9007e-04, -1.6653e-03,\n",
       "        -4.1616e-03,  1.4991e-03,  4.6155e-03, -8.5192e-04,  2.5928e-03,\n",
       "         1.3792e-03, -5.4353e-03, -3.1693e-03,  2.0730e-03,  3.0078e-03,\n",
       "         1.1173e-03, -5.1871e-03,  4.3241e-03,  1.4576e-04,  4.7442e-03,\n",
       "         2.0476e-03,  2.9060e-03, -4.1441e-03, -2.7591e-03,  8.2892e-04,\n",
       "        -1.4280e-03,  5.6667e-04,  2.5295e-03,  1.3858e-03,  2.9878e-03,\n",
       "        -6.2093e-04, -2.8360e-03,  1.3574e-03,  3.4464e-03,  5.1841e-03,\n",
       "        -2.7520e-03,  3.7285e-03, -7.8766e-04, -4.4083e-04, -5.5432e-03,\n",
       "         1.7575e-04, -1.1845e-03, -6.4187e-04,  8.8548e-04, -3.5042e-03,\n",
       "        -6.3299e-04,  7.8963e-04, -2.8651e-04,  3.3708e-03,  2.6547e-03,\n",
       "        -1.5102e-03, -5.0917e-03, -4.0338e-04,  1.2348e-03,  4.8519e-03,\n",
       "        -3.8873e-03, -2.9190e-03, -9.3665e-04,  2.4709e-03, -3.6025e-03,\n",
       "        -2.3334e-03, -5.9319e-05, -8.8978e-05,  2.6452e-03,  1.2759e-03,\n",
       "         1.6871e-03,  2.9111e-03, -1.3940e-04,  6.6848e-04, -2.7938e-03,\n",
       "        -4.5503e-04,  2.6205e-03, -2.3812e-03,  3.0082e-03,  2.5423e-03,\n",
       "         1.3750e-03,  4.5909e-04, -8.9972e-04, -5.2207e-05, -3.7908e-04,\n",
       "         2.7988e-03, -2.1587e-03, -2.2130e-03,  7.0354e-04, -2.4750e-03,\n",
       "        -2.1074e-03, -1.1429e-04, -1.6463e-03,  2.2233e-03,  4.2979e-03,\n",
       "        -9.1830e-05,  3.6180e-03, -1.6591e-03,  4.2792e-03,  3.9270e-03,\n",
       "         3.6770e-03,  3.5002e-03, -1.1429e-03, -2.0520e-03, -1.2361e-03,\n",
       "        -6.7614e-04, -2.3247e-04, -2.9040e-03, -2.2871e-03,  3.2755e-03,\n",
       "        -2.8097e-03,  2.6234e-03, -6.6065e-03,  2.3062e-03, -6.2158e-03,\n",
       "         1.2488e-03, -4.6117e-03,  1.1095e-04, -1.8426e-03, -2.0059e-03,\n",
       "        -3.0261e-03, -8.5413e-04,  1.2497e-03, -4.7757e-03,  1.8513e-03,\n",
       "        -2.3292e-03, -4.3522e-04, -8.1587e-04,  8.3356e-04, -4.2037e-04,\n",
       "        -4.3880e-03,  2.0013e-03, -1.4340e-03,  8.3006e-04,  4.8328e-03,\n",
       "        -1.6428e-03,  2.2591e-03,  1.6008e-03,  7.9569e-05, -1.2119e-03,\n",
       "         1.4694e-03, -1.7277e-03,  5.4307e-04, -2.1556e-03, -1.7453e-03,\n",
       "         2.7297e-03,  3.8449e-04, -2.6175e-03, -1.0881e-03, -5.9476e-03,\n",
       "         7.2475e-04, -2.5302e-03, -5.5368e-04, -5.6484e-04, -3.0341e-03,\n",
       "        -1.6929e-03,  3.4679e-03, -3.9688e-03,  2.7136e-03,  1.0751e-03,\n",
       "         2.8685e-03,  1.3816e-03,  3.9405e-03,  4.7066e-03,  2.1784e-03,\n",
       "        -3.9103e-03, -1.3373e-03,  3.8867e-03, -2.0758e-03,  3.4474e-03,\n",
       "        -4.1694e-03, -5.4225e-05, -1.0654e-03,  2.4263e-04,  1.0743e-03,\n",
       "         9.0673e-05, -2.7946e-03,  4.3329e-03,  1.3630e-03, -6.7624e-03,\n",
       "         4.1158e-03, -4.3219e-03, -2.7624e-03, -7.6322e-04,  7.9581e-03,\n",
       "         2.3880e-03,  4.9575e-03, -1.4209e-03, -5.5226e-03,  1.8986e-03,\n",
       "         2.1301e-03,  8.0221e-03,  1.7723e-03,  9.9230e-04, -5.1914e-03,\n",
       "        -3.6479e-04, -2.3814e-03,  1.4496e-03,  1.9920e-04, -2.7614e-03,\n",
       "         2.0015e-03,  6.4590e-04,  3.4141e-04,  2.9531e-03,  2.1786e-04,\n",
       "         3.5100e-03, -5.7971e-04,  3.5692e-03,  2.0225e-03,  2.3692e-03,\n",
       "         1.4397e-03,  3.9930e-03, -8.5465e-05, -3.3504e-04, -3.1910e-03,\n",
       "        -4.4367e-03,  1.4375e-03,  3.8101e-03, -6.3502e-04, -7.0096e-04,\n",
       "         2.3693e-03,  8.1119e-04,  2.2522e-03, -2.2185e-03, -3.5511e-03,\n",
       "        -5.2626e-03,  1.0922e-03, -2.1439e-03,  3.3226e-04,  5.3914e-03,\n",
       "        -6.3597e-05, -2.1600e-03, -2.3741e-03, -4.3935e-04, -1.4572e-03,\n",
       "        -3.4362e-05,  4.1181e-03,  7.2864e-04,  2.2073e-03,  3.6101e-04,\n",
       "         6.4654e-04, -1.1624e-03,  4.6742e-03, -6.4458e-04, -1.0168e-03,\n",
       "        -4.1895e-03,  1.1350e-03,  3.7584e-03, -5.4752e-03,  2.5761e-03,\n",
       "         5.1921e-03, -8.3915e-04,  5.1711e-03,  1.8454e-03,  5.5939e-03,\n",
       "         1.9585e-03, -3.1999e-04, -4.7255e-03,  5.4260e-03,  9.9819e-04,\n",
       "        -1.6622e-03, -2.6720e-04, -8.2449e-04,  1.1038e-03, -7.0684e-04,\n",
       "        -2.4203e-03, -3.3402e-04,  5.1734e-03,  9.1839e-04, -2.4787e-03,\n",
       "        -8.1802e-04, -5.9672e-03, -3.4979e-04,  5.1178e-03, -6.5779e-03,\n",
       "        -4.4591e-03,  5.1812e-04, -5.2345e-03,  2.9855e-03,  3.4990e-04,\n",
       "         3.2716e-03, -1.0670e-03,  8.2606e-04,  2.7312e-03,  3.5983e-05,\n",
       "         2.4532e-03, -7.2533e-03, -1.9136e-03, -1.7784e-03,  6.9728e-03,\n",
       "        -4.7188e-05, -3.2463e-04, -2.2535e-03, -9.6475e-04,  1.5958e-03,\n",
       "        -1.8774e-04, -9.2367e-04,  2.6884e-03, -5.0225e-03,  6.1234e-04,\n",
       "         2.3435e-03,  3.5845e-03, -6.9061e-04,  3.3073e-03,  6.7038e-04,\n",
       "        -1.6741e-03, -1.5762e-03, -3.0740e-03,  1.7982e-03,  3.9792e-03,\n",
       "        -2.4683e-03, -1.7533e-03,  9.1762e-04,  4.2302e-03, -1.1788e-03,\n",
       "        -2.4239e-03, -1.2755e-03,  5.0123e-03,  8.9296e-05, -1.0584e-03,\n",
       "         1.7321e-03, -2.8976e-03, -4.9406e-03, -2.1278e-03, -1.5550e-03,\n",
       "        -2.6747e-03, -5.4359e-03,  8.5923e-04, -3.8959e-03,  1.7010e-03,\n",
       "        -9.9507e-04, -1.3998e-03, -2.4268e-03, -2.7417e-03,  8.6060e-04,\n",
       "        -2.8408e-03, -3.4588e-05, -3.2158e-03, -1.1323e-04,  3.6973e-03,\n",
       "        -6.4923e-03, -2.4293e-03, -4.8548e-04,  3.9823e-04, -1.1318e-03,\n",
       "         2.9599e-04, -6.9797e-04, -5.5138e-03, -3.5648e-03,  5.5974e-03,\n",
       "        -2.9567e-03, -1.3220e-03,  1.6039e-03, -7.8068e-04,  2.9719e-03,\n",
       "         1.6591e-03, -8.7087e-04,  5.5726e-03,  2.9106e-03, -4.8949e-03,\n",
       "        -1.9098e-03,  1.4899e-03, -1.6779e-03,  9.8846e-05,  1.2568e-03,\n",
       "        -3.4281e-03, -1.1205e-03,  2.2690e-03, -9.2208e-05, -4.6591e-04],\n",
       "       device='cuda:0', grad_fn=<AddBackward0>)"
      ]
     },
     "execution_count": 14,
     "metadata": {},
     "output_type": "execute_result"
    }
   ],
   "source": [
    "model.eval()\n",
    "model(torch.from_numpy(Y_val[0,]).type(torch.float).to(device))"
   ]
  },
  {
   "cell_type": "code",
   "execution_count": 15,
   "metadata": {},
   "outputs": [
    {
     "data": {
      "image/png": "[encoded data removed]",
      "text/plain": [
       "<Figure size 432x288 with 1 Axes>"
      ]
     },
     "metadata": {
      "needs_background": "light"
     },
     "output_type": "display_data"
    }
   ],
   "source": [
    "plt.plot(beta_val[0,])\n",
    "plt.show()"
   ]
  },
  {
   "cell_type": "code",
   "execution_count": 25,
   "metadata": {},
   "outputs": [],
   "source": [
    "class MLP_sigmoid(nn.Module):\n",
    "    def __init__(self, N, p):\n",
    "        super(MLP_sigmoid, self).__init__()\n",
    "\n",
    "        self.fc1 = nn.Linear(N, 1024)\n",
    "        self.fc2 = nn.Linear(1024, 2048)\n",
    "        self.fc3 = nn.Linear(2048, 2048)\n",
    "        self.fc4 = nn.Linear(2048, 1024)\n",
    "        self.fc5 = nn.Linear(1024, p)\n",
    "        self.sigmoid = nn.Sigmoid()\n",
    "        self.mseloss = nn.MSELoss()\n",
    "        self.bceloss = nn.BCEWithLogitsLoss()\n",
    "\n",
    "    def forward(self, input):\n",
    "        u = self.sigmoid(self.fc1(input))\n",
    "        u = self.sigmoid(self.fc2(u))\n",
    "        u = self.sigmoid(self.fc3(u))\n",
    "        u = self.sigmoid(self.fc4(u))\n",
    "        output = self.fc5(u)\n",
    "        return output\n",
    "\n",
    "    def get_mseloss(self, data, targ):\n",
    "        output = self.forward(data)\n",
    "        loss = self.mseloss(output, targ)\n",
    "        return loss\n",
    "\n",
    "    def get_bceloss(self, data, targ):\n",
    "        output = self.forward(data)\n",
    "        loss = self.bceloss(output, targ)\n",
    "        return loss"
   ]
  },
  {
   "cell_type": "code",
   "execution_count": 26,
   "metadata": {},
   "outputs": [
    {
     "name": "stdout",
     "output_type": "stream",
     "text": [
      "Epoch: 1, Loss: 0.06024\n",
      "Val loss: 0.06010\n",
      "Epoch: 2, Loss: 0.06002\n",
      "Val loss: 0.06010\n",
      "Epoch: 3, Loss: 0.06004\n",
      "Val loss: 0.06010\n",
      "Epoch: 4, Loss: 0.06003\n",
      "Val loss: 0.06010\n",
      "Epoch: 5, Loss: 0.05994\n",
      "Val loss: 0.06010\n",
      "Epoch: 6, Loss: 0.06001\n",
      "Val loss: 0.06010\n",
      "Epoch: 7, Loss: 0.05997\n",
      "Val loss: 0.06010\n",
      "Epoch: 8, Loss: 0.05995\n",
      "Val loss: 0.06010\n",
      "Epoch: 9, Loss: 0.05998\n",
      "Val loss: 0.06010\n",
      "Epoch: 10, Loss: 0.06001\n",
      "Val loss: 0.06010\n",
      "Epoch: 11, Loss: 0.06003\n",
      "Val loss: 0.06010\n",
      "Epoch: 12, Loss: 0.05999\n",
      "Val loss: 0.06010\n",
      "Epoch: 13, Loss: 0.06001\n",
      "Val loss: 0.06010\n",
      "Epoch: 14, Loss: 0.06001\n",
      "Val loss: 0.06010\n",
      "Epoch: 15, Loss: 0.06000\n",
      "Val loss: 0.06010\n",
      "Epoch: 16, Loss: 0.05996\n",
      "Val loss: 0.06010\n",
      "Epoch: 17, Loss: 0.05999\n",
      "Val loss: 0.06010\n",
      "Epoch: 18, Loss: 0.05997\n",
      "Val loss: 0.06010\n",
      "Epoch: 19, Loss: 0.06005\n",
      "Val loss: 0.06010\n",
      "Epoch: 20, Loss: 0.06001\n",
      "Val loss: 0.06010\n"
     ]
    }
   ],
   "source": [
    "model_sigmoid = MLP_sigmoid(N+p, p).to(device)\n",
    "train_losses, val_losses = train_model_with_generator(model_sigmoid, generator, 0.001, 256, 20, 1000, val_data=Y_val/normalize_c, val_label=beta_val)"
   ]
  },
  {
   "cell_type": "code",
   "execution_count": 27,
   "metadata": {},
   "outputs": [
    {
     "data": {
      "text/plain": [
       "MLP(\n",
       "  (fc1): Linear(in_features=1100, out_features=1024, bias=True)\n",
       "  (fc2): Linear(in_features=1024, out_features=2048, bias=True)\n",
       "  (fc3): Linear(in_features=2048, out_features=2048, bias=True)\n",
       "  (fc4): Linear(in_features=2048, out_features=1024, bias=True)\n",
       "  (fc5): Linear(in_features=1024, out_features=10, bias=True)\n",
       "  (relu): ReLU()\n",
       "  (mseloss): MSELoss()\n",
       "  (bceloss): BCEWithLogitsLoss()\n",
       ")"
      ]
     },
     "execution_count": 27,
     "metadata": {},
     "output_type": "execute_result"
    }
   ],
   "source": [
    "model_subset = MLP(N+p, 10)\n",
    "model_subset.to(device)"
   ]
  },
  {
   "cell_type": "code",
   "execution_count": 29,
   "metadata": {},
   "outputs": [
    {
     "name": "stdout",
     "output_type": "stream",
     "text": [
      "Epoch: 1, Loss: 0.03806\n",
      "Val loss: 0.03818\n",
      "Epoch: 2, Loss: 0.03780\n",
      "Val loss: 0.03741\n",
      "Epoch: 3, Loss: 0.03738\n",
      "Val loss: 0.03695\n",
      "Epoch: 4, Loss: 0.03710\n",
      "Val loss: 0.03689\n",
      "Epoch: 5, Loss: 0.03723\n",
      "Val loss: 0.03690\n",
      "Epoch: 6, Loss: 0.03688\n",
      "Val loss: 0.03710\n",
      "Epoch: 7, Loss: 0.03712\n",
      "Val loss: 0.03683\n",
      "Epoch: 8, Loss: 0.03630\n",
      "Val loss: 0.03646\n",
      "Epoch: 9, Loss: 0.03685\n",
      "Val loss: 0.03651\n",
      "Epoch: 10, Loss: 0.03671\n",
      "Val loss: 0.03598\n",
      "Epoch: 11, Loss: 0.03607\n",
      "Val loss: 0.03620\n",
      "Epoch: 12, Loss: 0.03654\n",
      "Val loss: 0.03624\n",
      "Epoch: 13, Loss: 0.03634\n",
      "Val loss: 0.03644\n",
      "Epoch: 14, Loss: 0.03588\n",
      "Val loss: 0.03596\n",
      "Epoch: 15, Loss: 0.03617\n",
      "Val loss: 0.03623\n",
      "Epoch: 16, Loss: 0.03580\n",
      "Val loss: 0.03645\n",
      "Epoch: 17, Loss: 0.03581\n",
      "Val loss: 0.03650\n",
      "Epoch: 18, Loss: 0.03597\n",
      "Val loss: 0.03584\n",
      "Epoch: 19, Loss: 0.03563\n",
      "Val loss: 0.03620\n",
      "Epoch: 20, Loss: 0.03594\n",
      "Val loss: 0.03553\n"
     ]
    }
   ],
   "source": [
    "train_losses, val_losses = train_model_with_generator(model_subset, generator, 0.001, 256, 20, 1000, subset=10, val_data=Y_val/normalize_c, val_label=beta_val[:,:10])"
   ]
  },
  {
   "cell_type": "code",
   "execution_count": 34,
   "metadata": {},
   "outputs": [
    {
     "data": {
      "text/plain": [
       "tensor([ 0.7636,  0.3573,  0.3093,  1.4648, -0.0185,  0.0293,  0.0206, -0.1045,\n",
       "         0.0311, -0.0633], device='cuda:0', grad_fn=<AddBackward0>)"
      ]
     },
     "execution_count": 34,
     "metadata": {},
     "output_type": "execute_result"
    }
   ],
   "source": [
    "true_beta = np.zeros((1000,1))\n",
    "true_beta[:4,0]=2\n",
    "Y_obs = X @ true_beta + rng.randn(100, 1)\n",
    "input = np.concatenate((Y_obs, X.T @ Y_obs), axis=0) / normalize_c\n",
    "model_subset.eval()\n",
    "input = torch.from_numpy(input.reshape(-1)).type(torch.float).to(device)\n",
    "model_subset(input)"
   ]
  },
  {
   "cell_type": "code",
   "execution_count": 35,
   "metadata": {},
   "outputs": [
    {
     "data": {
      "text/plain": [
       "tensor([ 0.0488, -0.0012,  0.1015,  1.1748,  0.0181,  0.1344, -0.0403, -0.0711,\n",
       "         0.0927, -0.0234], device='cuda:0', grad_fn=<AddBackward0>)"
      ]
     },
     "execution_count": 35,
     "metadata": {},
     "output_type": "execute_result"
    }
   ],
   "source": [
    "true_beta = np.zeros((1000,1))\n",
    "true_beta[:6,0]=2\n",
    "Y_obs = X @ true_beta + rng.randn(100, 1)\n",
    "input = np.concatenate((Y_obs, X.T @ Y_obs), axis=0) / normalize_c\n",
    "model_subset.eval()\n",
    "input = torch.from_numpy(input.reshape(-1)).type(torch.float).to(device)\n",
    "model_subset(input)"
   ]
  },
  {
   "cell_type": "code",
   "execution_count": 11,
   "metadata": {},
   "outputs": [],
   "source": [
    "def count_parameters(model):\n",
    "    return sum(m.numel() for m in model.parameters() if m.requires_grad)"
   ]
  },
  {
   "cell_type": "code",
   "execution_count": 37,
   "metadata": {},
   "outputs": [
    {
     "data": {
      "text/plain": [
       "10546152"
      ]
     },
     "execution_count": 37,
     "metadata": {},
     "output_type": "execute_result"
    }
   ],
   "source": [
    "count_parameters(model)"
   ]
  },
  {
   "cell_type": "code",
   "execution_count": 12,
   "metadata": {},
   "outputs": [],
   "source": [
    "class MLP_promax(nn.Module):\n",
    "    def __init__(self, N, p):\n",
    "        super(MLP_promax, self).__init__()\n",
    "\n",
    "        self.fc1 = nn.Linear(N, 2048)\n",
    "        self.fc2 = nn.Linear(2048, 4096)\n",
    "        self.fc3 = nn.Linear(4096, 2048)\n",
    "        self.fc4 = nn.Linear(2048, 1024)\n",
    "        self.fc5 = nn.Linear(1024, p)\n",
    "        self.relu = nn.ReLU()\n",
    "        self.mseloss = nn.MSELoss()\n",
    "        self.bceloss = nn.BCEWithLogitsLoss()\n",
    "\n",
    "    def forward(self, input):\n",
    "        u = self.relu(self.fc1(input))\n",
    "        u = self.relu(self.fc2(u))\n",
    "        u = self.relu(self.fc3(u))\n",
    "        u = self.relu(self.fc4(u))\n",
    "        output = self.fc5(u)\n",
    "        return output\n",
    "\n",
    "    def get_mseloss(self, data, targ):\n",
    "        output = self.forward(data)\n",
    "        loss = self.mseloss(output, targ)\n",
    "        return loss\n",
    "\n",
    "    def get_bceloss(self, data, targ):\n",
    "        output = self.forward(data)\n",
    "        loss = self.bceloss(output, targ)\n",
    "        return loss"
   ]
  },
  {
   "cell_type": "code",
   "execution_count": 13,
   "metadata": {},
   "outputs": [
    {
     "data": {
      "text/plain": [
       "22161384"
      ]
     },
     "execution_count": 13,
     "metadata": {},
     "output_type": "execute_result"
    }
   ],
   "source": [
    "model_promax = MLP_promax(N+p, p)\n",
    "count_parameters(model_promax)"
   ]
  },
  {
   "cell_type": "code",
   "execution_count": 14,
   "metadata": {},
   "outputs": [
    {
     "name": "stdout",
     "output_type": "stream",
     "text": [
      "Epoch: 1, Loss: 0.05605\n",
      "Val loss: 0.05462\n",
      "Epoch: 2, Loss: 0.05463\n",
      "Val loss: 0.05448\n",
      "Epoch: 3, Loss: 0.05461\n",
      "Val loss: 0.05446\n",
      "Epoch: 4, Loss: 0.05454\n",
      "Val loss: 0.05445\n",
      "Epoch: 5, Loss: 0.05452\n",
      "Val loss: 0.05443\n",
      "Epoch: 6, Loss: 0.05457\n",
      "Val loss: 0.05438\n",
      "Epoch: 7, Loss: 0.05448\n",
      "Val loss: 0.05433\n",
      "Epoch: 8, Loss: 0.05441\n",
      "Val loss: 0.05428\n",
      "Epoch: 9, Loss: 0.05440\n",
      "Val loss: 0.05423\n",
      "Epoch: 10, Loss: 0.05427\n",
      "Val loss: 0.05418\n"
     ]
    }
   ],
   "source": [
    "model_promax.to(device)\n",
    "train_losses, val_losses = train_model_with_generator(model_promax, generator, 0.001, 256, 10, 1000, val_data=Y_val/normalize_c, val_label=beta_val)"
   ]
  },
  {
   "cell_type": "code",
   "execution_count": 9,
   "metadata": {},
   "outputs": [],
   "source": [
    "class MLP_single_layer(nn.Module):\n",
    "    def __init__(self, N, p, h):\n",
    "        super(MLP_single_layer, self).__init__()\n",
    "\n",
    "        self.fc1 = nn.Linear(N, h)\n",
    "        self.fc2 = nn.Linear(h, p)\n",
    "        self.relu = nn.ReLU()\n",
    "        self.mseloss = nn.MSELoss()\n",
    "        self.bceloss = nn.BCEWithLogitsLoss()\n",
    "\n",
    "    def forward(self, input):\n",
    "        u = self.relu(self.fc1(input))\n",
    "        output = self.fc2(u)\n",
    "        return output\n",
    "\n",
    "    def get_mseloss(self, data, targ):\n",
    "        output = self.forward(data)\n",
    "        loss = self.mseloss(output, targ)\n",
    "        return loss\n",
    "\n",
    "    def get_bceloss(self, data, targ):\n",
    "        output = self.forward(data)\n",
    "        loss = self.bceloss(output, targ)\n",
    "        return loss"
   ]
  },
  {
   "cell_type": "code",
   "execution_count": 10,
   "metadata": {},
   "outputs": [
    {
     "name": "stdout",
     "output_type": "stream",
     "text": [
      "Epoch: 1, Loss: 0.07900\n",
      "Val loss: 0.06542\n",
      "Epoch: 2, Loss: 0.06514\n",
      "Val loss: 0.06479\n",
      "Epoch: 3, Loss: 0.06480\n",
      "Val loss: 0.06461\n",
      "Epoch: 4, Loss: 0.06458\n",
      "Val loss: 0.06439\n",
      "Epoch: 5, Loss: 0.06433\n",
      "Val loss: 0.06422\n",
      "Epoch: 6, Loss: 0.06410\n",
      "Val loss: 0.06387\n",
      "Epoch: 7, Loss: 0.06393\n",
      "Val loss: 0.06371\n",
      "Epoch: 8, Loss: 0.06375\n",
      "Val loss: 0.06353\n",
      "Epoch: 9, Loss: 0.06361\n",
      "Val loss: 0.06345\n",
      "Epoch: 10, Loss: 0.06352\n",
      "Val loss: 0.06332\n",
      "Epoch: 11, Loss: 0.06340\n",
      "Val loss: 0.06331\n",
      "Epoch: 12, Loss: 0.06334\n",
      "Val loss: 0.06314\n",
      "Epoch: 13, Loss: 0.06323\n",
      "Val loss: 0.06315\n",
      "Epoch: 14, Loss: 0.06320\n",
      "Val loss: 0.06307\n",
      "Epoch: 15, Loss: 0.06310\n",
      "Val loss: 0.06293\n",
      "Epoch: 16, Loss: 0.06298\n",
      "Val loss: 0.06291\n",
      "Epoch: 17, Loss: 0.06305\n",
      "Val loss: 0.06283\n",
      "Epoch: 18, Loss: 0.06285\n",
      "Val loss: 0.06278\n",
      "Epoch: 19, Loss: 0.06292\n",
      "Val loss: 0.06277\n",
      "Epoch: 20, Loss: 0.06285\n",
      "Val loss: 0.06266\n"
     ]
    }
   ],
   "source": [
    "md_single = MLP_single_layer(N+p, p, 4096)\n",
    "md_single.to(device)\n",
    "train_losses, val_losses = train_model_with_generator(md_single, generator, 0.001, 256, 20, 3000, val_data=Y_val/normalize_c, val_label=beta_val)"
   ]
  },
  {
   "cell_type": "code",
   "execution_count": null,
   "metadata": {},
   "outputs": [],
   "source": [
    "train_losses, val_losses = train_model_with_generator(md_single, generator, 0.001, 256, 200, 3000, val_data=Y_val/normalize_c, val_label=beta_val)"
   ]
  },
  {
   "cell_type": "code",
   "execution_count": 22,
   "metadata": {},
   "outputs": [
    {
     "data": {
      "image/png": "[encoded data removed]",
      "text/plain": [
       "<Figure size 432x288 with 1 Axes>"
      ]
     },
     "metadata": {
      "needs_background": "light"
     },
     "output_type": "display_data"
    }
   ],
   "source": [
    "plt.plot(Y_val[0]/normalize_c)\n",
    "plt.show()"
   ]
  },
  {
   "cell_type": "code",
   "execution_count": 23,
   "metadata": {},
   "outputs": [
    {
     "data": {
      "image/png": "[encoded data removed]",
      "text/plain": [
       "<Figure size 432x288 with 1 Axes>"
      ]
     },
     "metadata": {
      "needs_background": "light"
     },
     "output_type": "display_data"
    }
   ],
   "source": [
    "plt.plot(beta_val[0])\n",
    "plt.show()"
   ]
  },
  {
   "cell_type": "code",
   "execution_count": 28,
   "metadata": {},
   "outputs": [
    {
     "data": {
      "image/png": "[encoded data removed]",
      "text/plain": [
       "<Figure size 432x288 with 1 Axes>"
      ]
     },
     "metadata": {
      "needs_background": "light"
     },
     "output_type": "display_data"
    }
   ],
   "source": [
    "plt.plot(Y_val[5]/normalize_c)\n",
    "plt.show()"
   ]
  }
 ],
 "metadata": {
  "kernelspec": {
   "display_name": "Python 3",
   "language": "python",
   "name": "python3"
  },
  "language_info": {
   "codemirror_mode": {
    "name": "ipython",
    "version": 3
   },
   "file_extension": ".py",
   "mimetype": "text/x-python",
   "name": "python",
   "nbconvert_exporter": "python",
   "pygments_lexer": "ipython3",
   "version": "3.7.3"
  },
  "vscode": {
   "interpreter": {
    "hash": "28f8cf0a8a4d3996c532b07e251eb4af62f7beb2b6ca98348312838517986615"
   }
  }
 },
 "nbformat": 4,
 "nbformat_minor": 2
}
