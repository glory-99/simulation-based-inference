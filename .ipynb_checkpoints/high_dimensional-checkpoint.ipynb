{
 "cells": [
  {
   "cell_type": "code",
   "execution_count": 1,
   "metadata": {},
   "outputs": [],
   "source": [
    "import numpy as np\n",
    "import numpy.random as rng\n",
    "import torch \n",
    "import torch.nn as nn\n",
    "import matplotlib.pyplot as plt\n",
    "import math \n",
    "device = torch.device(\"cuda:0\" if torch.cuda.is_available() else \"cpu\")"
   ]
  },
  {
   "cell_type": "markdown",
   "metadata": {},
   "source": [
    "# Data generators and model specifications"
   ]
  },
  {
   "cell_type": "markdown",
   "metadata": {},
   "source": [
    "# X\n",
    "X is generated and normalized as in low dimension case."
   ]
  },
  {
   "cell_type": "code",
   "execution_count": 2,
   "metadata": {},
   "outputs": [],
   "source": [
    "p = 200 # number of dimension\n",
    "N = 50 # sample size\n",
    "rho = 0 # correlation between features"
   ]
  },
  {
   "cell_type": "code",
   "execution_count": 3,
   "metadata": {},
   "outputs": [],
   "source": [
    "X = np.load('./data/X_rho0_N50_p200.npy')"
   ]
  },
  {
   "cell_type": "markdown",
   "metadata": {},
   "source": [
    "## Sparse linear model\n",
    "$\\gamma_j \\sim Bernoulli(\\theta)$ (We fix $\\theta=0.05$ currently, but we can also add a prior on $\\theta$ later.)\\\n",
    "$\\beta_j | \\gamma_j=1 \\sim U(-3,3), P(\\beta_j=0|\\gamma_j=0)=1$\\\n",
    "$Y=X\\beta+\\epsilon,\\epsilon_i\\sim N(0,\\sigma^2)$\n",
    "\n",
    "\n"
   ]
  },
  {
   "cell_type": "code",
   "execution_count": 4,
   "metadata": {},
   "outputs": [],
   "source": [
    "class Generator(object):\n",
    "    def __init__(self, p, theta, beta_range, N, X) -> None:\n",
    "        self.p = p \n",
    "        self.theta = theta \n",
    "        self.beta_range = beta_range \n",
    "        self.N = N\n",
    "        self.X = X\n",
    "    \n",
    "    def generate_samples(self, n, seed):\n",
    "        rng.seed(seed)\n",
    "        scale = self.beta_range[1] - self.beta_range[0]\n",
    "        theta = np.ones((n, self.p)) * self.theta\n",
    "        gamma = rng.binomial(1, theta)\n",
    "        beta = np.zeros((n, self.p))\n",
    "        beta[gamma == 1] = rng.rand(np.sum(gamma == 1)) * scale + self.beta_range[0]\n",
    "        beta[gamma == 0] = 0. \n",
    "        Y = beta@self.X.T + rng.randn(n, self.N)\n",
    "        return gamma, beta, Y "
   ]
  },
  {
   "cell_type": "code",
   "execution_count": 13,
   "metadata": {},
   "outputs": [],
   "source": [
    "generator = Generator(p, 0.05, (-3,3), N, X)"
   ]
  },
  {
   "cell_type": "code",
   "execution_count": 19,
   "metadata": {},
   "outputs": [],
   "source": [
    "gamma0, beta0, Y0 = generator.generate_samples(1, 0)\n",
    "gamma0 = gamma0.reshape(p, 1)\n",
    "beta0 = beta0.reshape(p, 1)"
   ]
  },
  {
   "cell_type": "code",
   "execution_count": 20,
   "metadata": {},
   "outputs": [
    {
     "data": {
      "image/png": "[encoded data removed]",
      "text/plain": [
       "<Figure size 432x288 with 1 Axes>"
      ]
     },
     "metadata": {
      "needs_background": "light"
     },
     "output_type": "display_data"
    }
   ],
   "source": [
    "plt.plot(range(p),beta0)\n",
    "plt.show()"
   ]
  },
  {
   "cell_type": "code",
   "execution_count": 23,
   "metadata": {},
   "outputs": [
    {
     "data": {
      "image/png": "[encoded data removed]",
      "text/plain": [
       "<Figure size 432x288 with 1 Axes>"
      ]
     },
     "metadata": {
      "needs_background": "light"
     },
     "output_type": "display_data"
    }
   ],
   "source": [
    "plt.plot(Y0.reshape(-1), X@beta0,'o')\n",
    "plt.show()"
   ]
  },
  {
   "cell_type": "markdown",
   "metadata": {},
   "source": [
    "Generate training and validation set"
   ]
  },
  {
   "cell_type": "code",
   "execution_count": 24,
   "metadata": {},
   "outputs": [],
   "source": [
    "gamma_train, beta_train, Y_train = generator.generate_samples(1000000, 123)\n",
    "gamma_val, beta_val, Y_val = generator.generate_samples(10000, 456)\n",
    "Y_catXY_train = np.concatenate((Y_train, Y_train@X), axis=1)\n",
    "Y_catXY_val = np.concatenate((Y_val, Y_val@X), axis=1)"
   ]
  },
  {
   "cell_type": "markdown",
   "metadata": {},
   "source": [
    "Standardization"
   ]
  },
  {
   "cell_type": "code",
   "execution_count": 27,
   "metadata": {},
   "outputs": [],
   "source": [
    "mean = Y_train.mean(0)\n",
    "mean_catXY = Y_catXY_train.mean(0)\n",
    "std = Y_train.std(0)\n",
    "std_catXY = Y_catXY_train.std(0)\n",
    "Y_train = (Y_train - mean) / std\n",
    "Y_val = (Y_val - mean) / std\n",
    "Y_catXY_train = (Y_catXY_train - mean_catXY) / std_catXY\n",
    "Y_catXY_val = (Y_catXY_val - mean_catXY) / std_catXY"
   ]
  },
  {
   "cell_type": "markdown",
   "metadata": {},
   "source": [
    "# Neural network functions"
   ]
  },
  {
   "cell_type": "markdown",
   "metadata": {},
   "source": [
    "## Four layers MLP\n",
    "* Four hidden layers, with 1024, 2048, 2048 and 1024 hidden units."
   ]
  },
  {
   "cell_type": "code",
   "execution_count": 29,
   "metadata": {},
   "outputs": [],
   "source": [
    "class MLP(nn.Module):\n",
    "    def __init__(self, N, p):\n",
    "        super(MLP, self).__init__()\n",
    "        self.fc1 = nn.Linear(N, 1024)\n",
    "        self.fc2 = nn.Linear(1024, 2048)\n",
    "        self.fc3 = nn.Linear(2048, 2048)\n",
    "        self.fc4 = nn.Linear(2048, 1024)\n",
    "        self.fc5 = nn.Linear(1024, p)\n",
    "        self.relu = nn.ReLU()\n",
    "        self.mseloss = nn.MSELoss()\n",
    "        self.bceloss = nn.BCEWithLogitsLoss()\n",
    "\n",
    "    def forward(self, input):\n",
    "        u = self.relu(self.fc1(input))\n",
    "        u = self.relu(self.fc2(u))\n",
    "        u = self.relu(self.fc3(u))\n",
    "        u = self.relu(self.fc4(u))\n",
    "        output = self.fc5(u)\n",
    "        return output\n",
    "\n",
    "    def get_mseloss(self, data, targ):\n",
    "        output = self.forward(data)\n",
    "        loss = self.mseloss(output, targ)\n",
    "        return loss \n",
    "    \n",
    "    def get_bceloss(self, data, targ):\n",
    "        output = self.forward(data)\n",
    "        loss = self.bceloss(output, targ)\n",
    "        return loss "
   ]
  },
  {
   "cell_type": "code",
   "execution_count": 6,
   "metadata": {},
   "outputs": [],
   "source": [
    "''' \n",
    " loss_type: 'mse' for posterior mean, 'bce' for predicting whether beta is 0, 'quantile' for posterior quantile.\n",
    "q: Only used when loss_type is 'quantile', q quantile.\n",
    "'''\n",
    "def train_epoch(model, optimizer, train_data, train_labels, batch_size, loss_type, q):\n",
    "    model.train()\n",
    "    n = train_data.shape[0]\n",
    "    train_loss = 0.\n",
    "    for i in range(math.ceil(n/batch_size)):\n",
    "        data = torch.from_numpy(train_data[(i*batch_size):min((i+1)*batch_size, n-1)]).type(torch.float).to(device)\n",
    "        targ = torch.from_numpy(train_labels[(i*batch_size):min((i+1)*batch_size, n-1)]).type(torch.float).to(device)\n",
    "        if loss_type == 'mse':\n",
    "            loss = model.get_mseloss(data, targ)\n",
    "        elif loss_type == 'bce':\n",
    "            loss = model.get_bceloss(data, targ)\n",
    "        elif loss_type == 'quantile':\n",
    "            loss = model.get_quanloss(data, targ, q)\n",
    "        train_loss += loss.item() * data.shape[0]\n",
    "\n",
    "        optimizer.zero_grad()\n",
    "        loss.backward()\n",
    "        optimizer.step()\n",
    "    return train_loss/n \n",
    "\n",
    "def model_test(model, test_data, test_labels, loss_type='mse', q=0.5):\n",
    "    model.eval()\n",
    "    with torch.no_grad():\n",
    "        data = torch.from_numpy(test_data).type(torch.float).to(device)\n",
    "        targ = torch.from_numpy(test_labels).type(torch.float).to(device)\n",
    "        if loss_type == 'mse':\n",
    "            loss = model.get_mseloss(data, targ)\n",
    "        elif loss_type == 'bce':\n",
    "            loss = model.get_bceloss(data, targ)\n",
    "        elif loss_type == 'quantile':\n",
    "            loss = model.get_quanloss(data, targ, q)\n",
    "    return loss.item()\n",
    "\n",
    "def train_model(model, lr, batch_size, epochs, train_data, train_labels, loss_type='mse', q=0.5, val_data=None, val_labels=None):\n",
    "    assert loss_type in ['mse', 'bce', 'quantile']\n",
    "    optimizer = torch.optim.Adam(model.parameters(), lr=lr)\n",
    "    train_losses = []\n",
    "    val_losses = []\n",
    "    for i in range(epochs):\n",
    "        train_loss = train_epoch(model, optimizer, train_data, train_labels, batch_size, loss_type, q)\n",
    "        print('Epoch: {}'.format(i+1))\n",
    "        print('Train loss: {:.5f}'.format(train_loss))\n",
    "        train_losses.append(train_loss)\n",
    "        if isinstance(val_data, np.ndarray):\n",
    "            val_loss = model_test(model, val_data, val_labels, loss_type, q)\n",
    "            print('Val loss: {:.5f}'.format(val_loss))\n",
    "            val_losses.append(val_loss)\n",
    "    return train_losses, val_losses\n",
    "\n",
    "def predict(model, Y):\n",
    "    model.eval()\n",
    "    with torch.no_grad():\n",
    "        data = torch.from_numpy(Y).type(torch.float).to(device)\n",
    "        pred = model(data)\n",
    "    return pred.detach().cpu().numpy()"
   ]
  },
  {
   "cell_type": "markdown",
   "metadata": {},
   "source": [
    "# Main experiments"
   ]
  },
  {
   "cell_type": "code",
   "execution_count": 30,
   "metadata": {},
   "outputs": [
    {
     "name": "stdout",
     "output_type": "stream",
     "text": [
      "Epoch: 1\n",
      "Train loss: 0.07404\n",
      "Val loss: 0.05503\n",
      "Epoch: 2\n",
      "Train loss: 0.05016\n",
      "Val loss: 0.04912\n",
      "Epoch: 3\n",
      "Train loss: 0.04660\n",
      "Val loss: 0.04775\n",
      "Epoch: 4\n",
      "Train loss: 0.04509\n",
      "Val loss: 0.04709\n",
      "Epoch: 5\n",
      "Train loss: 0.04409\n",
      "Val loss: 0.04680\n",
      "Epoch: 6\n",
      "Train loss: 0.04328\n",
      "Val loss: 0.04644\n",
      "Epoch: 7\n",
      "Train loss: 0.04260\n",
      "Val loss: 0.04605\n",
      "Epoch: 8\n",
      "Train loss: 0.04195\n",
      "Val loss: 0.04578\n",
      "Epoch: 9\n",
      "Train loss: 0.04131\n",
      "Val loss: 0.04536\n",
      "Epoch: 10\n",
      "Train loss: 0.04070\n",
      "Val loss: 0.04494\n",
      "Epoch: 11\n",
      "Train loss: 0.04015\n",
      "Val loss: 0.04475\n",
      "Epoch: 12\n",
      "Train loss: 0.03956\n",
      "Val loss: 0.04436\n",
      "Epoch: 13\n",
      "Train loss: 0.03900\n",
      "Val loss: 0.04383\n",
      "Epoch: 14\n",
      "Train loss: 0.03842\n",
      "Val loss: 0.04333\n",
      "Epoch: 15\n",
      "Train loss: 0.03787\n",
      "Val loss: 0.04279\n",
      "Epoch: 16\n",
      "Train loss: 0.03736\n",
      "Val loss: 0.04249\n",
      "Epoch: 17\n",
      "Train loss: 0.03686\n",
      "Val loss: 0.04216\n",
      "Epoch: 18\n",
      "Train loss: 0.03634\n",
      "Val loss: 0.04191\n",
      "Epoch: 19\n",
      "Train loss: 0.03580\n",
      "Val loss: 0.04159\n",
      "Epoch: 20\n",
      "Train loss: 0.03522\n",
      "Val loss: 0.04076\n"
     ]
    }
   ],
   "source": [
    "torch.manual_seed(0)\n",
    "md_base = MLP(N, p).to(device)\n",
    "train_losses, val_losses = train_model(md_base, 0.001, 256, 20, Y_train, beta_train, val_data=Y_val, val_labels=beta_val)"
   ]
  },
  {
   "cell_type": "code",
   "execution_count": 31,
   "metadata": {},
   "outputs": [
    {
     "name": "stdout",
     "output_type": "stream",
     "text": [
      "Epoch: 1\n",
      "Train loss: 0.07448\n",
      "Val loss: 0.05919\n",
      "Epoch: 2\n",
      "Train loss: 0.05586\n",
      "Val loss: 0.05553\n",
      "Epoch: 3\n",
      "Train loss: 0.05311\n",
      "Val loss: 0.05424\n",
      "Epoch: 4\n",
      "Train loss: 0.05152\n",
      "Val loss: 0.05288\n",
      "Epoch: 5\n",
      "Train loss: 0.05005\n",
      "Val loss: 0.05156\n",
      "Epoch: 6\n",
      "Train loss: 0.04865\n",
      "Val loss: 0.05060\n",
      "Epoch: 7\n",
      "Train loss: 0.04715\n",
      "Val loss: 0.04929\n",
      "Epoch: 8\n",
      "Train loss: 0.04540\n",
      "Val loss: 0.04726\n",
      "Epoch: 9\n",
      "Train loss: 0.04338\n",
      "Val loss: 0.04536\n",
      "Epoch: 10\n",
      "Train loss: 0.04125\n",
      "Val loss: 0.04361\n",
      "Epoch: 11\n",
      "Train loss: 0.03961\n",
      "Val loss: 0.04245\n",
      "Epoch: 12\n",
      "Train loss: 0.03877\n",
      "Val loss: 0.04195\n",
      "Epoch: 13\n",
      "Train loss: 0.03830\n",
      "Val loss: 0.04167\n",
      "Epoch: 14\n",
      "Train loss: 0.03797\n",
      "Val loss: 0.04158\n",
      "Epoch: 15\n",
      "Train loss: 0.03768\n",
      "Val loss: 0.04115\n",
      "Epoch: 16\n",
      "Train loss: 0.03743\n",
      "Val loss: 0.04112\n",
      "Epoch: 17\n",
      "Train loss: 0.03720\n",
      "Val loss: 0.04077\n",
      "Epoch: 18\n",
      "Train loss: 0.03694\n",
      "Val loss: 0.04036\n",
      "Epoch: 19\n",
      "Train loss: 0.03671\n",
      "Val loss: 0.04007\n",
      "Epoch: 20\n",
      "Train loss: 0.03648\n",
      "Val loss: 0.03990\n"
     ]
    }
   ],
   "source": [
    "torch.manual_seed(0)\n",
    "md_withXY = MLP(N+p, p).to(device)\n",
    "train_losses, val_losses = train_model(md_withXY, 0.001, 256, 20, Y_catXY_train, beta_train, val_data=Y_catXY_val, val_labels=beta_val)"
   ]
  },
  {
   "cell_type": "code",
   "execution_count": 8,
   "metadata": {},
   "outputs": [],
   "source": [
    "Y_val_rho0 = np.load('./data/Y_val_rho0.npy')"
   ]
  },
  {
   "cell_type": "code",
   "execution_count": 12,
   "metadata": {},
   "outputs": [
    {
     "data": {
      "text/plain": [
       "array([ 5.64096753,  5.59658637,  5.53828076,  5.51827087,  6.40135178,\n",
       "        5.53422403,  5.40569611,  5.53053089,  6.09432909,  5.3839962 ,\n",
       "        5.80984561,  5.46899331,  5.6754072 ,  5.43026448,  5.41824817,\n",
       "        5.59938898,  5.70993996,  5.46986373,  5.3707832 ,  5.29836487,\n",
       "        5.34021199,  5.28544186,  5.40730428,  5.51806401,  5.80751605,\n",
       "        5.4192671 ,  5.65944223,  5.68716716,  6.10876377,  5.76864384,\n",
       "        5.75912065,  5.37736337,  5.47800313,  5.6220629 ,  5.78427555,\n",
       "        5.43214573,  6.02517713,  5.58485549,  5.60025638,  5.60716709,\n",
       "        5.19887576,  5.71919441,  5.22733452,  5.25531862,  5.37545131,\n",
       "        5.57078789,  5.22025232,  4.78740373,  5.75127357,  6.26869329,\n",
       "       44.64236699, 45.75482149, 41.97338622, 44.68413571, 44.39515804,\n",
       "       43.56223348, 45.29954206, 44.61982407, 46.03618951, 43.41087615,\n",
       "       47.50987919, 45.50612806, 43.30840029, 44.58343297, 42.74997537,\n",
       "       44.89132   , 44.23440401, 44.54835965, 43.10920922, 45.3489983 ,\n",
       "       45.79232726, 41.6208049 , 46.51174533, 46.14703719, 43.7351126 ,\n",
       "       45.67715941, 46.20195998, 45.22345871, 44.22234759, 42.36920088,\n",
       "       42.77402533, 41.59489185, 45.70015127, 44.40016693, 42.50578367,\n",
       "       43.75823753, 42.91554074, 45.48103597, 44.16132845, 44.78318069,\n",
       "       41.51830871, 40.09386728, 47.56274529, 45.97564879, 45.26444677,\n",
       "       43.58609625, 44.1909204 , 45.97678038, 43.12250187, 41.35420109,\n",
       "       43.87265453, 44.91458231, 42.04469027, 40.84406787, 42.97134608,\n",
       "       44.70925499, 46.50315   , 45.54042269, 46.68587041, 43.64657083,\n",
       "       43.69532043, 43.00385542, 41.34156506, 43.40548086, 46.71086606,\n",
       "       45.25175353, 43.33943957, 44.00818878, 47.2952464 , 42.63497702,\n",
       "       43.11205045, 41.15296837, 41.33943001, 46.88152403, 43.82600602,\n",
       "       41.3219161 , 40.167942  , 41.28976414, 44.30573349, 43.68597329,\n",
       "       45.75741368, 41.31624695, 46.39868515, 42.24965961, 43.22383091,\n",
       "       44.52232407, 45.57008259, 46.21295631, 44.26239948, 43.28275484,\n",
       "       41.77954282, 42.15293025, 42.33237355, 48.46117405, 42.56380919,\n",
       "       45.04778542, 42.56009874, 45.8687624 , 44.5348931 , 43.961905  ,\n",
       "       43.30574561, 45.01288413, 42.73561686, 43.29507372, 40.69053115,\n",
       "       43.51875661, 46.05174895, 43.70158114, 45.48223232, 43.53642665,\n",
       "       48.46173887, 45.94866854, 45.68431009, 42.96224823, 45.58526038,\n",
       "       42.86425239, 48.00182435, 44.94535704, 46.12591501, 41.93139983,\n",
       "       44.32595533, 43.587115  , 45.29254707, 44.34655229, 44.94334461,\n",
       "       44.2001024 , 44.52090302, 42.01402855, 42.5121501 , 44.18446585,\n",
       "       45.25641347, 40.06332816, 44.92180195, 44.02145044, 45.2052265 ,\n",
       "       46.72803819, 45.51518743, 46.05279303, 43.80467425, 43.68500203,\n",
       "       42.66528221, 42.74412339, 42.32313559, 46.19602469, 43.30844122,\n",
       "       40.45740499, 43.30979885, 43.21859611, 46.40293761, 43.69603929,\n",
       "       44.79760893, 45.33526198, 43.8925325 , 40.74614332, 45.58889049,\n",
       "       44.77778278, 43.52751102, 43.83428223, 43.8135546 , 44.90919491,\n",
       "       44.45981037, 48.91734413, 43.06418448, 47.40823427, 45.03269658,\n",
       "       42.1856723 , 42.91980637, 44.10517043, 43.54452497, 46.32773061,\n",
       "       41.41811543, 48.442427  , 45.8779843 , 42.60275125, 42.16711244,\n",
       "       46.26162645, 44.75367239, 43.50381982, 43.4728941 , 46.11796392,\n",
       "       44.45125781, 45.12737859, 43.15136713, 43.79144439, 45.48882899,\n",
       "       44.77849023, 40.05761814, 42.97974439, 41.56694053, 45.60503461,\n",
       "       43.88117356, 46.43916233, 45.79125461, 45.2640429 , 46.64246725,\n",
       "       45.55762796, 45.02700402, 42.09327387, 43.3291749 , 45.8818906 ])"
      ]
     },
     "execution_count": 12,
     "metadata": {},
     "output_type": "execute_result"
    }
   ],
   "source": [
    "Y_val_rho0.std(0)"
   ]
  },
  {
   "cell_type": "code",
   "execution_count": null,
   "metadata": {},
   "outputs": [],
   "source": []
  },
  {
   "cell_type": "markdown",
   "metadata": {},
   "source": [
    "# Some efforts we have made but doesn't work\n",
    "* Add shrink activation function to the output layer"
   ]
  },
  {
   "cell_type": "code",
   "execution_count": null,
   "metadata": {},
   "outputs": [],
   "source": []
  }
 ],
 "metadata": {
  "kernelspec": {
   "display_name": "Python 3",
   "language": "python",
   "name": "python3"
  },
  "language_info": {
   "codemirror_mode": {
    "name": "ipython",
    "version": 3
   },
   "file_extension": ".py",
   "mimetype": "text/x-python",
   "name": "python",
   "nbconvert_exporter": "python",
   "pygments_lexer": "ipython3",
   "version": "3.7.3"
  },
  "vscode": {
   "interpreter": {
    "hash": "28f8cf0a8a4d3996c532b07e251eb4af62f7beb2b6ca98348312838517986615"
   }
  }
 },
 "nbformat": 4,
 "nbformat_minor": 2
}
