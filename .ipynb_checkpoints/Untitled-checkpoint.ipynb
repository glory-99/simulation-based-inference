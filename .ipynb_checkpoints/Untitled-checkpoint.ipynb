{
 "cells": [
  {
   "cell_type": "code",
   "execution_count": 1,
   "metadata": {},
   "outputs": [],
   "source": [
    "import torch\n",
    "import torch.nn as nn\n",
    "import numpy as np\n",
    "import numpy.random as rng"
   ]
  },
  {
   "cell_type": "code",
   "execution_count": 9,
   "metadata": {},
   "outputs": [
    {
     "data": {
      "text/plain": [
       "device(type='cuda', index=0)"
      ]
     },
     "execution_count": 9,
     "metadata": {},
     "output_type": "execute_result"
    }
   ],
   "source": [
    "device = torch.device(\"cuda:0\" if torch.cuda.is_available() else \"cpu\")\n",
    "device"
   ]
  },
  {
   "cell_type": "code",
   "execution_count": 2,
   "metadata": {},
   "outputs": [],
   "source": [
    "X = np.load('X.npy')\n",
    "normalize_c = np.load('normalize_constant.npy')"
   ]
  },
  {
   "cell_type": "code",
   "execution_count": 4,
   "metadata": {},
   "outputs": [
    {
     "data": {
      "text/plain": [
       "(100, 1000)"
      ]
     },
     "execution_count": 4,
     "metadata": {},
     "output_type": "execute_result"
    }
   ],
   "source": [
    "X.shape"
   ]
  },
  {
   "cell_type": "code",
   "execution_count": 5,
   "metadata": {},
   "outputs": [
    {
     "data": {
      "text/plain": [
       "array(538.19347245)"
      ]
     },
     "execution_count": 5,
     "metadata": {},
     "output_type": "execute_result"
    }
   ],
   "source": [
    "normalize_c"
   ]
  },
  {
   "cell_type": "code",
   "execution_count": 6,
   "metadata": {},
   "outputs": [],
   "source": [
    "import matplotlib.pyplot as plt"
   ]
  },
  {
   "cell_type": "code",
   "execution_count": 7,
   "metadata": {},
   "outputs": [
    {
     "data": {
      "text/plain": [
       "[<matplotlib.lines.Line2D at 0x7f1899b1ca90>]"
      ]
     },
     "execution_count": 7,
     "metadata": {},
     "output_type": "execute_result"
    },
    {
     "data": {
      "image/png": "[encoded data removed]",
      "text/plain": [
       "<Figure size 432x288 with 1 Axes>"
      ]
     },
     "metadata": {
      "needs_background": "light"
     },
     "output_type": "display_data"
    }
   ],
   "source": [
    "%matplotlib inline\n",
    "plt.plot(X[0])"
   ]
  },
  {
   "cell_type": "code",
   "execution_count": 8,
   "metadata": {},
   "outputs": [],
   "source": [
    "class MLP(nn.Module):\n",
    "    def __init__(self, N, p):\n",
    "        super(MLP, self).__init__()\n",
    "\n",
    "        self.fc1 = nn.Linear(N, 1024)\n",
    "        self.fc2 = nn.Linear(1024, 2048)\n",
    "        self.fc3 = nn.Linear(2048, 2048)\n",
    "        self.fc4 = nn.Linear(2048, 1024)\n",
    "        self.fc5 = nn.Linear(1024, p)\n",
    "        self.relu = nn.ReLU()\n",
    "        self.mseloss = nn.MSELoss()\n",
    "        self.bceloss = nn.BCEWithLogitsLoss()\n",
    "\n",
    "    def forward(self, input):\n",
    "        u = self.relu(self.fc1(input))\n",
    "        u = self.relu(self.fc2(u))\n",
    "        u = self.relu(self.fc3(u))\n",
    "        u = self.relu(self.fc4(u))\n",
    "        output = self.fc5(u)\n",
    "        return output\n",
    "\n",
    "    def get_mseloss(self, data, targ):\n",
    "        output = self.forward(data)\n",
    "        loss = self.mseloss(output, targ)\n",
    "        return loss\n",
    "\n",
    "    def get_bceloss(self, data, targ):\n",
    "        output = self.forward(data)\n",
    "        loss = self.bceloss(output, targ)\n",
    "        return loss"
   ]
  },
  {
   "cell_type": "code",
   "execution_count": 11,
   "metadata": {},
   "outputs": [
    {
     "data": {
      "text/plain": [
       "<All keys matched successfully>"
      ]
     },
     "execution_count": 11,
     "metadata": {},
     "output_type": "execute_result"
    }
   ],
   "source": [
    "md = MLP(1100, 1000)\n",
    "md.load_state_dict(torch.load(\"My_model.pt\"))"
   ]
  },
  {
   "cell_type": "code",
   "execution_count": 12,
   "metadata": {},
   "outputs": [],
   "source": [
    "true_beta = np.zeros((1000,1))\n",
    "true_beta[:4,0]=2"
   ]
  },
  {
   "cell_type": "code",
   "execution_count": 14,
   "metadata": {},
   "outputs": [],
   "source": [
    "Y_obs = X @ true_beta + rng.randn(100, 1)\n",
    "input = np.concatenate((Y_obs, X.T @ Y_obs), axis=0) / normalize_c"
   ]
  },
  {
   "cell_type": "code",
   "execution_count": 15,
   "metadata": {},
   "outputs": [
    {
     "data": {
      "text/plain": [
       "MLP(\n",
       "  (fc1): Linear(in_features=1100, out_features=1024, bias=True)\n",
       "  (fc2): Linear(in_features=1024, out_features=2048, bias=True)\n",
       "  (fc3): Linear(in_features=2048, out_features=2048, bias=True)\n",
       "  (fc4): Linear(in_features=2048, out_features=1024, bias=True)\n",
       "  (fc5): Linear(in_features=1024, out_features=1000, bias=True)\n",
       "  (relu): ReLU()\n",
       "  (mseloss): MSELoss()\n",
       "  (bceloss): BCEWithLogitsLoss()\n",
       ")"
      ]
     },
     "execution_count": 15,
     "metadata": {},
     "output_type": "execute_result"
    }
   ],
   "source": [
    "md.eval()"
   ]
  },
  {
   "cell_type": "code",
   "execution_count": 16,
   "metadata": {},
   "outputs": [
    {
     "data": {
      "text/plain": [
       "tensor([ 1.6461e-01,  1.2921e-01,  1.1340e-01,  1.4973e-01, -5.9346e-02,\n",
       "         6.3806e-03, -8.4820e-03, -2.3484e-02,  2.2883e-02, -8.0068e-03,\n",
       "        -5.4731e-02, -4.8008e-02,  1.0876e-02, -5.3089e-03,  3.3234e-02,\n",
       "        -1.4384e-02, -4.3330e-02,  2.0859e-02,  2.2043e-03,  1.0279e-02,\n",
       "        -7.3409e-03, -1.3678e-02, -1.7812e-02, -6.9020e-03,  1.4211e-03,\n",
       "        -1.4113e-02, -6.0531e-03, -3.1864e-02, -2.8655e-02, -3.8656e-02,\n",
       "         2.4365e-02, -8.5527e-03,  1.2421e-02, -5.6918e-05, -7.8605e-04,\n",
       "         6.4575e-02,  2.1454e-02,  9.7222e-02,  7.9977e-03, -4.7590e-02,\n",
       "        -5.4910e-02,  6.7491e-02,  1.9487e-02,  7.0053e-02,  4.2323e-03,\n",
       "         1.4934e-02,  1.7016e-02,  6.1508e-02, -1.2757e-02,  4.6149e-02,\n",
       "         5.1495e-02,  2.4981e-02, -3.8168e-02,  4.0321e-02, -5.5439e-02,\n",
       "        -2.3752e-02,  1.6420e-02,  6.0000e-02,  1.5992e-02,  3.5952e-03,\n",
       "         1.7140e-02,  3.3302e-02, -8.4076e-03,  4.0302e-02,  3.3593e-02,\n",
       "         3.4694e-02, -1.7986e-03,  1.8339e-02,  3.9577e-02,  5.9873e-02,\n",
       "        -1.6936e-02,  3.2201e-02,  3.5206e-04, -3.4046e-02,  3.3506e-02,\n",
       "         4.4290e-02, -1.5230e-02,  7.7689e-03,  1.5109e-02, -7.6651e-02,\n",
       "         2.6041e-03,  1.1798e-02,  5.1471e-02,  2.1768e-02, -5.4535e-03,\n",
       "        -8.5697e-03, -7.3318e-02, -2.2647e-02,  6.2404e-02, -3.7784e-02,\n",
       "        -7.9984e-03,  9.0269e-03, -4.6716e-03,  6.4028e-02, -1.1561e-03,\n",
       "        -2.1345e-02,  5.9205e-02,  5.9832e-03, -2.6901e-02, -2.3903e-02,\n",
       "         2.5480e-02, -2.2374e-03,  3.3115e-02, -4.2218e-02,  4.2430e-02,\n",
       "         6.6458e-02,  2.6489e-02, -3.4799e-02,  2.3114e-02,  2.5529e-02,\n",
       "        -4.0367e-02,  1.3309e-02,  1.6920e-02,  2.2983e-02, -2.8897e-02,\n",
       "        -1.5350e-02,  4.4099e-02, -3.6088e-03,  3.4333e-02, -2.8788e-02,\n",
       "        -3.1862e-02,  3.2106e-03, -3.1388e-03, -2.9235e-02,  4.6527e-02,\n",
       "        -4.6392e-02,  4.9214e-02, -1.2722e-02, -4.5383e-03, -1.0096e-02,\n",
       "        -9.9009e-04, -1.1308e-02, -5.0595e-02,  8.8167e-04,  2.7005e-03,\n",
       "        -2.3087e-03, -1.6339e-02, -7.2055e-02,  8.1165e-03, -2.1678e-02,\n",
       "        -2.4910e-02, -1.1597e-02, -6.6467e-02,  8.0629e-02,  4.5180e-02,\n",
       "        -2.0569e-02, -3.7088e-02,  2.7129e-02, -2.6768e-02, -9.2206e-03,\n",
       "        -1.5051e-03,  3.8474e-02, -7.6314e-02, -6.1966e-02, -1.7721e-02,\n",
       "         4.8692e-02,  2.5898e-02,  3.8361e-02, -3.0528e-02, -1.3795e-02,\n",
       "         1.1505e-02,  4.8168e-02,  3.0372e-02, -3.9519e-03,  5.1790e-02,\n",
       "        -1.8362e-02, -4.0439e-02, -5.6828e-03,  7.1861e-03,  1.4618e-02,\n",
       "         1.8912e-02,  7.8076e-02,  5.3423e-02, -6.3595e-03,  5.2031e-02,\n",
       "        -8.2568e-03,  3.0615e-03,  1.4117e-02,  5.9894e-02, -1.3176e-02,\n",
       "         1.2603e-02, -6.5959e-02,  8.8260e-02, -9.9761e-03,  6.6799e-02,\n",
       "         3.8478e-02, -2.0970e-02,  1.4584e-02,  1.4388e-02,  2.5132e-02,\n",
       "        -1.9645e-02,  3.5892e-02, -1.7901e-02,  3.0800e-02, -1.1721e-03,\n",
       "         4.4182e-03,  3.4595e-02, -6.9479e-03, -7.9074e-03, -2.4317e-02,\n",
       "        -8.7255e-02,  1.7026e-02, -6.9944e-02, -5.9003e-02, -6.3548e-03,\n",
       "        -5.2648e-03, -3.4686e-02, -2.3092e-02, -3.3475e-03,  4.8780e-02,\n",
       "        -3.0094e-02, -3.3902e-02,  3.4764e-02, -5.6735e-02, -2.9336e-02,\n",
       "        -1.7932e-02, -1.1303e-02, -1.7829e-02, -8.8778e-03, -3.4041e-02,\n",
       "        -1.9187e-02,  2.0579e-02,  2.7669e-03, -2.7894e-02,  2.0282e-03,\n",
       "        -8.8312e-03,  1.5179e-02,  4.5748e-03, -3.0966e-02, -2.2333e-02,\n",
       "         1.8064e-02, -1.5265e-02, -1.5208e-02,  1.5427e-04,  2.9100e-02,\n",
       "        -3.4218e-02, -1.2179e-02,  2.2041e-02,  7.4894e-02,  3.4796e-03,\n",
       "         8.2987e-02,  6.6078e-02, -2.0118e-02, -5.3818e-02, -3.0093e-02,\n",
       "         2.0762e-03, -3.7010e-02, -1.6375e-02, -1.3150e-02, -1.1896e-02,\n",
       "        -4.1933e-02, -7.6102e-02,  4.0402e-02,  5.0109e-02,  1.6244e-02,\n",
       "        -8.8372e-03, -5.2880e-02, -2.2433e-02, -1.1454e-02, -9.4439e-04,\n",
       "        -9.2024e-03, -1.0377e-03,  4.3427e-02, -2.6911e-02,  8.6379e-04,\n",
       "         1.6338e-03, -5.5087e-03, -2.2840e-02,  1.6751e-02,  7.6333e-04,\n",
       "         3.4604e-02, -1.4686e-02, -8.5963e-03, -1.4067e-02,  2.6096e-02,\n",
       "        -2.9143e-02,  3.9862e-02,  2.8071e-02, -2.0240e-02, -1.0970e-02,\n",
       "        -2.3524e-02, -2.7079e-02,  3.5310e-02, -4.7439e-03,  3.3942e-02,\n",
       "        -2.8153e-02,  4.3692e-03,  1.4271e-02, -2.0944e-05, -7.9439e-02,\n",
       "         9.6931e-03, -4.2576e-02, -1.5281e-02, -2.8169e-02,  9.6600e-03,\n",
       "         2.5511e-02, -4.3677e-02, -1.6837e-02, -3.6327e-02,  9.1498e-03,\n",
       "        -5.1448e-02, -3.6156e-02,  3.1241e-02, -2.6777e-03, -6.2352e-02,\n",
       "         2.2924e-02, -6.1636e-02, -5.1438e-02, -2.7518e-02,  4.6885e-02,\n",
       "        -3.2533e-02, -9.8188e-03,  6.8348e-02, -3.7426e-03,  1.3325e-02,\n",
       "         7.7764e-03, -7.5548e-03, -2.3360e-02,  2.3505e-03, -4.9827e-03,\n",
       "         3.1143e-02, -1.5455e-02,  1.7313e-02,  2.9151e-03, -3.7018e-02,\n",
       "        -1.6795e-02, -7.3935e-03,  6.3275e-03, -4.6392e-02,  2.4107e-02,\n",
       "         2.2169e-02, -1.3638e-02,  6.0871e-02,  1.7849e-02, -2.7252e-02,\n",
       "         7.5325e-02, -1.6269e-02, -6.6907e-03,  7.0744e-02, -4.2115e-02,\n",
       "         4.1713e-02, -3.3145e-02, -1.7941e-02,  7.1065e-02,  2.1904e-02,\n",
       "         1.0925e-02,  1.0469e-03, -9.0054e-03,  1.8236e-03,  1.1197e-02,\n",
       "         1.9638e-02, -8.2552e-02, -2.1882e-03,  4.3851e-02,  5.7073e-02,\n",
       "         3.6228e-02,  2.8326e-02,  3.0467e-02, -7.9331e-02, -1.4750e-02,\n",
       "         5.7711e-03,  3.8452e-02,  8.3257e-03, -1.5245e-02,  5.6254e-02,\n",
       "        -1.1825e-02, -1.8536e-02,  5.7685e-02,  1.8232e-02,  5.6487e-02,\n",
       "         7.5210e-03,  2.4715e-02,  4.4406e-02,  6.1208e-04, -4.8607e-02,\n",
       "         2.2842e-02,  1.1787e-02, -9.2458e-03, -4.6787e-02, -2.7918e-02,\n",
       "        -1.9489e-02,  2.3365e-02, -1.4082e-02,  1.0717e-02,  1.9900e-02,\n",
       "        -2.4862e-02, -8.6647e-03,  1.9493e-02, -7.8739e-02, -1.1835e-04,\n",
       "        -1.1039e-02,  5.1229e-02, -2.7494e-02, -1.6139e-02, -1.4954e-02,\n",
       "         5.1381e-02, -8.0603e-03, -1.3346e-02, -4.8679e-03,  1.7490e-02,\n",
       "         5.6018e-02, -2.9037e-02,  6.0469e-03, -2.8902e-02, -4.7930e-02,\n",
       "         1.4477e-02,  3.5274e-02,  2.1918e-02,  1.7564e-02,  2.2791e-02,\n",
       "        -4.0446e-02, -4.6808e-02,  2.9880e-02,  9.3134e-03,  2.0672e-02,\n",
       "         1.7496e-02, -2.1071e-02, -3.0722e-02,  4.7836e-03,  9.4074e-03,\n",
       "         3.9600e-02, -8.0825e-03, -1.0094e-02, -1.2054e-02,  6.4268e-02,\n",
       "         1.5122e-02, -3.3022e-02,  1.8890e-02,  1.2963e-02,  3.0053e-02,\n",
       "         1.4553e-02,  2.7025e-02,  2.1183e-02, -1.4078e-02,  2.2104e-02,\n",
       "        -2.5365e-02,  1.3059e-03, -2.9177e-03, -3.6488e-02,  3.8492e-02,\n",
       "        -6.3036e-03, -7.2083e-02,  3.2064e-02,  5.1467e-03,  1.5545e-02,\n",
       "         2.1262e-02, -4.7927e-03,  1.5343e-02, -5.2729e-02,  4.6710e-02,\n",
       "         2.8648e-02,  1.6917e-03,  5.4421e-03, -3.2853e-02, -3.8228e-02,\n",
       "         9.0202e-03, -1.5302e-02,  2.6390e-03, -3.6828e-02, -2.0337e-02,\n",
       "        -6.9664e-03, -1.7567e-02,  7.0153e-02, -2.5580e-02,  1.8448e-02,\n",
       "        -6.0623e-02, -1.9943e-02,  2.9317e-02,  5.4564e-03, -2.7664e-02,\n",
       "         3.9008e-02,  8.9746e-03,  3.1338e-02, -2.2927e-02,  2.2883e-02,\n",
       "        -7.3525e-03,  7.7420e-02, -4.1770e-03, -4.2758e-02,  4.9604e-02,\n",
       "        -3.8891e-02,  2.2764e-02, -1.3792e-02, -1.7875e-02,  7.2822e-03,\n",
       "         3.1652e-02, -9.6877e-02, -1.9173e-02, -3.4518e-02,  1.0012e-02,\n",
       "         5.9833e-02,  2.6049e-02,  1.4195e-02,  1.4285e-02, -2.3414e-02,\n",
       "        -4.0592e-02, -2.0896e-02, -7.5907e-03,  2.1170e-03,  1.3011e-02,\n",
       "         4.5265e-02,  1.4139e-02,  2.6715e-02,  1.6315e-02,  2.1094e-02,\n",
       "         3.1169e-02, -9.1024e-03,  7.6638e-03,  2.5417e-03, -2.2041e-02,\n",
       "        -3.5723e-02,  3.8968e-02, -2.7110e-02,  1.2883e-02,  5.5192e-03,\n",
       "         7.8502e-03,  8.8411e-03,  3.2614e-02,  4.2573e-02, -3.3183e-02,\n",
       "         5.3740e-03, -2.9057e-02, -6.1511e-03, -1.3147e-02,  2.7360e-02,\n",
       "         1.5683e-02, -1.1425e-02,  2.9190e-02, -7.7472e-03,  3.4671e-02,\n",
       "        -4.1931e-02,  3.9980e-02,  2.6409e-02, -3.4023e-03, -1.5077e-02,\n",
       "        -1.1114e-02, -2.8415e-02,  2.2273e-02, -3.0047e-02, -5.7761e-02,\n",
       "        -1.5723e-02, -1.6673e-02,  2.4879e-02, -6.6934e-03, -2.6115e-02,\n",
       "         4.8258e-04, -2.4608e-02,  8.4798e-02,  4.1304e-02,  9.0727e-03,\n",
       "        -1.5505e-02, -1.7444e-02,  3.5330e-02,  1.1171e-02, -2.7910e-02,\n",
       "         2.6214e-02,  1.0110e-02,  4.6563e-02, -5.0101e-03,  1.6882e-03,\n",
       "        -1.7396e-02, -1.1672e-02, -3.1038e-02, -2.5785e-02, -2.6554e-02,\n",
       "        -2.4671e-02, -8.7939e-02,  2.6692e-02, -2.5761e-02, -1.7292e-02,\n",
       "         1.3037e-02,  1.3929e-02,  3.4361e-02, -2.2024e-02,  2.8782e-03,\n",
       "         1.9466e-02,  3.0642e-02,  2.1011e-02, -1.1074e-04,  5.8403e-02,\n",
       "         4.0898e-02,  1.3258e-02,  2.8043e-02, -8.4701e-03, -3.0610e-02,\n",
       "         2.5759e-02, -3.3474e-03, -1.5609e-02, -2.5397e-02,  3.4726e-02,\n",
       "         4.3736e-02, -5.9371e-02, -4.3054e-03, -1.6952e-02,  2.6690e-02,\n",
       "         1.6215e-02,  3.8581e-02, -6.0055e-02, -9.4135e-04, -3.1721e-03,\n",
       "         4.5387e-02, -3.8643e-03, -1.8207e-02, -2.7091e-02, -2.2095e-02,\n",
       "        -3.2218e-02, -1.4373e-02, -2.6128e-02, -5.3342e-02, -7.2770e-04,\n",
       "         6.1800e-02, -6.7092e-03,  4.9450e-02, -9.4821e-03,  1.3783e-02,\n",
       "         3.1912e-02, -2.2263e-02, -9.1385e-02, -2.6161e-02,  8.1394e-03,\n",
       "        -1.2656e-02, -5.4229e-03,  5.5098e-02,  2.2784e-02,  1.3716e-02,\n",
       "         3.6949e-02, -1.9844e-02,  1.2252e-03, -3.6128e-02, -4.4615e-02,\n",
       "         6.3861e-02,  9.3070e-03,  2.7008e-02,  1.4723e-02,  2.0458e-02,\n",
       "         8.8859e-03, -3.2317e-02, -3.1170e-02, -2.4089e-02,  1.0872e-02,\n",
       "        -1.4027e-02, -2.4994e-02, -1.1717e-02,  1.4265e-02,  3.5943e-02,\n",
       "         5.1147e-03,  4.4233e-02, -5.4166e-02, -4.2877e-02,  1.1394e-02,\n",
       "        -2.3310e-02,  3.5274e-03, -2.9402e-02,  3.4797e-02,  8.4107e-02,\n",
       "        -6.9449e-03, -5.4009e-02, -1.8015e-02, -6.0965e-04, -4.2015e-02,\n",
       "        -7.0649e-03,  2.9620e-02,  2.5667e-02, -4.4283e-02, -2.7189e-02,\n",
       "        -1.2935e-02, -5.5630e-02,  2.7523e-02, -1.9069e-03,  1.0323e-02,\n",
       "        -8.8170e-02,  2.8562e-02,  9.4602e-02,  6.5189e-03,  4.1622e-03,\n",
       "         2.7796e-02,  3.9581e-02, -2.3058e-02,  1.4817e-02, -3.3705e-02,\n",
       "        -7.9398e-03,  5.9305e-02,  1.8242e-02, -1.7336e-02, -1.1796e-02,\n",
       "         8.1079e-03, -3.4753e-02,  1.6443e-02,  1.4605e-02,  1.5502e-02,\n",
       "         2.5643e-02, -1.7103e-03,  3.8654e-03,  1.5749e-03,  4.3697e-02,\n",
       "         3.6661e-02,  1.7736e-02, -3.1937e-02,  2.5307e-02,  5.4822e-03,\n",
       "        -4.4043e-02,  6.6062e-03, -2.3925e-02, -1.5248e-02, -7.2770e-03,\n",
       "        -7.8260e-03, -4.2484e-02,  1.5807e-03, -5.8329e-03,  1.5060e-02,\n",
       "         2.3744e-02, -2.5249e-03,  1.6344e-02,  5.6307e-02,  7.4195e-02,\n",
       "         2.6749e-02,  1.3811e-02, -6.9372e-03, -3.1993e-02, -2.3234e-02,\n",
       "        -1.1855e-01, -2.9284e-03, -1.0178e-02, -3.2181e-02, -4.3690e-02,\n",
       "         1.2748e-02,  1.5397e-03, -3.3972e-02, -6.7471e-02,  7.2098e-03,\n",
       "        -2.1257e-02, -3.3835e-02,  4.4269e-02, -1.5124e-02,  9.2189e-03,\n",
       "        -4.3485e-02,  8.2768e-03, -8.0402e-03,  1.0439e-02,  4.3976e-02,\n",
       "        -3.9454e-02,  2.3647e-02, -2.8553e-02, -1.5238e-02,  3.0264e-02,\n",
       "        -8.9672e-04,  1.3042e-02,  3.0401e-02, -1.5881e-02, -5.6071e-03,\n",
       "         8.1918e-02, -2.0387e-02, -3.6124e-02, -4.7990e-02, -2.4121e-03,\n",
       "         8.3106e-03, -3.5503e-03,  1.0974e-02,  7.5931e-03, -1.5413e-04,\n",
       "        -1.4296e-02, -5.0774e-02,  2.3110e-02, -5.4408e-03,  3.9707e-02,\n",
       "         2.1780e-02,  1.7273e-02,  3.2268e-02,  2.7662e-02,  4.5002e-02,\n",
       "         9.9245e-03,  5.4544e-02,  3.3511e-02, -1.4124e-02, -6.8784e-03,\n",
       "         2.7928e-02, -2.5162e-02, -3.9402e-02,  4.3496e-02,  1.8770e-02,\n",
       "        -1.5712e-02,  2.2669e-03, -2.1652e-03, -4.1290e-03, -1.2166e-02,\n",
       "         5.1024e-02,  5.1845e-03,  1.5347e-02, -3.1291e-02,  3.2009e-02,\n",
       "         4.3438e-02, -3.6865e-02,  3.7502e-03,  6.1450e-02, -1.8169e-02,\n",
       "        -1.9824e-02, -3.3419e-02, -4.9978e-02, -5.8407e-02, -1.6031e-02,\n",
       "         1.9713e-02,  2.0879e-03,  1.9627e-02,  3.8387e-03,  5.7981e-02,\n",
       "        -2.4685e-02, -6.7146e-03,  2.8528e-02,  3.1956e-02,  1.5747e-02,\n",
       "         2.1627e-02, -3.1357e-02, -8.2819e-03,  2.3227e-02,  1.6705e-02,\n",
       "         3.1768e-02, -8.3568e-03, -1.4160e-02, -1.4040e-02, -1.7209e-02,\n",
       "        -4.4081e-03, -1.9551e-02, -1.6569e-02,  1.5091e-02, -4.6644e-02,\n",
       "         6.9602e-03,  4.7604e-02,  2.2747e-03,  1.3090e-02,  7.6102e-02,\n",
       "         3.7192e-02,  3.4049e-02, -1.0740e-02, -5.1272e-02, -7.0699e-02,\n",
       "        -1.6810e-02,  3.1271e-02,  4.0588e-02,  2.2122e-02, -1.3124e-02,\n",
       "        -9.2577e-03,  1.8305e-02, -1.3826e-03,  5.4650e-02, -7.0328e-03,\n",
       "        -6.9967e-04, -2.3604e-02, -1.7700e-02,  1.4128e-02, -4.3927e-03,\n",
       "         2.0010e-02,  3.4688e-02, -1.7272e-02,  3.2247e-02, -2.0743e-02,\n",
       "         3.4780e-02, -5.4121e-02,  7.7211e-02, -4.0619e-02, -4.5354e-02,\n",
       "         5.7347e-02, -1.5161e-02, -3.4049e-03, -6.3576e-02, -3.8222e-02,\n",
       "         1.2646e-02,  9.4016e-03, -4.6612e-03, -2.2961e-02, -3.9289e-02,\n",
       "         4.5605e-02, -3.2701e-02,  2.5317e-02,  3.3357e-02, -5.3361e-02,\n",
       "        -3.5769e-03,  3.9218e-03, -1.8785e-02,  1.7006e-02,  2.2622e-02,\n",
       "         8.1448e-02,  7.3502e-02, -6.4499e-02, -4.8030e-02,  6.7494e-02,\n",
       "         2.1255e-02,  3.2816e-02, -4.0035e-03, -9.3335e-03, -9.9622e-03,\n",
       "        -4.8990e-02, -2.3147e-02,  8.8673e-02,  4.1751e-02,  1.2014e-02,\n",
       "        -2.4809e-02,  5.1999e-02,  2.4246e-03,  9.9990e-03,  1.6169e-02,\n",
       "        -7.7703e-03,  4.6548e-02, -3.5117e-02,  6.5551e-02,  6.4873e-02,\n",
       "         3.2111e-02, -6.4508e-03,  9.5589e-03,  2.9267e-02,  2.3912e-02,\n",
       "         4.2670e-02, -2.7765e-02,  3.2589e-03, -5.7595e-02, -4.1861e-03,\n",
       "        -7.1499e-02,  2.7607e-02, -1.7722e-03, -4.0824e-02,  4.2910e-02,\n",
       "         6.3994e-02, -2.5446e-02,  4.7009e-02,  3.0906e-03, -6.9958e-03,\n",
       "         6.6356e-02,  2.0823e-02, -2.6528e-02,  3.9683e-03, -3.9570e-02,\n",
       "        -3.5265e-02,  3.1644e-02,  3.9056e-02, -2.8676e-02,  3.1503e-02,\n",
       "         9.6454e-04, -6.8088e-03, -5.6431e-02, -5.1085e-02,  1.4430e-02,\n",
       "        -4.3246e-02, -2.4640e-03,  9.0190e-03,  3.6202e-04, -1.7805e-02,\n",
       "         3.2913e-02,  9.7990e-03, -2.3725e-02,  2.3566e-03, -1.7041e-02,\n",
       "         1.4999e-02,  8.5242e-03, -1.9149e-02, -3.4775e-02,  3.7130e-02,\n",
       "         7.5373e-02,  2.3491e-03,  5.3926e-02, -3.4170e-02, -4.8631e-02,\n",
       "        -1.9008e-03, -1.6086e-02, -2.8783e-02, -2.2115e-02, -1.4972e-03,\n",
       "         4.0637e-02,  3.6982e-02, -1.5608e-02, -1.1348e-02, -5.1186e-02,\n",
       "         8.1063e-03, -3.7716e-04, -5.3418e-03,  2.9045e-02,  5.2974e-02,\n",
       "         2.5182e-02,  7.8552e-03,  2.6114e-02, -1.7098e-03,  3.0279e-02,\n",
       "        -3.3760e-03, -4.8704e-02,  9.8766e-03, -1.6845e-04,  1.3153e-02,\n",
       "        -1.2376e-02, -2.1375e-02,  3.2512e-02, -2.9761e-02,  4.6708e-03,\n",
       "        -8.5472e-03, -8.6941e-03,  1.6426e-02, -4.0910e-02, -2.7116e-02,\n",
       "         1.5254e-02, -4.4381e-02, -7.5043e-03,  8.0437e-03,  2.2930e-03],\n",
       "       grad_fn=<AddBackward0>)"
      ]
     },
     "execution_count": 16,
     "metadata": {},
     "output_type": "execute_result"
    }
   ],
   "source": [
    "input = torch.from_numpy(input.reshape(-1)).type(torch.float)\n",
    "md(input)"
   ]
  },
  {
   "cell_type": "code",
   "execution_count": 18,
   "metadata": {},
   "outputs": [],
   "source": [
    "output = md(input).detach().numpy()"
   ]
  },
  {
   "cell_type": "code",
   "execution_count": 19,
   "metadata": {},
   "outputs": [
    {
     "data": {
      "text/plain": [
       "[<matplotlib.lines.Line2D at 0x7f188bfa9668>]"
      ]
     },
     "execution_count": 19,
     "metadata": {},
     "output_type": "execute_result"
    },
    {
     "data": {
      "image/png": "[encoded data removed]",
      "text/plain": [
       "<Figure size 432x288 with 1 Axes>"
      ]
     },
     "metadata": {
      "needs_background": "light"
     },
     "output_type": "display_data"
    }
   ],
   "source": [
    "plt.plot(output)"
   ]
  },
  {
   "cell_type": "code",
   "execution_count": null,
   "metadata": {},
   "outputs": [],
   "source": []
  }
 ],
 "metadata": {
  "kernelspec": {
   "display_name": "Python 3",
   "language": "python",
   "name": "python3"
  },
  "language_info": {
   "codemirror_mode": {
    "name": "ipython",
    "version": 3
   },
   "file_extension": ".py",
   "mimetype": "text/x-python",
   "name": "python",
   "nbconvert_exporter": "python",
   "pygments_lexer": "ipython3",
   "version": "3.7.3"
  }
 },
 "nbformat": 4,
 "nbformat_minor": 2
}
