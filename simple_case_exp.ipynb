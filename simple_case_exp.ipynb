{
 "cells": [
  {
   "cell_type": "code",
   "execution_count": 17,
   "metadata": {},
   "outputs": [],
   "source": [
    "import math\n",
    "import numpy as np\n",
    "from scipy.special import erfinv\n",
    "import numpy.random as rng\n",
    "import torch \n",
    "import torch.nn as nn\n",
    "import matplotlib.pyplot as plt\n",
    "from torch.utils.data import TensorDataset, DataLoader\n",
    "from copy import deepcopy \n",
    "device = torch.device(\"cuda:0\" if torch.cuda.is_available() else \"cpu\")"
   ]
  },
  {
   "cell_type": "code",
   "execution_count": 6,
   "metadata": {},
   "outputs": [],
   "source": [
    "class Generator_eye(object):\n",
    "    def __init__(self, p, theta, beta_range) -> None:\n",
    "        self.p = p \n",
    "        self.theta = theta \n",
    "        self.beta_range = beta_range \n",
    "        self.X = np.eye(p)\n",
    "    \n",
    "    def generate_samples(self, n):\n",
    "        scale = self.beta_range[1] - self.beta_range[0]\n",
    "        theta = np.ones((n, self.p)) * self.theta\n",
    "        gamma = rng.binomial(1, theta)\n",
    "        beta = np.zeros((n, self.p))\n",
    "        beta[gamma == 1] = rng.rand(np.sum(gamma == 1)) * scale + self.beta_range[0]\n",
    "        beta[gamma == 0] = 0. \n",
    "        Y = beta@self.X.T + rng.randn(n, self.p)\n",
    "        return gamma, beta, Y "
   ]
  },
  {
   "cell_type": "markdown",
   "metadata": {},
   "source": [
    "## Neural Networks"
   ]
  },
  {
   "cell_type": "code",
   "execution_count": 7,
   "metadata": {},
   "outputs": [],
   "source": [
    "class MLP_light(nn.Module):\n",
    "    def __init__(self, N, p):\n",
    "        super(MLP_light, self).__init__()\n",
    "        self.fc1 = nn.Linear(N, 1024)\n",
    "        self.fc2 = nn.Linear(1024, 1024)\n",
    "        self.fc3 = nn.Linear(1024, p)\n",
    "        self.relu = nn.ReLU()\n",
    "        self.mseloss = nn.MSELoss()\n",
    "        self.bceloss = nn.BCEWithLogitsLoss()\n",
    "    \n",
    "    def forward(self, input):\n",
    "        u = self.relu(self.fc1(input))\n",
    "        u = self.relu(self.fc2(u))\n",
    "        output = self.fc3(u)\n",
    "        return output\n",
    "\n",
    "    def get_mseloss(self, data, targ):\n",
    "        output = self.forward(data)\n",
    "        loss = self.mseloss(output, targ)\n",
    "        return loss\n",
    "\n",
    "    def get_bceloss(self, data, targ):\n",
    "        output = self.forward(data)\n",
    "        loss = self.bceloss(output, targ)\n",
    "        return loss\n",
    "    \n",
    "    def get_quanloss(self, data, targ, tau):\n",
    "        output = self.forward(data)\n",
    "        errs = targ - output\n",
    "        loss = torch.mean(torch.max((tau-1)*errs, tau*errs))\n",
    "        return loss"
   ]
  },
  {
   "cell_type": "markdown",
   "metadata": {},
   "source": [
    "## Relative functions"
   ]
  },
  {
   "cell_type": "code",
   "execution_count": 58,
   "metadata": {},
   "outputs": [],
   "source": [
    "''' \n",
    " loss_type: 'mse' for posterior mean, 'bce' for predicting whether beta is 0, 'quantile' for posterior quantile.\n",
    "q: Only used when loss_type is 'quantile', q quantile.\n",
    "'''\n",
    "def train_epoch(model, optimizer, data_loader, loss_type, q):\n",
    "    model.train()\n",
    "    n = 0\n",
    "    train_loss = 0.\n",
    "    for _, (data, targ) in enumerate(data_loader):\n",
    "        data, targ = data.to(device), targ.to(device)\n",
    "        if loss_type == 'mse':\n",
    "            loss = model.get_mseloss(data, targ)\n",
    "        elif loss_type == 'bce':\n",
    "            loss = model.get_bceloss(data, targ)\n",
    "        elif loss_type == 'quantile':\n",
    "            loss = model.get_quanloss(data, targ, q)\n",
    "        train_loss += loss.item() * data.shape[0]   \n",
    "        n += data.shape[0]\n",
    "\n",
    "        optimizer.zero_grad()\n",
    "        loss.backward()\n",
    "        optimizer.step()\n",
    "    return train_loss/n\n",
    "             \n",
    "def model_test(model, data_loader, loss_type='mse', q=0.5):\n",
    "    model.eval()\n",
    "    with torch.no_grad():\n",
    "        n = 0 \n",
    "        total_loss = 0.\n",
    "        for _, (data, targ) in enumerate(data_loader):\n",
    "            data, targ = data.to(device), targ.to(device)\n",
    "            if loss_type == 'mse':\n",
    "                loss = model.get_mseloss(data, targ)\n",
    "            elif loss_type == 'bce':\n",
    "                loss = model.get_bceloss(data, targ)\n",
    "            elif loss_type == 'quantile':\n",
    "                loss = model.get_quanloss(data, targ, q)\n",
    "            total_loss += loss.item() * data.shape[0]\n",
    "            n += data.shape[0]\n",
    "    return total_loss/n\n",
    "\n",
    "def train_model(model, model_es, lr, epochs, train_data, loss_type='mse', q=0.5, val_data=None, early_stop=5):\n",
    "    assert loss_type in ['mse', 'bce', 'quantile']\n",
    "    optimizer = torch.optim.Adam(model.parameters(), lr=lr)\n",
    "    train_losses = []\n",
    "    val_losses = []\n",
    "    min_loss = 1e6\n",
    "    es_count = 0\n",
    "    es_flag = 0\n",
    "    for i in range(epochs):\n",
    "        train_loss = train_epoch(model, optimizer, train_data, loss_type, q)\n",
    "        print('Epoch: {}'.format(i+1))\n",
    "        print('Train loss: {:.5f}'.format(train_loss))\n",
    "        train_losses.append(train_loss)\n",
    "        if val_data.__str__() != 'None':\n",
    "            val_loss = model_test(model, val_data, loss_type, q)\n",
    "            print('Val loss: {:.5f}'.format(val_loss))\n",
    "            val_losses.append(val_loss)\n",
    "            if val_loss <= min_loss:\n",
    "                min_loss = val_loss\n",
    "                es_count = 0\n",
    "            if (es_count >= early_stop) and (es_flag == 0):\n",
    "                es_flag = 1\n",
    "                print('Save early stopping model at epoch {}'.format(i+1))\n",
    "                model_es.load_state_dict(deepcopy(model.state_dict()))\n",
    "            es_count += 1\n",
    "    return train_losses, val_losses\n",
    "\n",
    "def predict(model, Y):\n",
    "    model.eval()\n",
    "    with torch.no_grad():\n",
    "        data = torch.from_numpy(Y).type(torch.float).to(device)\n",
    "        pred = model(data)\n",
    "    return pred.detach().cpu().numpy()\n",
    "\n",
    "def show_loss(train_losses, val_losses):\n",
    "    plt.plot(range(len(train_losses)), train_losses)\n",
    "    plt.plot(range(len(train_losses)), val_losses)\n",
    "    plt.legend(['train loss', 'val loss'], loc=\"upper right\")\n",
    "    plt.show()\n",
    "\n",
    "def predict_class(model, Y):\n",
    "    model.eval()\n",
    "    with torch.no_grad():\n",
    "        data = torch.from_numpy(Y).type(torch.float).to(device)\n",
    "        pred = torch.sigmoid(model(data))\n",
    "    return pred.detach().cpu().numpy()"
   ]
  },
  {
   "cell_type": "code",
   "execution_count": 28,
   "metadata": {},
   "outputs": [],
   "source": [
    "''' \n",
    "compute normalization constant\n",
    "'''\n",
    "def compute_c(y, theta, a, sigma):\n",
    "    c = 2*a * (1-theta) * np.exp(-y**2 / (2 * sigma**2)) \\\n",
    "    + theta * np.sqrt(np.pi/2) * sigma * \\\n",
    "    (math.erf((y+a)/(sigma*np.sqrt(2))) - math.erf((y-a)/(sigma*np.sqrt(2))))\n",
    "    return c / (2*a)"
   ]
  },
  {
   "cell_type": "code",
   "execution_count": 29,
   "metadata": {},
   "outputs": [],
   "source": [
    "''' \n",
    "compute the cumulative probablity of the marginal distribution of beta\n",
    "'''\n",
    "def cumulative_prob(t, y, norm_c, theta, a, sigma):\n",
    "    assert t>=-a and t<=a\n",
    "    if t>=0:\n",
    "        prob = (1-theta) * np.exp(-y**2 / (2 * sigma**2)) / norm_c \\\n",
    "            + theta * np.sqrt(np.pi/2) * sigma * \\\n",
    "                (math.erf((y+a)/(sigma*np.sqrt(2))) - math.erf((y-t)/(sigma*np.sqrt(2)))) / (2 * a * norm_c)\n",
    "    elif t<0:\n",
    "        prob = theta * np.sqrt(np.pi/2) * sigma * \\\n",
    "                (math.erf((y+a)/(sigma*np.sqrt(2))) - math.erf((y-t)/(sigma*np.sqrt(2)))) / (2 * a * norm_c)\n",
    "    return prob"
   ]
  },
  {
   "cell_type": "code",
   "execution_count": 30,
   "metadata": {},
   "outputs": [],
   "source": [
    "def computeQuantile(y, norm_c, theta, a, sigma, q=0.975):\n",
    "    inner = ((1-theta) / norm_c * np.exp(-y**2 / (2 * sigma**2)) - q) \\\n",
    "        / (theta / (2*a*norm_c) * np.sqrt(np.pi/2) * sigma) + math.erf((y+a)/(sigma*np.sqrt(2)))\n",
    "    t = y - np.sqrt(2) * sigma * erfinv(inner)\n",
    "    return t \n",
    "def computePPI(y, theta, a, sigma):\n",
    "    q025 = q975 = 0\n",
    "    c = compute_c(y, theta, a, sigma)\n",
    "    abs_y = np.abs(y)\n",
    "    if abs_y >= 1.68:\n",
    "        q975 = computeQuantile(abs_y, c, theta, a, sigma, 0.975)\n",
    "    if abs_y >= 4.168:\n",
    "        q025 = computeQuantile(abs_y, c, theta, a, sigma, 0.025)\n",
    "    if y < 0:\n",
    "        temp = q025\n",
    "        q025 = -q975\n",
    "        q975 = -temp \n",
    "    return q025, q975\n",
    "def computePosMean(y, theta, a, sigma):\n",
    "    c = compute_c(y, theta, a, sigma)\n",
    "    left = sigma**2 * (np.exp(-((-a-y)/np.sqrt(2)/sigma)**2) - np.exp(-((a-y)/np.sqrt(2)/sigma)**2))\n",
    "    right = np.sqrt(np.pi/2) * sigma * y * \\\n",
    "        (math.erf((a-y)/(sigma*np.sqrt(2))) - math.erf((-a-y)/(sigma*np.sqrt(2))))\n",
    "    mu = theta / (2*a*c) * (left + right)\n",
    "    return mu "
   ]
  },
  {
   "cell_type": "code",
   "execution_count": 57,
   "metadata": {},
   "outputs": [],
   "source": [
    "def compute_mses(md_mean, md_q025, md_q975, Y, Y_normalized, theta, a, sigma):\n",
    "    true_mean = np.zeros_like(Y)\n",
    "    true_q025 = np.zeros_like(Y)\n",
    "    true_q975 = np.zeros_like(Y)\n",
    "    for i in range(Y.shape[0]):\n",
    "        for j in range(Y.shape[1]):\n",
    "            true_mean[i,j] = computePosMean(Y[i,j], theta, a, sigma)\n",
    "            true_q025[i,j], true_q975[i,j] = computePPI(Y[i,j], theta, a, sigma)\n",
    "    pred_mean = predict(md_mean, Y_normalized)\n",
    "    pred_q025 = predict(md_q025, Y_normalized)\n",
    "    pred_q975 = predict(md_q975, Y_normalized)\n",
    "    mse_mean = np.mean((pred_mean-true_mean)**2)\n",
    "    mse_q025 = np.mean((pred_q025-true_q025)**2)\n",
    "    mse_q975 = np.mean((pred_q975-true_q975)**2)\n",
    "    return mse_mean, mse_q025, mse_q975"
   ]
  },
  {
   "cell_type": "markdown",
   "metadata": {},
   "source": [
    "## Experiments"
   ]
  },
  {
   "cell_type": "code",
   "execution_count": 59,
   "metadata": {},
   "outputs": [
    {
     "name": "stdout",
     "output_type": "stream",
     "text": [
      "Epoch: 1\n",
      "Train loss: 0.13041\n",
      "Val loss: 0.11409\n",
      "Epoch: 2\n",
      "Train loss: 0.11188\n",
      "Val loss: 0.11170\n",
      "Epoch: 3\n",
      "Train loss: 0.10990\n",
      "Val loss: 0.11059\n",
      "Epoch: 4\n",
      "Train loss: 0.10886\n",
      "Val loss: 0.11090\n",
      "Epoch: 5\n",
      "Train loss: 0.10816\n",
      "Val loss: 0.11083\n"
     ]
    },
    {
     "ename": "KeyboardInterrupt",
     "evalue": "",
     "output_type": "error",
     "traceback": [
      "\u001b[1;31m---------------------------------------------------------------------------\u001b[0m",
      "\u001b[1;31mKeyboardInterrupt\u001b[0m                         Traceback (most recent call last)",
      "\u001b[1;32mc:\\Users\\97255\\Desktop\\Bayesian Inference using DL\\simulation-based-inference\\simple_case_exp.ipynb Cell 12\u001b[0m in \u001b[0;36m<cell line: 30>\u001b[1;34m()\u001b[0m\n\u001b[0;32m     <a href='vscode-notebook-cell:/c%3A/Users/97255/Desktop/Bayesian%20Inference%20using%20DL/simulation-based-inference/simple_case_exp.ipynb#X40sZmlsZQ%3D%3D?line=27'>28</a>\u001b[0m md_mean \u001b[39m=\u001b[39m MLP_light(p, p)\u001b[39m.\u001b[39mto(device)\n\u001b[0;32m     <a href='vscode-notebook-cell:/c%3A/Users/97255/Desktop/Bayesian%20Inference%20using%20DL/simulation-based-inference/simple_case_exp.ipynb#X40sZmlsZQ%3D%3D?line=28'>29</a>\u001b[0m md_mean_es \u001b[39m=\u001b[39m MLP_light(p, p)\u001b[39m.\u001b[39mto(device)\n\u001b[1;32m---> <a href='vscode-notebook-cell:/c%3A/Users/97255/Desktop/Bayesian%20Inference%20using%20DL/simulation-based-inference/simple_case_exp.ipynb#X40sZmlsZQ%3D%3D?line=29'>30</a>\u001b[0m train_losses, val_losses \u001b[39m=\u001b[39m train_model(md_mean, md_mean_es, lr, max_epoch, train_dataloader, val_data\u001b[39m=\u001b[39;49mvalid_dataloader)\n\u001b[0;32m     <a href='vscode-notebook-cell:/c%3A/Users/97255/Desktop/Bayesian%20Inference%20using%20DL/simulation-based-inference/simple_case_exp.ipynb#X40sZmlsZQ%3D%3D?line=30'>31</a>\u001b[0m show_loss(train_losses, val_losses)\n\u001b[0;32m     <a href='vscode-notebook-cell:/c%3A/Users/97255/Desktop/Bayesian%20Inference%20using%20DL/simulation-based-inference/simple_case_exp.ipynb#X40sZmlsZQ%3D%3D?line=31'>32</a>\u001b[0m torch\u001b[39m.\u001b[39msave(md_mean\u001b[39m.\u001b[39mstate_dict(), \u001b[39m'\u001b[39m\u001b[39m./model/mean_p\u001b[39m\u001b[39m'\u001b[39m\u001b[39m+\u001b[39m\u001b[39mstr\u001b[39m(p)\u001b[39m+\u001b[39m\u001b[39m'\u001b[39m\u001b[39m.pt\u001b[39m\u001b[39m'\u001b[39m)\n",
      "\u001b[1;32mc:\\Users\\97255\\Desktop\\Bayesian Inference using DL\\simulation-based-inference\\simple_case_exp.ipynb Cell 12\u001b[0m in \u001b[0;36mtrain_model\u001b[1;34m(model, model_es, lr, epochs, train_data, loss_type, q, val_data, early_stop)\u001b[0m\n\u001b[0;32m     <a href='vscode-notebook-cell:/c%3A/Users/97255/Desktop/Bayesian%20Inference%20using%20DL/simulation-based-inference/simple_case_exp.ipynb#X40sZmlsZQ%3D%3D?line=48'>49</a>\u001b[0m es_flag \u001b[39m=\u001b[39m \u001b[39m0\u001b[39m\n\u001b[0;32m     <a href='vscode-notebook-cell:/c%3A/Users/97255/Desktop/Bayesian%20Inference%20using%20DL/simulation-based-inference/simple_case_exp.ipynb#X40sZmlsZQ%3D%3D?line=49'>50</a>\u001b[0m \u001b[39mfor\u001b[39;00m i \u001b[39min\u001b[39;00m \u001b[39mrange\u001b[39m(epochs):\n\u001b[1;32m---> <a href='vscode-notebook-cell:/c%3A/Users/97255/Desktop/Bayesian%20Inference%20using%20DL/simulation-based-inference/simple_case_exp.ipynb#X40sZmlsZQ%3D%3D?line=50'>51</a>\u001b[0m     train_loss \u001b[39m=\u001b[39m train_epoch(model, optimizer, train_data, loss_type, q)\n\u001b[0;32m     <a href='vscode-notebook-cell:/c%3A/Users/97255/Desktop/Bayesian%20Inference%20using%20DL/simulation-based-inference/simple_case_exp.ipynb#X40sZmlsZQ%3D%3D?line=51'>52</a>\u001b[0m     \u001b[39mprint\u001b[39m(\u001b[39m'\u001b[39m\u001b[39mEpoch: \u001b[39m\u001b[39m{}\u001b[39;00m\u001b[39m'\u001b[39m\u001b[39m.\u001b[39mformat(i\u001b[39m+\u001b[39m\u001b[39m1\u001b[39m))\n\u001b[0;32m     <a href='vscode-notebook-cell:/c%3A/Users/97255/Desktop/Bayesian%20Inference%20using%20DL/simulation-based-inference/simple_case_exp.ipynb#X40sZmlsZQ%3D%3D?line=52'>53</a>\u001b[0m     \u001b[39mprint\u001b[39m(\u001b[39m'\u001b[39m\u001b[39mTrain loss: \u001b[39m\u001b[39m{:.5f}\u001b[39;00m\u001b[39m'\u001b[39m\u001b[39m.\u001b[39mformat(train_loss))\n",
      "\u001b[1;32mc:\\Users\\97255\\Desktop\\Bayesian Inference using DL\\simulation-based-inference\\simple_case_exp.ipynb Cell 12\u001b[0m in \u001b[0;36mtrain_epoch\u001b[1;34m(model, optimizer, data_loader, loss_type, q)\u001b[0m\n\u001b[0;32m     <a href='vscode-notebook-cell:/c%3A/Users/97255/Desktop/Bayesian%20Inference%20using%20DL/simulation-based-inference/simple_case_exp.ipynb#X40sZmlsZQ%3D%3D?line=19'>20</a>\u001b[0m     optimizer\u001b[39m.\u001b[39mzero_grad()\n\u001b[0;32m     <a href='vscode-notebook-cell:/c%3A/Users/97255/Desktop/Bayesian%20Inference%20using%20DL/simulation-based-inference/simple_case_exp.ipynb#X40sZmlsZQ%3D%3D?line=20'>21</a>\u001b[0m     loss\u001b[39m.\u001b[39mbackward()\n\u001b[1;32m---> <a href='vscode-notebook-cell:/c%3A/Users/97255/Desktop/Bayesian%20Inference%20using%20DL/simulation-based-inference/simple_case_exp.ipynb#X40sZmlsZQ%3D%3D?line=21'>22</a>\u001b[0m     optimizer\u001b[39m.\u001b[39;49mstep()\n\u001b[0;32m     <a href='vscode-notebook-cell:/c%3A/Users/97255/Desktop/Bayesian%20Inference%20using%20DL/simulation-based-inference/simple_case_exp.ipynb#X40sZmlsZQ%3D%3D?line=22'>23</a>\u001b[0m \u001b[39mreturn\u001b[39;00m train_loss\u001b[39m/\u001b[39mn\n",
      "File \u001b[1;32mc:\\Users\\97255\\anaconda3\\envs\\pytorch\\lib\\site-packages\\torch\\optim\\optimizer.py:140\u001b[0m, in \u001b[0;36mOptimizer._hook_for_profile.<locals>.profile_hook_step.<locals>.wrapper\u001b[1;34m(*args, **kwargs)\u001b[0m\n\u001b[0;32m    138\u001b[0m profile_name \u001b[39m=\u001b[39m \u001b[39m\"\u001b[39m\u001b[39mOptimizer.step#\u001b[39m\u001b[39m{}\u001b[39;00m\u001b[39m.step\u001b[39m\u001b[39m\"\u001b[39m\u001b[39m.\u001b[39mformat(obj\u001b[39m.\u001b[39m\u001b[39m__class__\u001b[39m\u001b[39m.\u001b[39m\u001b[39m__name__\u001b[39m)\n\u001b[0;32m    139\u001b[0m \u001b[39mwith\u001b[39;00m torch\u001b[39m.\u001b[39mautograd\u001b[39m.\u001b[39mprofiler\u001b[39m.\u001b[39mrecord_function(profile_name):\n\u001b[1;32m--> 140\u001b[0m     out \u001b[39m=\u001b[39m func(\u001b[39m*\u001b[39margs, \u001b[39m*\u001b[39m\u001b[39m*\u001b[39mkwargs)\n\u001b[0;32m    141\u001b[0m     obj\u001b[39m.\u001b[39m_optimizer_step_code()\n\u001b[0;32m    142\u001b[0m     \u001b[39mreturn\u001b[39;00m out\n",
      "File \u001b[1;32mc:\\Users\\97255\\anaconda3\\envs\\pytorch\\lib\\site-packages\\torch\\optim\\optimizer.py:23\u001b[0m, in \u001b[0;36m_use_grad_for_differentiable.<locals>._use_grad\u001b[1;34m(self, *args, **kwargs)\u001b[0m\n\u001b[0;32m     21\u001b[0m \u001b[39mtry\u001b[39;00m:\n\u001b[0;32m     22\u001b[0m     torch\u001b[39m.\u001b[39mset_grad_enabled(\u001b[39mself\u001b[39m\u001b[39m.\u001b[39mdefaults[\u001b[39m'\u001b[39m\u001b[39mdifferentiable\u001b[39m\u001b[39m'\u001b[39m])\n\u001b[1;32m---> 23\u001b[0m     ret \u001b[39m=\u001b[39m func(\u001b[39mself\u001b[39m, \u001b[39m*\u001b[39margs, \u001b[39m*\u001b[39m\u001b[39m*\u001b[39mkwargs)\n\u001b[0;32m     24\u001b[0m \u001b[39mfinally\u001b[39;00m:\n\u001b[0;32m     25\u001b[0m     torch\u001b[39m.\u001b[39mset_grad_enabled(prev_grad)\n",
      "File \u001b[1;32mc:\\Users\\97255\\anaconda3\\envs\\pytorch\\lib\\site-packages\\torch\\optim\\adam.py:234\u001b[0m, in \u001b[0;36mAdam.step\u001b[1;34m(self, closure, grad_scaler)\u001b[0m\n\u001b[0;32m    231\u001b[0m                 \u001b[39mraise\u001b[39;00m \u001b[39mRuntimeError\u001b[39;00m(\u001b[39m'\u001b[39m\u001b[39m`requires_grad` is not supported for `step` in differentiable mode\u001b[39m\u001b[39m'\u001b[39m)\n\u001b[0;32m    232\u001b[0m             state_steps\u001b[39m.\u001b[39mappend(state[\u001b[39m'\u001b[39m\u001b[39mstep\u001b[39m\u001b[39m'\u001b[39m])\n\u001b[1;32m--> 234\u001b[0m     adam(params_with_grad,\n\u001b[0;32m    235\u001b[0m          grads,\n\u001b[0;32m    236\u001b[0m          exp_avgs,\n\u001b[0;32m    237\u001b[0m          exp_avg_sqs,\n\u001b[0;32m    238\u001b[0m          max_exp_avg_sqs,\n\u001b[0;32m    239\u001b[0m          state_steps,\n\u001b[0;32m    240\u001b[0m          amsgrad\u001b[39m=\u001b[39;49mgroup[\u001b[39m'\u001b[39;49m\u001b[39mamsgrad\u001b[39;49m\u001b[39m'\u001b[39;49m],\n\u001b[0;32m    241\u001b[0m          beta1\u001b[39m=\u001b[39;49mbeta1,\n\u001b[0;32m    242\u001b[0m          beta2\u001b[39m=\u001b[39;49mbeta2,\n\u001b[0;32m    243\u001b[0m          lr\u001b[39m=\u001b[39;49mgroup[\u001b[39m'\u001b[39;49m\u001b[39mlr\u001b[39;49m\u001b[39m'\u001b[39;49m],\n\u001b[0;32m    244\u001b[0m          weight_decay\u001b[39m=\u001b[39;49mgroup[\u001b[39m'\u001b[39;49m\u001b[39mweight_decay\u001b[39;49m\u001b[39m'\u001b[39;49m],\n\u001b[0;32m    245\u001b[0m          eps\u001b[39m=\u001b[39;49mgroup[\u001b[39m'\u001b[39;49m\u001b[39meps\u001b[39;49m\u001b[39m'\u001b[39;49m],\n\u001b[0;32m    246\u001b[0m          maximize\u001b[39m=\u001b[39;49mgroup[\u001b[39m'\u001b[39;49m\u001b[39mmaximize\u001b[39;49m\u001b[39m'\u001b[39;49m],\n\u001b[0;32m    247\u001b[0m          foreach\u001b[39m=\u001b[39;49mgroup[\u001b[39m'\u001b[39;49m\u001b[39mforeach\u001b[39;49m\u001b[39m'\u001b[39;49m],\n\u001b[0;32m    248\u001b[0m          capturable\u001b[39m=\u001b[39;49mgroup[\u001b[39m'\u001b[39;49m\u001b[39mcapturable\u001b[39;49m\u001b[39m'\u001b[39;49m],\n\u001b[0;32m    249\u001b[0m          differentiable\u001b[39m=\u001b[39;49mgroup[\u001b[39m'\u001b[39;49m\u001b[39mdifferentiable\u001b[39;49m\u001b[39m'\u001b[39;49m],\n\u001b[0;32m    250\u001b[0m          fused\u001b[39m=\u001b[39;49mgroup[\u001b[39m'\u001b[39;49m\u001b[39mfused\u001b[39;49m\u001b[39m'\u001b[39;49m],\n\u001b[0;32m    251\u001b[0m          grad_scale\u001b[39m=\u001b[39;49mgrad_scale,\n\u001b[0;32m    252\u001b[0m          found_inf\u001b[39m=\u001b[39;49mfound_inf)\n\u001b[0;32m    254\u001b[0m \u001b[39mreturn\u001b[39;00m loss\n",
      "File \u001b[1;32mc:\\Users\\97255\\anaconda3\\envs\\pytorch\\lib\\site-packages\\torch\\optim\\adam.py:300\u001b[0m, in \u001b[0;36madam\u001b[1;34m(params, grads, exp_avgs, exp_avg_sqs, max_exp_avg_sqs, state_steps, foreach, capturable, differentiable, fused, grad_scale, found_inf, amsgrad, beta1, beta2, lr, weight_decay, eps, maximize)\u001b[0m\n\u001b[0;32m    297\u001b[0m \u001b[39melse\u001b[39;00m:\n\u001b[0;32m    298\u001b[0m     func \u001b[39m=\u001b[39m _single_tensor_adam\n\u001b[1;32m--> 300\u001b[0m func(params,\n\u001b[0;32m    301\u001b[0m      grads,\n\u001b[0;32m    302\u001b[0m      exp_avgs,\n\u001b[0;32m    303\u001b[0m      exp_avg_sqs,\n\u001b[0;32m    304\u001b[0m      max_exp_avg_sqs,\n\u001b[0;32m    305\u001b[0m      state_steps,\n\u001b[0;32m    306\u001b[0m      amsgrad\u001b[39m=\u001b[39;49mamsgrad,\n\u001b[0;32m    307\u001b[0m      beta1\u001b[39m=\u001b[39;49mbeta1,\n\u001b[0;32m    308\u001b[0m      beta2\u001b[39m=\u001b[39;49mbeta2,\n\u001b[0;32m    309\u001b[0m      lr\u001b[39m=\u001b[39;49mlr,\n\u001b[0;32m    310\u001b[0m      weight_decay\u001b[39m=\u001b[39;49mweight_decay,\n\u001b[0;32m    311\u001b[0m      eps\u001b[39m=\u001b[39;49meps,\n\u001b[0;32m    312\u001b[0m      maximize\u001b[39m=\u001b[39;49mmaximize,\n\u001b[0;32m    313\u001b[0m      capturable\u001b[39m=\u001b[39;49mcapturable,\n\u001b[0;32m    314\u001b[0m      differentiable\u001b[39m=\u001b[39;49mdifferentiable,\n\u001b[0;32m    315\u001b[0m      grad_scale\u001b[39m=\u001b[39;49mgrad_scale,\n\u001b[0;32m    316\u001b[0m      found_inf\u001b[39m=\u001b[39;49mfound_inf)\n",
      "File \u001b[1;32mc:\\Users\\97255\\anaconda3\\envs\\pytorch\\lib\\site-packages\\torch\\optim\\adam.py:364\u001b[0m, in \u001b[0;36m_single_tensor_adam\u001b[1;34m(params, grads, exp_avgs, exp_avg_sqs, max_exp_avg_sqs, state_steps, grad_scale, found_inf, amsgrad, beta1, beta2, lr, weight_decay, eps, maximize, capturable, differentiable)\u001b[0m\n\u001b[0;32m    362\u001b[0m \u001b[39m# Decay the first and second moment running average coefficient\u001b[39;00m\n\u001b[0;32m    363\u001b[0m exp_avg\u001b[39m.\u001b[39mmul_(beta1)\u001b[39m.\u001b[39madd_(grad, alpha\u001b[39m=\u001b[39m\u001b[39m1\u001b[39m \u001b[39m-\u001b[39m beta1)\n\u001b[1;32m--> 364\u001b[0m exp_avg_sq\u001b[39m.\u001b[39;49mmul_(beta2)\u001b[39m.\u001b[39;49maddcmul_(grad, grad\u001b[39m.\u001b[39;49mconj(), value\u001b[39m=\u001b[39;49m\u001b[39m1\u001b[39;49m \u001b[39m-\u001b[39;49m beta2)\n\u001b[0;32m    366\u001b[0m \u001b[39mif\u001b[39;00m capturable \u001b[39mor\u001b[39;00m differentiable:\n\u001b[0;32m    367\u001b[0m     step \u001b[39m=\u001b[39m step_t\n",
      "\u001b[1;31mKeyboardInterrupt\u001b[0m: "
     ]
    }
   ],
   "source": [
    "p = 10\n",
    "theta = 0.05\n",
    "a = 10\n",
    "sigma = 1\n",
    "lr = 0.001 # learning rate\n",
    "max_epoch = 40\n",
    "generator = Generator_eye(p, theta, (-a,a))\n",
    "\n",
    "rng.seed(0)\n",
    "gamma_train, beta_train, Y_train = generator.generate_samples(1000000)\n",
    "gamma_val, beta_val, Y_val = generator.generate_samples(10000)\n",
    "\n",
    "rng.seed(1)\n",
    "gamma_test, beta_test, Y_test = generator.generate_samples(10000)\n",
    "\n",
    "mean = Y_train.mean(0)\n",
    "std = Y_train.std(0)\n",
    "Y_train = (Y_train - mean) / std \n",
    "Y_val = (Y_val - mean) / std \n",
    "train_dataset = TensorDataset(torch.Tensor(Y_train), torch.Tensor(beta_train))\n",
    "val_dataset = TensorDataset(torch.Tensor(Y_val), torch.Tensor(beta_val))\n",
    "\n",
    "Y_test_normalized = (Y_test - mean) / std \n",
    "\n",
    "train_dataloader = DataLoader(train_dataset, batch_size=256, shuffle=True)\n",
    "valid_dataloader = DataLoader(val_dataset, batch_size=len(val_dataset))\n",
    "\n",
    "md_mean = MLP_light(p, p).to(device)\n",
    "md_mean_es = MLP_light(p, p).to(device)\n",
    "train_losses, val_losses = train_model(md_mean, md_mean_es, lr, max_epoch, train_dataloader, val_data=valid_dataloader)\n",
    "show_loss(train_losses, val_losses)\n",
    "torch.save(md_mean.state_dict(), './model/mean_p'+str(p)+'.pt')\n",
    "torch.save(md_mean_es.state_dict(), './model/mean_p'+str(p)+'_es.pt')\n",
    "\n",
    "md_q025 = MLP_light(p, p).to(device)\n",
    "md_q025_es = MLP_light(p, p).to(device)\n",
    "train_losses, val_losses = train_model(md_q025, md_q025_es, lr, max_epoch, train_dataloader, \n",
    "                                        loss_type='quantile', q=0.025, val_data=valid_dataloader)\n",
    "show_loss(train_losses, val_losses)\n",
    "torch.save(md_q025.state_dict(), './model/q025_p'+str(p)+'.pt')\n",
    "torch.save(md_q025_es.state_dict(), './model/q025_p'+str(p)+'_es.pt')\n",
    "\n",
    "md_q975 = MLP_light(p, p).to(device)\n",
    "md_q975_es = MLP_light(p, p).to(device)\n",
    "train_losses, val_losses = train_model(md_q975, md_q975_es, lr, max_epoch, train_dataloader, \n",
    "                                        loss_type='quantile', q=0.975, val_data=valid_dataloader)\n",
    "show_loss(train_losses, val_losses)\n",
    "torch.save(md_q975.state_dict(), './model/q975_p'+str(p)+'.pt')\n",
    "torch.save(md_q975_es.state_dict(), './model/q975_p'+str(p)+'_es.pt')\n",
    "\n",
    "compute_mses(md_mean_es, md_q025_es, md_q975_es, Y_test, Y_test_normalized, theta, a, sigma)"
   ]
  },
  {
   "cell_type": "code",
   "execution_count": 56,
   "metadata": {},
   "outputs": [
    {
     "data": {
      "text/plain": [
       "'./model_p10.pt'"
      ]
     },
     "execution_count": 56,
     "metadata": {},
     "output_type": "execute_result"
    }
   ],
   "source": [
    "a = 10\n",
    "b = './model_p' + str(a) + '.pt'\n",
    "b"
   ]
  },
  {
   "cell_type": "code",
   "execution_count": 10,
   "metadata": {},
   "outputs": [],
   "source": [
    "generator_eye = Generator_eye(p=10, theta=0.05, beta_range=(-10,10))"
   ]
  },
  {
   "cell_type": "code",
   "execution_count": 11,
   "metadata": {},
   "outputs": [],
   "source": [
    "rng.seed(0)\n",
    "gamma_train, beta_train, Y_train = generator_eye.generate_samples(1000000)\n",
    "gamma_val, beta_val, Y_val = generator_eye.generate_samples(10000)"
   ]
  },
  {
   "cell_type": "code",
   "execution_count": 39,
   "metadata": {},
   "outputs": [],
   "source": [
    "rng.seed(1)\n",
    "gamma_test, beta_test, Y_test = generator_eye.generate_samples(10000)"
   ]
  },
  {
   "cell_type": "code",
   "execution_count": 12,
   "metadata": {},
   "outputs": [],
   "source": [
    "mean = Y_train.mean(0)\n",
    "std = Y_train.std(0)\n",
    "Y_train = (Y_train - mean) / std \n",
    "Y_val = (Y_val - mean) / std \n",
    "train_dataset = TensorDataset(torch.Tensor(Y_train), torch.Tensor(beta_train))\n",
    "val_dataset = TensorDataset(torch.Tensor(Y_val), torch.Tensor(beta_val))"
   ]
  },
  {
   "cell_type": "code",
   "execution_count": 40,
   "metadata": {},
   "outputs": [],
   "source": [
    "Y_test_normalized = (Y_test - mean) / std "
   ]
  },
  {
   "cell_type": "code",
   "execution_count": 13,
   "metadata": {},
   "outputs": [],
   "source": [
    "train_dataloader = DataLoader(train_dataset, batch_size=256, shuffle=True)\n",
    "valid_dataloader = DataLoader(val_dataset, batch_size=len(val_dataset))"
   ]
  },
  {
   "cell_type": "code",
   "execution_count": 14,
   "metadata": {},
   "outputs": [
    {
     "name": "stdout",
     "output_type": "stream",
     "text": [
      "Epoch: 1\n",
      "Train loss: 0.13017\n",
      "Val loss: 0.11855\n",
      "Epoch: 2\n",
      "Train loss: 0.11183\n",
      "Val loss: 0.11297\n",
      "Epoch: 3\n",
      "Train loss: 0.10996\n",
      "Val loss: 0.11107\n",
      "Epoch: 4\n",
      "Train loss: 0.10881\n",
      "Val loss: 0.11047\n",
      "Epoch: 5\n",
      "Train loss: 0.10826\n",
      "Val loss: 0.11108\n",
      "Epoch: 6\n",
      "Train loss: 0.10770\n",
      "Val loss: 0.10940\n",
      "Epoch: 7\n",
      "Train loss: 0.10733\n",
      "Val loss: 0.10917\n",
      "Epoch: 8\n",
      "Train loss: 0.10705\n",
      "Val loss: 0.10980\n",
      "Epoch: 9\n",
      "Train loss: 0.10678\n",
      "Val loss: 0.10954\n",
      "Epoch: 10\n",
      "Train loss: 0.10653\n",
      "Val loss: 0.10996\n",
      "Epoch: 11\n",
      "Train loss: 0.10632\n",
      "Val loss: 0.10877\n",
      "Epoch: 12\n",
      "Train loss: 0.10622\n",
      "Val loss: 0.11096\n",
      "Epoch: 13\n",
      "Train loss: 0.10605\n",
      "Val loss: 0.10881\n",
      "Epoch: 14\n",
      "Train loss: 0.10579\n",
      "Val loss: 0.10906\n",
      "Epoch: 15\n",
      "Train loss: 0.10568\n",
      "Val loss: 0.11005\n",
      "Epoch: 16\n",
      "Train loss: 0.10557\n",
      "Val loss: 0.10790\n",
      "Epoch: 17\n",
      "Train loss: 0.10545\n",
      "Val loss: 0.10826\n",
      "Epoch: 18\n",
      "Train loss: 0.10532\n",
      "Val loss: 0.10895\n",
      "Epoch: 19\n",
      "Train loss: 0.10513\n",
      "Val loss: 0.10902\n",
      "Epoch: 20\n",
      "Train loss: 0.10501\n",
      "Val loss: 0.10729\n"
     ]
    }
   ],
   "source": [
    "md = MLP_light(10, 10).to(device)\n",
    "train_losses, val_losses = train_model(md, 0.001, 20, train_dataloader, val_data=valid_dataloader)"
   ]
  },
  {
   "cell_type": "code",
   "execution_count": 18,
   "metadata": {},
   "outputs": [
    {
     "data": {
      "image/png": "[encoded data removed]",
      "text/plain": [
       "<Figure size 640x480 with 1 Axes>"
      ]
     },
     "metadata": {},
     "output_type": "display_data"
    }
   ],
   "source": [
    "show_loss(train_losses, val_losses)"
   ]
  },
  {
   "cell_type": "code",
   "execution_count": 41,
   "metadata": {},
   "outputs": [],
   "source": [
    "pred_mean = predict(md, Y_test_normalized)"
   ]
  },
  {
   "cell_type": "code",
   "execution_count": 42,
   "metadata": {},
   "outputs": [
    {
     "data": {
      "text/plain": [
       "0.10406858668109009"
      ]
     },
     "execution_count": 42,
     "metadata": {},
     "output_type": "execute_result"
    }
   ],
   "source": [
    "np.mean((pred_mean-beta_test)**2)"
   ]
  },
  {
   "cell_type": "code",
   "execution_count": null,
   "metadata": {},
   "outputs": [],
   "source": []
  },
  {
   "cell_type": "code",
   "execution_count": 43,
   "metadata": {},
   "outputs": [],
   "source": [
    "true_mean = np.zeros_like(Y_test)\n",
    "for i in range(Y_test.shape[0]):\n",
    "    for j in range(Y_test.shape[1]):\n",
    "        true_mean[i,j] = computePosMean(Y_test[i,j], 0.05, 10, 1)"
   ]
  },
  {
   "cell_type": "code",
   "execution_count": 44,
   "metadata": {},
   "outputs": [
    {
     "data": {
      "text/plain": [
       "0.005195776815775464"
      ]
     },
     "execution_count": 44,
     "metadata": {},
     "output_type": "execute_result"
    }
   ],
   "source": [
    "np.mean((pred_mean-true_mean)**2)"
   ]
  },
  {
   "cell_type": "code",
   "execution_count": null,
   "metadata": {},
   "outputs": [],
   "source": []
  }
 ],
 "metadata": {
  "kernelspec": {
   "display_name": "Python 3.9.13 ('pytorch')",
   "language": "python",
   "name": "python3"
  },
  "language_info": {
   "codemirror_mode": {
    "name": "ipython",
    "version": 3
   },
   "file_extension": ".py",
   "mimetype": "text/x-python",
   "name": "python",
   "nbconvert_exporter": "python",
   "pygments_lexer": "ipython3",
   "version": "3.9.13"
  },
  "orig_nbformat": 4,
  "vscode": {
   "interpreter": {
    "hash": "316998951c33e0ee3e0273da6bff9fbd12eb355acb0b0db849e965619b9a3872"
   }
  }
 },
 "nbformat": 4,
 "nbformat_minor": 2
}
