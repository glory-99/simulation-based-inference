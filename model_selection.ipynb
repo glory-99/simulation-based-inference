{
 "cells": [
  {
   "cell_type": "code",
   "execution_count": 1,
   "metadata": {},
   "outputs": [],
   "source": [
    "import numpy as np\n",
    "import numpy.random as rng\n",
    "import torch"
   ]
  },
  {
   "cell_type": "code",
   "execution_count": 2,
   "metadata": {},
   "outputs": [],
   "source": [
    "p = 1000\n",
    "N = 100\n",
    "rho = 0\n",
    "theta = 0.02\n",
    "beta_range = (-3, 3)"
   ]
  },
  {
   "cell_type": "code",
   "execution_count": 3,
   "metadata": {},
   "outputs": [],
   "source": [
    "Sigma = np.ones((p, p)) * rho\n",
    "Sigma = Sigma + np.diag(np.ones(p) * (1-rho))\n",
    "X = rng.multivariate_normal(np.zeros(p), Sigma, N)\n",
    "X = X - np.mean(X, axis=0)\n",
    "X = X * np.sqrt(N / np.sum(X**2, axis=0))"
   ]
  }
 ],
 "metadata": {
  "kernelspec": {
   "display_name": "Python 3.7.9 ('pytorch')",
   "language": "python",
   "name": "python3"
  },
  "language_info": {
   "codemirror_mode": {
    "name": "ipython",
    "version": 3
   },
   "file_extension": ".py",
   "mimetype": "text/x-python",
   "name": "python",
   "nbconvert_exporter": "python",
   "pygments_lexer": "ipython3",
   "version": "3.7.9"
  },
  "orig_nbformat": 4,
  "vscode": {
   "interpreter": {
    "hash": "28f8cf0a8a4d3996c532b07e251eb4af62f7beb2b6ca98348312838517986615"
   }
  }
 },
 "nbformat": 4,
 "nbformat_minor": 2
}
